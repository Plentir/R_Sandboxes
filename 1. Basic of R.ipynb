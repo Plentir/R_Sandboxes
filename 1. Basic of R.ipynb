{
  "cells": [
    {
      "metadata": {},
      "cell_type": "markdown",
      "source": "## 1. 변수 할당하기"
    },
    {
      "metadata": {
        "ExecuteTime": {
          "start_time": "2019-07-03T04:22:43.516Z",
          "end_time": "2019-07-03T04:22:43.855739Z"
        },
        "trusted": true
      },
      "cell_type": "code",
      "source": "x1 <- 10  # 변수 지정하기\nx2 <- c(1, 5, 10, 15, 20)  # 여러 값을 하나의 변수에 지정하기\nx3 <- c(101:110)  # 수열을 하나의 변수에 지정하기\nx4 <- seq(101, 110)  # x3과 동일한 결과\nx5 <- seq(101, 110, by=3)  # 3씩 증가하는 수열을 하나의 변수에 지정하기\ny1 <- \"hi\"\ny2 <- c(\"a\", \"b\", \"hello\")\n\nprint(x1)\nprint(x2)\nprint(x3)\nprint(x4)\nprint(x5)\nprint(y1)\nprint(y2)\n\n# 패키지 설치 및 로드하기\n# install.packages(\"package_name\")\n# library(\"package_name\")",
      "execution_count": 1,
      "outputs": [
        {
          "output_type": "stream",
          "text": "[1] 10\n[1]  1  5 10 15 20\n [1] 101 102 103 104 105 106 107 108 109 110\n [1] 101 102 103 104 105 106 107 108 109 110\n[1] 101 104 107 110\n[1] \"hi\"\n[1] \"a\"     \"b\"     \"hello\"\n",
          "name": "stdout"
        }
      ]
    },
    {
      "metadata": {
        "ExecuteTime": {
          "start_time": "2019-07-03T04:22:45.298Z",
          "end_time": "2019-07-03T04:22:45.499012Z"
        },
        "trusted": true
      },
      "cell_type": "code",
      "source": "str(x5)  # 변수의 모든 속성 확인\n# num = 숫자형, [1:4] = 4개의 데이터, 포함하는 값 목록\nlength(x5)  # 변수의 데이터 길이",
      "execution_count": 2,
      "outputs": [
        {
          "output_type": "stream",
          "text": " num [1:4] 101 104 107 110\n",
          "name": "stdout"
        },
        {
          "output_type": "display_data",
          "data": {
            "text/plain": "[1] 4",
            "text/latex": "4",
            "text/markdown": "4",
            "text/html": "4"
          },
          "metadata": {}
        }
      ]
    },
    {
      "metadata": {
        "ExecuteTime": {
          "start_time": "2019-07-03T04:22:46.882Z",
          "end_time": "2019-07-03T04:22:46.474885Z"
        },
        "trusted": true
      },
      "cell_type": "code",
      "source": "str(y2)\nlength(y2)",
      "execution_count": 3,
      "outputs": [
        {
          "output_type": "stream",
          "text": " chr [1:3] \"a\" \"b\" \"hello\"\n",
          "name": "stdout"
        },
        {
          "output_type": "display_data",
          "data": {
            "text/plain": "[1] 3",
            "text/latex": "3",
            "text/markdown": "3",
            "text/html": "3"
          },
          "metadata": {}
        }
      ]
    },
    {
      "metadata": {
        "ExecuteTime": {
          "start_time": "2019-07-03T04:22:50.162Z",
          "end_time": "2019-07-03T04:22:49.760467Z"
        },
        "trusted": true
      },
      "cell_type": "code",
      "source": "logi <- c(TRUE, TRUE, FALSE, TRUE)  # 논리형 데이터 집합\nstr(logi)\nlength(logi)",
      "execution_count": 4,
      "outputs": [
        {
          "output_type": "stream",
          "text": " logi [1:4] TRUE TRUE FALSE TRUE\n",
          "name": "stdout"
        },
        {
          "output_type": "display_data",
          "data": {
            "text/plain": "[1] 4",
            "text/latex": "4",
            "text/markdown": "4",
            "text/html": "4"
          },
          "metadata": {}
        }
      ]
    },
    {
      "metadata": {
        "ExecuteTime": {
          "start_time": "2019-07-03T04:23:13.388Z",
          "end_time": "2019-07-03T04:23:13.554082Z"
        },
        "trusted": true
      },
      "cell_type": "code",
      "source": "typeof(logi)  # 변수의 데이터 유형만 확인하는 함수\nmode(logi)  # 변수의 데이터 유형만 확인하는 함수",
      "execution_count": 5,
      "outputs": [
        {
          "output_type": "display_data",
          "data": {
            "text/plain": "[1] \"logical\"",
            "text/latex": "'logical'",
            "text/markdown": "'logical'",
            "text/html": "'logical'"
          },
          "metadata": {}
        },
        {
          "output_type": "display_data",
          "data": {
            "text/plain": "[1] \"logical\"",
            "text/latex": "'logical'",
            "text/markdown": "'logical'",
            "text/html": "'logical'"
          },
          "metadata": {}
        }
      ]
    },
    {
      "metadata": {
        "ExecuteTime": {
          "start_time": "2019-07-03T04:23:16.94Z",
          "end_time": "2019-07-03T04:23:16.566973Z"
        },
        "trusted": true
      },
      "cell_type": "code",
      "source": "not_used_data1 <- c(101:200)\nnot_used_data2 <- c(1:100)\n\nremove(not_used_data1)  # 필요없는 데이터 집합 삭제\nrm(not_used_data2)  # 필요없는 데이터 집합 삭제",
      "execution_count": 6,
      "outputs": []
    },
    {
      "metadata": {},
      "cell_type": "markdown",
      "source": ""
    },
    {
      "metadata": {},
      "cell_type": "markdown",
      "source": "------\n## 2. 행렬"
    },
    {
      "metadata": {
        "ExecuteTime": {
          "start_time": "2019-07-03T04:23:20.683Z",
          "end_time": "2019-07-03T04:23:20.289778Z"
        },
        "trusted": true
      },
      "cell_type": "code",
      "source": "data <- c(\"A\", \"B\", \"C\", \"D\", \"e\", \"f\", \"g\", \"h\")",
      "execution_count": 7,
      "outputs": []
    },
    {
      "metadata": {
        "ExecuteTime": {
          "start_time": "2019-07-03T04:23:22.203Z",
          "end_time": "2019-07-03T04:23:22.238162Z"
        },
        "trusted": true
      },
      "cell_type": "code",
      "source": "mat_a <- matrix(data, nrow=2, ncol=4)\nmat_a",
      "execution_count": 8,
      "outputs": [
        {
          "output_type": "display_data",
          "data": {
            "text/plain": "     [,1] [,2] [,3] [,4]\n[1,] A    C    e    g   \n[2,] B    D    f    h   ",
            "text/latex": "A matrix: 2 x 4 of type chr\n\\begin{tabular}{llll}\n\t A & C & e & g\\\\\n\t B & D & f & h\\\\\n\\end{tabular}\n",
            "text/markdown": "\nA matrix: 2 x 4 of type chr\n\n| A | C | e | g |\n| B | D | f | h |\n\n",
            "text/html": "<table>\n<caption>A matrix: 2 x 4 of type chr</caption>\n<tbody>\n\t<tr><td>A</td><td>C</td><td>e</td><td>g</td></tr>\n\t<tr><td>B</td><td>D</td><td>f</td><td>h</td></tr>\n</tbody>\n</table>\n"
          },
          "metadata": {}
        }
      ]
    },
    {
      "metadata": {
        "ExecuteTime": {
          "start_time": "2019-07-03T04:23:23.882Z",
          "end_time": "2019-07-03T04:23:23.481507Z"
        },
        "trusted": true
      },
      "cell_type": "code",
      "source": "mat_b <- matrix(data, nrow=2, ncol=4, byrow=T)\nmat_b",
      "execution_count": 9,
      "outputs": [
        {
          "output_type": "display_data",
          "data": {
            "text/plain": "     [,1] [,2] [,3] [,4]\n[1,] A    B    C    D   \n[2,] e    f    g    h   ",
            "text/latex": "A matrix: 2 x 4 of type chr\n\\begin{tabular}{llll}\n\t A & B & C & D\\\\\n\t e & f & g & h\\\\\n\\end{tabular}\n",
            "text/markdown": "\nA matrix: 2 x 4 of type chr\n\n| A | B | C | D |\n| e | f | g | h |\n\n",
            "text/html": "<table>\n<caption>A matrix: 2 x 4 of type chr</caption>\n<tbody>\n\t<tr><td>A</td><td>B</td><td>C</td><td>D</td></tr>\n\t<tr><td>e</td><td>f</td><td>g</td><td>h</td></tr>\n</tbody>\n</table>\n"
          },
          "metadata": {}
        }
      ]
    },
    {
      "metadata": {
        "ExecuteTime": {
          "start_time": "2019-07-03T04:23:28.619Z",
          "end_time": "2019-07-03T04:23:28.219352Z"
        },
        "trusted": true
      },
      "cell_type": "code",
      "source": "print(mat_a)",
      "execution_count": 10,
      "outputs": [
        {
          "output_type": "stream",
          "text": "     [,1] [,2] [,3] [,4]\n[1,] \"A\"  \"C\"  \"e\"  \"g\" \n[2,] \"B\"  \"D\"  \"f\"  \"h\" \n",
          "name": "stdout"
        }
      ]
    },
    {
      "metadata": {
        "ExecuteTime": {
          "start_time": "2019-07-03T04:23:29.995Z",
          "end_time": "2019-07-03T04:23:29.599989Z"
        },
        "trusted": true
      },
      "cell_type": "code",
      "source": "print(mat_b)",
      "execution_count": 11,
      "outputs": [
        {
          "output_type": "stream",
          "text": "     [,1] [,2] [,3] [,4]\n[1,] \"A\"  \"B\"  \"C\"  \"D\" \n[2,] \"e\"  \"f\"  \"g\"  \"h\" \n",
          "name": "stdout"
        }
      ]
    },
    {
      "metadata": {
        "ExecuteTime": {
          "start_time": "2019-07-03T04:40:40.706Z",
          "end_time": "2019-07-03T04:40:40.315326Z"
        },
        "trusted": true
      },
      "cell_type": "code",
      "source": "d_names <- list(c(1, 2, 3), c(\"Col 1\", \"Col 2\", \"Col 3\", \"Col 4\"), c(\"v1\", \"v2\", \"v3\", \"v4\", \"v5\", \"v6\"))\nd_names",
      "execution_count": 36,
      "outputs": [
        {
          "output_type": "display_data",
          "data": {
            "text/plain": "[[1]]\n[1] 1 2 3\n\n[[2]]\n[1] \"Col 1\" \"Col 2\" \"Col 3\" \"Col 4\"\n\n[[3]]\n[1] \"v1\" \"v2\" \"v3\" \"v4\" \"v5\" \"v6\"\n",
            "text/latex": "\\begin{enumerate}\n\\item \\begin{enumerate*}\n\\item 1\n\\item 2\n\\item 3\n\\end{enumerate*}\n\n\\item \\begin{enumerate*}\n\\item 'Col 1'\n\\item 'Col 2'\n\\item 'Col 3'\n\\item 'Col 4'\n\\end{enumerate*}\n\n\\item \\begin{enumerate*}\n\\item 'v1'\n\\item 'v2'\n\\item 'v3'\n\\item 'v4'\n\\item 'v5'\n\\item 'v6'\n\\end{enumerate*}\n\n\\end{enumerate}\n",
            "text/markdown": "1. 1. 1\n2. 2\n3. 3\n\n\n\n2. 1. 'Col 1'\n2. 'Col 2'\n3. 'Col 3'\n4. 'Col 4'\n\n\n\n3. 1. 'v1'\n2. 'v2'\n3. 'v3'\n4. 'v4'\n5. 'v5'\n6. 'v6'\n\n\n\n\n\n",
            "text/html": "<ol>\n\t<li><ol class=list-inline>\n\t<li>1</li>\n\t<li>2</li>\n\t<li>3</li>\n</ol>\n</li>\n\t<li><ol class=list-inline>\n\t<li>'Col 1'</li>\n\t<li>'Col 2'</li>\n\t<li>'Col 3'</li>\n\t<li>'Col 4'</li>\n</ol>\n</li>\n\t<li><ol class=list-inline>\n\t<li>'v1'</li>\n\t<li>'v2'</li>\n\t<li>'v3'</li>\n\t<li>'v4'</li>\n\t<li>'v5'</li>\n\t<li>'v6'</li>\n</ol>\n</li>\n</ol>\n"
          },
          "metadata": {}
        }
      ]
    },
    {
      "metadata": {
        "ExecuteTime": {
          "start_time": "2019-07-03T04:41:52.251Z",
          "end_time": "2019-07-03T04:41:51.83626Z"
        },
        "trusted": true
      },
      "cell_type": "code",
      "source": "print(d_names)",
      "execution_count": 39,
      "outputs": [
        {
          "output_type": "stream",
          "text": "[[1]]\n[1] 1 2 3\n\n[[2]]\n[1] \"Col 1\" \"Col 2\" \"Col 3\" \"Col 4\"\n\n[[3]]\n[1] \"v1\" \"v2\" \"v3\" \"v4\" \"v5\" \"v6\"\n\n",
          "name": "stdout"
        }
      ]
    },
    {
      "metadata": {
        "ExecuteTime": {
          "start_time": "2019-07-03T04:42:28.017Z",
          "end_time": "2019-07-03T04:42:27.601605Z"
        },
        "trusted": true
      },
      "cell_type": "code",
      "source": "str(d_names)",
      "execution_count": 40,
      "outputs": [
        {
          "output_type": "stream",
          "text": "List of 3\n $ : num [1:3] 1 2 3\n $ : chr [1:4] \"Col 1\" \"Col 2\" \"Col 3\" \"Col 4\"\n $ : chr [1:6] \"v1\" \"v2\" \"v3\" \"v4\" ...\n",
          "name": "stdout"
        }
      ]
    },
    {
      "metadata": {
        "trusted": true,
        "ExecuteTime": {
          "start_time": "2019-07-03T04:40:42.092Z",
          "end_time": "2019-07-03T04:40:41.711067Z"
        },
        "scrolled": true
      },
      "cell_type": "code",
      "source": "ary <- array(data, dim = c(3, 4, 6), dimnames = d_names)\nary",
      "execution_count": 37,
      "outputs": [
        {
          "output_type": "display_data",
          "data": {
            "text/plain": ", , v1\n\n  Col 1 Col 2 Col 3 Col 4\n1 \"A\"   \"D\"   \"g\"   \"B\"  \n2 \"B\"   \"e\"   \"h\"   \"C\"  \n3 \"C\"   \"f\"   \"A\"   \"D\"  \n\n, , v2\n\n  Col 1 Col 2 Col 3 Col 4\n1 \"e\"   \"h\"   \"C\"   \"f\"  \n2 \"f\"   \"A\"   \"D\"   \"g\"  \n3 \"g\"   \"B\"   \"e\"   \"h\"  \n\n, , v3\n\n  Col 1 Col 2 Col 3 Col 4\n1 \"A\"   \"D\"   \"g\"   \"B\"  \n2 \"B\"   \"e\"   \"h\"   \"C\"  \n3 \"C\"   \"f\"   \"A\"   \"D\"  \n\n, , v4\n\n  Col 1 Col 2 Col 3 Col 4\n1 \"e\"   \"h\"   \"C\"   \"f\"  \n2 \"f\"   \"A\"   \"D\"   \"g\"  \n3 \"g\"   \"B\"   \"e\"   \"h\"  \n\n, , v5\n\n  Col 1 Col 2 Col 3 Col 4\n1 \"A\"   \"D\"   \"g\"   \"B\"  \n2 \"B\"   \"e\"   \"h\"   \"C\"  \n3 \"C\"   \"f\"   \"A\"   \"D\"  \n\n, , v6\n\n  Col 1 Col 2 Col 3 Col 4\n1 \"e\"   \"h\"   \"C\"   \"f\"  \n2 \"f\"   \"A\"   \"D\"   \"g\"  \n3 \"g\"   \"B\"   \"e\"   \"h\"  \n",
            "text/latex": "\\begin{enumerate*}\n\\item 'A'\n\\item 'B'\n\\item 'C'\n\\item 'D'\n\\item 'e'\n\\item 'f'\n\\item 'g'\n\\item 'h'\n\\item 'A'\n\\item 'B'\n\\item 'C'\n\\item 'D'\n\\item 'e'\n\\item 'f'\n\\item 'g'\n\\item 'h'\n\\item 'A'\n\\item 'B'\n\\item 'C'\n\\item 'D'\n\\item 'e'\n\\item 'f'\n\\item 'g'\n\\item 'h'\n\\item 'A'\n\\item 'B'\n\\item 'C'\n\\item 'D'\n\\item 'e'\n\\item 'f'\n\\item 'g'\n\\item 'h'\n\\item 'A'\n\\item 'B'\n\\item 'C'\n\\item 'D'\n\\item 'e'\n\\item 'f'\n\\item 'g'\n\\item 'h'\n\\item 'A'\n\\item 'B'\n\\item 'C'\n\\item 'D'\n\\item 'e'\n\\item 'f'\n\\item 'g'\n\\item 'h'\n\\item 'A'\n\\item 'B'\n\\item 'C'\n\\item 'D'\n\\item 'e'\n\\item 'f'\n\\item 'g'\n\\item 'h'\n\\item 'A'\n\\item 'B'\n\\item 'C'\n\\item 'D'\n\\item 'e'\n\\item 'f'\n\\item 'g'\n\\item 'h'\n\\item 'A'\n\\item 'B'\n\\item 'C'\n\\item 'D'\n\\item 'e'\n\\item 'f'\n\\item 'g'\n\\item 'h'\n\\end{enumerate*}\n",
            "text/markdown": "1. 'A'\n2. 'B'\n3. 'C'\n4. 'D'\n5. 'e'\n6. 'f'\n7. 'g'\n8. 'h'\n9. 'A'\n10. 'B'\n11. 'C'\n12. 'D'\n13. 'e'\n14. 'f'\n15. 'g'\n16. 'h'\n17. 'A'\n18. 'B'\n19. 'C'\n20. 'D'\n21. 'e'\n22. 'f'\n23. 'g'\n24. 'h'\n25. 'A'\n26. 'B'\n27. 'C'\n28. 'D'\n29. 'e'\n30. 'f'\n31. 'g'\n32. 'h'\n33. 'A'\n34. 'B'\n35. 'C'\n36. 'D'\n37. 'e'\n38. 'f'\n39. 'g'\n40. 'h'\n41. 'A'\n42. 'B'\n43. 'C'\n44. 'D'\n45. 'e'\n46. 'f'\n47. 'g'\n48. 'h'\n49. 'A'\n50. 'B'\n51. 'C'\n52. 'D'\n53. 'e'\n54. 'f'\n55. 'g'\n56. 'h'\n57. 'A'\n58. 'B'\n59. 'C'\n60. 'D'\n61. 'e'\n62. 'f'\n63. 'g'\n64. 'h'\n65. 'A'\n66. 'B'\n67. 'C'\n68. 'D'\n69. 'e'\n70. 'f'\n71. 'g'\n72. 'h'\n\n\n",
            "text/html": "<ol class=list-inline>\n\t<li>'A'</li>\n\t<li>'B'</li>\n\t<li>'C'</li>\n\t<li>'D'</li>\n\t<li>'e'</li>\n\t<li>'f'</li>\n\t<li>'g'</li>\n\t<li>'h'</li>\n\t<li>'A'</li>\n\t<li>'B'</li>\n\t<li>'C'</li>\n\t<li>'D'</li>\n\t<li>'e'</li>\n\t<li>'f'</li>\n\t<li>'g'</li>\n\t<li>'h'</li>\n\t<li>'A'</li>\n\t<li>'B'</li>\n\t<li>'C'</li>\n\t<li>'D'</li>\n\t<li>'e'</li>\n\t<li>'f'</li>\n\t<li>'g'</li>\n\t<li>'h'</li>\n\t<li>'A'</li>\n\t<li>'B'</li>\n\t<li>'C'</li>\n\t<li>'D'</li>\n\t<li>'e'</li>\n\t<li>'f'</li>\n\t<li>'g'</li>\n\t<li>'h'</li>\n\t<li>'A'</li>\n\t<li>'B'</li>\n\t<li>'C'</li>\n\t<li>'D'</li>\n\t<li>'e'</li>\n\t<li>'f'</li>\n\t<li>'g'</li>\n\t<li>'h'</li>\n\t<li>'A'</li>\n\t<li>'B'</li>\n\t<li>'C'</li>\n\t<li>'D'</li>\n\t<li>'e'</li>\n\t<li>'f'</li>\n\t<li>'g'</li>\n\t<li>'h'</li>\n\t<li>'A'</li>\n\t<li>'B'</li>\n\t<li>'C'</li>\n\t<li>'D'</li>\n\t<li>'e'</li>\n\t<li>'f'</li>\n\t<li>'g'</li>\n\t<li>'h'</li>\n\t<li>'A'</li>\n\t<li>'B'</li>\n\t<li>'C'</li>\n\t<li>'D'</li>\n\t<li>'e'</li>\n\t<li>'f'</li>\n\t<li>'g'</li>\n\t<li>'h'</li>\n\t<li>'A'</li>\n\t<li>'B'</li>\n\t<li>'C'</li>\n\t<li>'D'</li>\n\t<li>'e'</li>\n\t<li>'f'</li>\n\t<li>'g'</li>\n\t<li>'h'</li>\n</ol>\n"
          },
          "metadata": {}
        }
      ]
    },
    {
      "metadata": {
        "ExecuteTime": {
          "start_time": "2019-07-03T04:40:43.185Z",
          "end_time": "2019-07-03T04:40:42.785278Z"
        },
        "trusted": true
      },
      "cell_type": "code",
      "source": "print(ary)",
      "execution_count": 38,
      "outputs": [
        {
          "output_type": "stream",
          "text": ", , v1\n\n  Col 1 Col 2 Col 3 Col 4\n1 \"A\"   \"D\"   \"g\"   \"B\"  \n2 \"B\"   \"e\"   \"h\"   \"C\"  \n3 \"C\"   \"f\"   \"A\"   \"D\"  \n\n, , v2\n\n  Col 1 Col 2 Col 3 Col 4\n1 \"e\"   \"h\"   \"C\"   \"f\"  \n2 \"f\"   \"A\"   \"D\"   \"g\"  \n3 \"g\"   \"B\"   \"e\"   \"h\"  \n\n, , v3\n\n  Col 1 Col 2 Col 3 Col 4\n1 \"A\"   \"D\"   \"g\"   \"B\"  \n2 \"B\"   \"e\"   \"h\"   \"C\"  \n3 \"C\"   \"f\"   \"A\"   \"D\"  \n\n, , v4\n\n  Col 1 Col 2 Col 3 Col 4\n1 \"e\"   \"h\"   \"C\"   \"f\"  \n2 \"f\"   \"A\"   \"D\"   \"g\"  \n3 \"g\"   \"B\"   \"e\"   \"h\"  \n\n, , v5\n\n  Col 1 Col 2 Col 3 Col 4\n1 \"A\"   \"D\"   \"g\"   \"B\"  \n2 \"B\"   \"e\"   \"h\"   \"C\"  \n3 \"C\"   \"f\"   \"A\"   \"D\"  \n\n, , v6\n\n  Col 1 Col 2 Col 3 Col 4\n1 \"e\"   \"h\"   \"C\"   \"f\"  \n2 \"f\"   \"A\"   \"D\"   \"g\"  \n3 \"g\"   \"B\"   \"e\"   \"h\"  \n\n",
          "name": "stdout"
        }
      ]
    },
    {
      "metadata": {
        "ExecuteTime": {
          "start_time": "2019-07-03T04:34:06.319Z",
          "end_time": "2019-07-03T04:34:09.253299Z"
        },
        "trusted": true
      },
      "cell_type": "code",
      "source": "help(array)",
      "execution_count": 22,
      "outputs": []
    },
    {
      "metadata": {
        "ExecuteTime": {
          "start_time": "2019-07-03T04:47:45.098Z",
          "end_time": "2019-07-03T04:47:44.707341Z"
        },
        "trusted": true
      },
      "cell_type": "code",
      "source": "ID <- c(10032, 11231, 12520, 52023, 09612, 12351, 78438, 98472)\nSEX <- c(\"Male\", \"Female\", \"Male\", \"Male\", \"Male\", \"Female\", \"Female\", \"Male\")\nAGE <- c(14, 64, 23, 36, 17, 52, 31, 49)\nADDRESS <- c(\"서울\", \"인천\", \"광주\", \"부산\", \"대구\", \"전주\", \"김포\", \"양양\")",
      "execution_count": 42,
      "outputs": []
    },
    {
      "metadata": {
        "ExecuteTime": {
          "start_time": "2019-07-03T04:48:23.162Z",
          "end_time": "2019-07-03T04:48:22.802715Z"
        },
        "trusted": true
      },
      "cell_type": "code",
      "source": "df <- data.frame(ID, SEX, AGE, ADDRESS)\ndf",
      "execution_count": 44,
      "outputs": [
        {
          "output_type": "display_data",
          "data": {
            "text/plain": "  ID    SEX    AGE ADDRESS\n1 10032 Male   14  서울   \n2 11231 Female 64  인천   \n3 12520 Male   23  광주   \n4 52023 Male   36  부산   \n5  9612 Male   17  대구   \n6 12351 Female 52  전주   \n7 78438 Female 31  김포   \n8 98472 Male   49  양양   ",
            "text/latex": "A data.frame: 8 x 4\n\\begin{tabular}{r|llll}\n ID & SEX & AGE & ADDRESS\\\\\n <dbl> & <fct> & <dbl> & <fct>\\\\\n\\hline\n\t 10032 & Male   & 14 & 서울\\\\\n\t 11231 & Female & 64 & 인천\\\\\n\t 12520 & Male   & 23 & 광주\\\\\n\t 52023 & Male   & 36 & 부산\\\\\n\t  9612 & Male   & 17 & 대구\\\\\n\t 12351 & Female & 52 & 전주\\\\\n\t 78438 & Female & 31 & 김포\\\\\n\t 98472 & Male   & 49 & 양양\\\\\n\\end{tabular}\n",
            "text/markdown": "\nA data.frame: 8 x 4\n\n| ID &lt;dbl&gt; | SEX &lt;fct&gt; | AGE &lt;dbl&gt; | ADDRESS &lt;fct&gt; |\n|---|---|---|---|\n| 10032 | Male   | 14 | 서울 |\n| 11231 | Female | 64 | 인천 |\n| 12520 | Male   | 23 | 광주 |\n| 52023 | Male   | 36 | 부산 |\n|  9612 | Male   | 17 | 대구 |\n| 12351 | Female | 52 | 전주 |\n| 78438 | Female | 31 | 김포 |\n| 98472 | Male   | 49 | 양양 |\n\n",
            "text/html": "<table>\n<caption>A data.frame: 8 x 4</caption>\n<thead>\n\t<tr><th scope=col>ID</th><th scope=col>SEX</th><th scope=col>AGE</th><th scope=col>ADDRESS</th></tr>\n\t<tr><th scope=col>&lt;dbl&gt;</th><th scope=col>&lt;fct&gt;</th><th scope=col>&lt;dbl&gt;</th><th scope=col>&lt;fct&gt;</th></tr>\n</thead>\n<tbody>\n\t<tr><td>10032</td><td>Male  </td><td>14</td><td>서울</td></tr>\n\t<tr><td>11231</td><td>Female</td><td>64</td><td>인천</td></tr>\n\t<tr><td>12520</td><td>Male  </td><td>23</td><td>광주</td></tr>\n\t<tr><td>52023</td><td>Male  </td><td>36</td><td>부산</td></tr>\n\t<tr><td> 9612</td><td>Male  </td><td>17</td><td>대구</td></tr>\n\t<tr><td>12351</td><td>Female</td><td>52</td><td>전주</td></tr>\n\t<tr><td>78438</td><td>Female</td><td>31</td><td>김포</td></tr>\n\t<tr><td>98472</td><td>Male  </td><td>49</td><td>양양</td></tr>\n</tbody>\n</table>\n"
          },
          "metadata": {}
        }
      ]
    },
    {
      "metadata": {
        "ExecuteTime": {
          "start_time": "2019-07-03T04:48:53.66Z",
          "end_time": "2019-07-03T04:48:53.254854Z"
        },
        "trusted": true
      },
      "cell_type": "code",
      "source": "print(df)",
      "execution_count": 45,
      "outputs": [
        {
          "output_type": "stream",
          "text": "     ID    SEX AGE ADDRESS\n1 10032   Male  14    서울\n2 11231 Female  64    인천\n3 12520   Male  23    광주\n4 52023   Male  36    부산\n5  9612   Male  17    대구\n6 12351 Female  52    전주\n7 78438 Female  31    김포\n8 98472   Male  49    양양\n",
          "name": "stdout"
        }
      ]
    },
    {
      "metadata": {
        "ExecuteTime": {
          "start_time": "2019-07-03T04:49:41.537Z",
          "end_time": "2019-07-03T04:49:41.125664Z"
        },
        "trusted": true
      },
      "cell_type": "code",
      "source": "str(df)",
      "execution_count": 46,
      "outputs": [
        {
          "output_type": "stream",
          "text": "'data.frame':\t8 obs. of  4 variables:\n $ ID     : num  10032 11231 12520 52023 9612 ...\n $ SEX    : Factor w/ 2 levels \"Female\",\"Male\": 2 1 2 2 2 1 1 2\n $ AGE    : num  14 64 23 36 17 52 31 49\n $ ADDRESS: Factor w/ 8 levels \"광주\",\"김포\",..: 5 7 1 4 3 8 2 6\n",
          "name": "stdout"
        }
      ]
    },
    {
      "metadata": {},
      "cell_type": "markdown",
      "source": "------\n## 3. Import Data from External Source"
    },
    {
      "metadata": {
        "ExecuteTime": {
          "start_time": "2019-07-03T04:56:44.635Z",
          "end_time": "2019-07-03T05:00:09.714456Z"
        },
        "trusted": true
      },
      "cell_type": "code",
      "source": "install.packages(\"readxl\")",
      "execution_count": 49,
      "outputs": [
        {
          "output_type": "stream",
          "text": "Installing package into ‘/home/nbuser/R’\n(as ‘lib’ is unspecified)\n",
          "name": "stderr"
        }
      ]
    },
    {
      "metadata": {
        "trusted": true,
        "ExecuteTime": {
          "start_time": "2019-07-03T05:02:25.843Z",
          "end_time": "2019-07-03T05:02:25.517209Z"
        }
      },
      "cell_type": "code",
      "source": "library(readxl)",
      "execution_count": 50,
      "outputs": []
    },
    {
      "metadata": {
        "ExecuteTime": {
          "start_time": "2019-07-03T05:16:43.974Z",
          "end_time": "2019-07-03T05:16:44.147112Z"
        },
        "trusted": true
      },
      "cell_type": "code",
      "source": "raw_data <- read.table(\"test.txt\", encoding = \"utf8\", sep = \"\\t\", header = TRUE)\nraw_data",
      "execution_count": 58,
      "outputs": [
        {
          "output_type": "display_data",
          "data": {
            "text/plain": "     ID   Date       Time  Keyword           Rank Category  Source\n1     1   2019-05-16 08:00 유승현             1   전체      Naver \n2     2   2019-05-16 08:00 절대그이           2   전체      Naver \n3     3   2019-05-16 08:00 타다               3   전체      Naver \n4     4   2019-05-16 08:00 읶메뜨리넹         4   전체      Naver \n5     5   2019-05-16 08:00 공명               5   전체      Naver \n6     6   2019-05-16 08:00 오신환             6   전체      Naver \n7     7   2019-05-16 08:00 강신명             7   전체      Naver \n8     8   2019-05-16 08:00 정다은             8   전체      Naver \n9     9   2019-05-16 08:00 박한별             9   전체      Naver \n10   10   2019-05-16 08:00 이다지            10   전체      Naver \n11   11   2019-05-16 08:00 악인전            11   전체      Naver \n12   12   2019-05-16 08:00 방민아            12   전체      Naver \n13   13   2019-05-16 08:00 연애혁명          13   전체      Naver \n14   14   2019-05-16 08:00 라디오스타        14   전체      Naver \n15   15   2019-05-16 08:00 안양교            15   전체      Naver \n16   16   2019-05-16 08:00 타다 이용방법     16   전체      Naver \n17   17   2019-05-16 08:00 유인석            17   전체      Naver \n18   18   2019-05-16 08:00 황민현            18   전체      Naver \n19   19   2019-05-16 08:00 한끼줍쇼          19   전체      Naver \n20   20   2019-05-16 08:00 위너              20   전체      Naver \n21   21   2019-05-16 08:00 연애혁명           1   10대      Naver \n22   22   2019-05-16 08:00 최고의 엔딩        2   10대      Naver \n23   23   2019-05-16 08:00 버스도착정보       3   10대      Naver \n24   24   2019-05-16 08:00 위너               4   10대      Naver \n25   25   2019-05-16 08:00 그리즈만           5   10대      Naver \n26   26   2019-05-16 08:00 아이유             6   10대      Naver \n27   27   2019-05-16 08:00 나락즈             7   10대      Naver \n28   28   2019-05-16 08:00 롤 모바일 상점     8   10대      Naver \n29   29   2019-05-16 08:00 목요웹툰           9   10대      Naver \n30   30   2019-05-16 08:00 절대그이          10   10대      Naver \n...  ...  ...        ...   ...               ...  ...       ...   \n3451 3451 2019-05-30 08:00 노소영            11   40대      Naver \n3452 3452 2019-05-30 08:00 희토류            12   40대      Naver \n3453 3453 2019-05-30 08:00 유로파 결승       13   40대      Naver \n3454 3454 2019-05-30 08:00 아스날 첼시       14   40대      Naver \n3455 3455 2019-05-30 08:00 라디오스타        15   40대      Naver \n3456 3456 2019-05-30 08:00 부다페스트        16   40대      Naver \n3457 3457 2019-05-30 08:00 600달러           17   40대      Naver \n3458 3458 2019-05-30 08:00 이수나            18   40대      Naver \n3459 3459 2019-05-30 08:00 송가인            19   40대      Naver \n3460 3460 2019-05-30 08:00 마데카커버크림    20   40대      Naver \n3461 3461 2019-05-30 08:00 김희영             1   50대 이상 Naver \n3462 3462 2019-05-30 08:00 첼시 아스날        2   50대 이상 Naver \n3463 3463 2019-05-30 08:00 티앤씨재단 김희영  3   50대 이상 Naver \n3464 3464 2019-05-30 08:00 김현철 정신과의사  4   50대 이상 Naver \n3465 3465 2019-05-30 08:00 희토류             5   50대 이상 Naver \n3466 3466 2019-05-30 08:00 조로우             6   50대 이상 Naver \n3467 3467 2019-05-30 08:00 송철호             7   50대 이상 Naver \n3468 3468 2019-05-30 08:00 헝가리             8   50대 이상 Naver \n3469 3469 2019-05-30 08:00 부다페스트         9   50대 이상 Naver \n3470 3470 2019-05-30 08:00 이우현            10   50대 이상 Naver \n3471 3471 2019-05-30 08:00 최태원            11   50대 이상 Naver \n3472 3472 2019-05-30 08:00 신림동 cctv       12   50대 이상 Naver \n3473 3473 2019-05-30 08:00 라디오스타        13   50대 이상 Naver \n3474 3474 2019-05-30 08:00 최상주            14   50대 이상 Naver \n3475 3475 2019-05-30 08:00 노소영            15   50대 이상 Naver \n3476 3476 2019-05-30 08:00 연금복권 당첨번호 16   50대 이상 Naver \n3477 3477 2019-05-30 08:00 울산시장          17   50대 이상 Naver \n3478 3478 2019-05-30 08:00 싸이              18   50대 이상 Naver \n3479 3479 2019-05-30 08:00 유로파 결승       19   50대 이상 Naver \n3480 3480 2019-05-30 08:00 한상대            20   50대 이상 Naver ",
            "text/latex": "A data.frame: 3480 x 7\n\\begin{tabular}{r|lllllll}\n ID & Date & Time & Keyword & Rank & Category & Source\\\\\n <int> & <fct> & <fct> & <fct> & <int> & <fct> & <fct>\\\\\n\\hline\n\t  1 & 2019-05-16 & 08:00 & 유승현         &  1 & 전체 & Naver\\\\\n\t  2 & 2019-05-16 & 08:00 & 절대그이       &  2 & 전체 & Naver\\\\\n\t  3 & 2019-05-16 & 08:00 & 타다           &  3 & 전체 & Naver\\\\\n\t  4 & 2019-05-16 & 08:00 & 읶메뜨리넹     &  4 & 전체 & Naver\\\\\n\t  5 & 2019-05-16 & 08:00 & 공명           &  5 & 전체 & Naver\\\\\n\t  6 & 2019-05-16 & 08:00 & 오신환         &  6 & 전체 & Naver\\\\\n\t  7 & 2019-05-16 & 08:00 & 강신명         &  7 & 전체 & Naver\\\\\n\t  8 & 2019-05-16 & 08:00 & 정다은         &  8 & 전체 & Naver\\\\\n\t  9 & 2019-05-16 & 08:00 & 박한별         &  9 & 전체 & Naver\\\\\n\t 10 & 2019-05-16 & 08:00 & 이다지         & 10 & 전체 & Naver\\\\\n\t 11 & 2019-05-16 & 08:00 & 악인전         & 11 & 전체 & Naver\\\\\n\t 12 & 2019-05-16 & 08:00 & 방민아         & 12 & 전체 & Naver\\\\\n\t 13 & 2019-05-16 & 08:00 & 연애혁명       & 13 & 전체 & Naver\\\\\n\t 14 & 2019-05-16 & 08:00 & 라디오스타     & 14 & 전체 & Naver\\\\\n\t 15 & 2019-05-16 & 08:00 & 안양교         & 15 & 전체 & Naver\\\\\n\t 16 & 2019-05-16 & 08:00 & 타다 이용방법  & 16 & 전체 & Naver\\\\\n\t 17 & 2019-05-16 & 08:00 & 유인석         & 17 & 전체 & Naver\\\\\n\t 18 & 2019-05-16 & 08:00 & 황민현         & 18 & 전체 & Naver\\\\\n\t 19 & 2019-05-16 & 08:00 & 한끼줍쇼       & 19 & 전체 & Naver\\\\\n\t 20 & 2019-05-16 & 08:00 & 위너           & 20 & 전체 & Naver\\\\\n\t 21 & 2019-05-16 & 08:00 & 연애혁명       &  1 & 10대 & Naver\\\\\n\t 22 & 2019-05-16 & 08:00 & 최고의 엔딩    &  2 & 10대 & Naver\\\\\n\t 23 & 2019-05-16 & 08:00 & 버스도착정보   &  3 & 10대 & Naver\\\\\n\t 24 & 2019-05-16 & 08:00 & 위너           &  4 & 10대 & Naver\\\\\n\t 25 & 2019-05-16 & 08:00 & 그리즈만       &  5 & 10대 & Naver\\\\\n\t 26 & 2019-05-16 & 08:00 & 아이유         &  6 & 10대 & Naver\\\\\n\t 27 & 2019-05-16 & 08:00 & 나락즈         &  7 & 10대 & Naver\\\\\n\t 28 & 2019-05-16 & 08:00 & 롤 모바일 상점 &  8 & 10대 & Naver\\\\\n\t 29 & 2019-05-16 & 08:00 & 목요웹툰       &  9 & 10대 & Naver\\\\\n\t 30 & 2019-05-16 & 08:00 & 절대그이       & 10 & 10대 & Naver\\\\\n\t ... & ... & ... & ... & ... & ... & ...\\\\\n\t 3451 & 2019-05-30 & 08:00 & 노소영            & 11 & 40대      & Naver\\\\\n\t 3452 & 2019-05-30 & 08:00 & 희토류            & 12 & 40대      & Naver\\\\\n\t 3453 & 2019-05-30 & 08:00 & 유로파 결승       & 13 & 40대      & Naver\\\\\n\t 3454 & 2019-05-30 & 08:00 & 아스날 첼시       & 14 & 40대      & Naver\\\\\n\t 3455 & 2019-05-30 & 08:00 & 라디오스타        & 15 & 40대      & Naver\\\\\n\t 3456 & 2019-05-30 & 08:00 & 부다페스트        & 16 & 40대      & Naver\\\\\n\t 3457 & 2019-05-30 & 08:00 & 600달러           & 17 & 40대      & Naver\\\\\n\t 3458 & 2019-05-30 & 08:00 & 이수나            & 18 & 40대      & Naver\\\\\n\t 3459 & 2019-05-30 & 08:00 & 송가인            & 19 & 40대      & Naver\\\\\n\t 3460 & 2019-05-30 & 08:00 & 마데카커버크림    & 20 & 40대      & Naver\\\\\n\t 3461 & 2019-05-30 & 08:00 & 김희영            &  1 & 50대 이상 & Naver\\\\\n\t 3462 & 2019-05-30 & 08:00 & 첼시 아스날       &  2 & 50대 이상 & Naver\\\\\n\t 3463 & 2019-05-30 & 08:00 & 티앤씨재단 김희영 &  3 & 50대 이상 & Naver\\\\\n\t 3464 & 2019-05-30 & 08:00 & 김현철 정신과의사 &  4 & 50대 이상 & Naver\\\\\n\t 3465 & 2019-05-30 & 08:00 & 희토류            &  5 & 50대 이상 & Naver\\\\\n\t 3466 & 2019-05-30 & 08:00 & 조로우            &  6 & 50대 이상 & Naver\\\\\n\t 3467 & 2019-05-30 & 08:00 & 송철호            &  7 & 50대 이상 & Naver\\\\\n\t 3468 & 2019-05-30 & 08:00 & 헝가리            &  8 & 50대 이상 & Naver\\\\\n\t 3469 & 2019-05-30 & 08:00 & 부다페스트        &  9 & 50대 이상 & Naver\\\\\n\t 3470 & 2019-05-30 & 08:00 & 이우현            & 10 & 50대 이상 & Naver\\\\\n\t 3471 & 2019-05-30 & 08:00 & 최태원            & 11 & 50대 이상 & Naver\\\\\n\t 3472 & 2019-05-30 & 08:00 & 신림동 cctv       & 12 & 50대 이상 & Naver\\\\\n\t 3473 & 2019-05-30 & 08:00 & 라디오스타        & 13 & 50대 이상 & Naver\\\\\n\t 3474 & 2019-05-30 & 08:00 & 최상주            & 14 & 50대 이상 & Naver\\\\\n\t 3475 & 2019-05-30 & 08:00 & 노소영            & 15 & 50대 이상 & Naver\\\\\n\t 3476 & 2019-05-30 & 08:00 & 연금복권 당첨번호 & 16 & 50대 이상 & Naver\\\\\n\t 3477 & 2019-05-30 & 08:00 & 울산시장          & 17 & 50대 이상 & Naver\\\\\n\t 3478 & 2019-05-30 & 08:00 & 싸이              & 18 & 50대 이상 & Naver\\\\\n\t 3479 & 2019-05-30 & 08:00 & 유로파 결승       & 19 & 50대 이상 & Naver\\\\\n\t 3480 & 2019-05-30 & 08:00 & 한상대            & 20 & 50대 이상 & Naver\\\\\n\\end{tabular}\n",
            "text/markdown": "\nA data.frame: 3480 x 7\n\n| ID &lt;int&gt; | Date &lt;fct&gt; | Time &lt;fct&gt; | Keyword &lt;fct&gt; | Rank &lt;int&gt; | Category &lt;fct&gt; | Source &lt;fct&gt; |\n|---|---|---|---|---|---|---|\n|  1 | 2019-05-16 | 08:00 | 유승현         |  1 | 전체 | Naver |\n|  2 | 2019-05-16 | 08:00 | 절대그이       |  2 | 전체 | Naver |\n|  3 | 2019-05-16 | 08:00 | 타다           |  3 | 전체 | Naver |\n|  4 | 2019-05-16 | 08:00 | 읶메뜨리넹     |  4 | 전체 | Naver |\n|  5 | 2019-05-16 | 08:00 | 공명           |  5 | 전체 | Naver |\n|  6 | 2019-05-16 | 08:00 | 오신환         |  6 | 전체 | Naver |\n|  7 | 2019-05-16 | 08:00 | 강신명         |  7 | 전체 | Naver |\n|  8 | 2019-05-16 | 08:00 | 정다은         |  8 | 전체 | Naver |\n|  9 | 2019-05-16 | 08:00 | 박한별         |  9 | 전체 | Naver |\n| 10 | 2019-05-16 | 08:00 | 이다지         | 10 | 전체 | Naver |\n| 11 | 2019-05-16 | 08:00 | 악인전         | 11 | 전체 | Naver |\n| 12 | 2019-05-16 | 08:00 | 방민아         | 12 | 전체 | Naver |\n| 13 | 2019-05-16 | 08:00 | 연애혁명       | 13 | 전체 | Naver |\n| 14 | 2019-05-16 | 08:00 | 라디오스타     | 14 | 전체 | Naver |\n| 15 | 2019-05-16 | 08:00 | 안양교         | 15 | 전체 | Naver |\n| 16 | 2019-05-16 | 08:00 | 타다 이용방법  | 16 | 전체 | Naver |\n| 17 | 2019-05-16 | 08:00 | 유인석         | 17 | 전체 | Naver |\n| 18 | 2019-05-16 | 08:00 | 황민현         | 18 | 전체 | Naver |\n| 19 | 2019-05-16 | 08:00 | 한끼줍쇼       | 19 | 전체 | Naver |\n| 20 | 2019-05-16 | 08:00 | 위너           | 20 | 전체 | Naver |\n| 21 | 2019-05-16 | 08:00 | 연애혁명       |  1 | 10대 | Naver |\n| 22 | 2019-05-16 | 08:00 | 최고의 엔딩    |  2 | 10대 | Naver |\n| 23 | 2019-05-16 | 08:00 | 버스도착정보   |  3 | 10대 | Naver |\n| 24 | 2019-05-16 | 08:00 | 위너           |  4 | 10대 | Naver |\n| 25 | 2019-05-16 | 08:00 | 그리즈만       |  5 | 10대 | Naver |\n| 26 | 2019-05-16 | 08:00 | 아이유         |  6 | 10대 | Naver |\n| 27 | 2019-05-16 | 08:00 | 나락즈         |  7 | 10대 | Naver |\n| 28 | 2019-05-16 | 08:00 | 롤 모바일 상점 |  8 | 10대 | Naver |\n| 29 | 2019-05-16 | 08:00 | 목요웹툰       |  9 | 10대 | Naver |\n| 30 | 2019-05-16 | 08:00 | 절대그이       | 10 | 10대 | Naver |\n| ... | ... | ... | ... | ... | ... | ... |\n| 3451 | 2019-05-30 | 08:00 | 노소영            | 11 | 40대      | Naver |\n| 3452 | 2019-05-30 | 08:00 | 희토류            | 12 | 40대      | Naver |\n| 3453 | 2019-05-30 | 08:00 | 유로파 결승       | 13 | 40대      | Naver |\n| 3454 | 2019-05-30 | 08:00 | 아스날 첼시       | 14 | 40대      | Naver |\n| 3455 | 2019-05-30 | 08:00 | 라디오스타        | 15 | 40대      | Naver |\n| 3456 | 2019-05-30 | 08:00 | 부다페스트        | 16 | 40대      | Naver |\n| 3457 | 2019-05-30 | 08:00 | 600달러           | 17 | 40대      | Naver |\n| 3458 | 2019-05-30 | 08:00 | 이수나            | 18 | 40대      | Naver |\n| 3459 | 2019-05-30 | 08:00 | 송가인            | 19 | 40대      | Naver |\n| 3460 | 2019-05-30 | 08:00 | 마데카커버크림    | 20 | 40대      | Naver |\n| 3461 | 2019-05-30 | 08:00 | 김희영            |  1 | 50대 이상 | Naver |\n| 3462 | 2019-05-30 | 08:00 | 첼시 아스날       |  2 | 50대 이상 | Naver |\n| 3463 | 2019-05-30 | 08:00 | 티앤씨재단 김희영 |  3 | 50대 이상 | Naver |\n| 3464 | 2019-05-30 | 08:00 | 김현철 정신과의사 |  4 | 50대 이상 | Naver |\n| 3465 | 2019-05-30 | 08:00 | 희토류            |  5 | 50대 이상 | Naver |\n| 3466 | 2019-05-30 | 08:00 | 조로우            |  6 | 50대 이상 | Naver |\n| 3467 | 2019-05-30 | 08:00 | 송철호            |  7 | 50대 이상 | Naver |\n| 3468 | 2019-05-30 | 08:00 | 헝가리            |  8 | 50대 이상 | Naver |\n| 3469 | 2019-05-30 | 08:00 | 부다페스트        |  9 | 50대 이상 | Naver |\n| 3470 | 2019-05-30 | 08:00 | 이우현            | 10 | 50대 이상 | Naver |\n| 3471 | 2019-05-30 | 08:00 | 최태원            | 11 | 50대 이상 | Naver |\n| 3472 | 2019-05-30 | 08:00 | 신림동 cctv       | 12 | 50대 이상 | Naver |\n| 3473 | 2019-05-30 | 08:00 | 라디오스타        | 13 | 50대 이상 | Naver |\n| 3474 | 2019-05-30 | 08:00 | 최상주            | 14 | 50대 이상 | Naver |\n| 3475 | 2019-05-30 | 08:00 | 노소영            | 15 | 50대 이상 | Naver |\n| 3476 | 2019-05-30 | 08:00 | 연금복권 당첨번호 | 16 | 50대 이상 | Naver |\n| 3477 | 2019-05-30 | 08:00 | 울산시장          | 17 | 50대 이상 | Naver |\n| 3478 | 2019-05-30 | 08:00 | 싸이              | 18 | 50대 이상 | Naver |\n| 3479 | 2019-05-30 | 08:00 | 유로파 결승       | 19 | 50대 이상 | Naver |\n| 3480 | 2019-05-30 | 08:00 | 한상대            | 20 | 50대 이상 | Naver |\n\n",
            "text/html": "<table>\n<caption>A data.frame: 3480 x 7</caption>\n<thead>\n\t<tr><th scope=col>ID</th><th scope=col>Date</th><th scope=col>Time</th><th scope=col>Keyword</th><th scope=col>Rank</th><th scope=col>Category</th><th scope=col>Source</th></tr>\n\t<tr><th scope=col>&lt;int&gt;</th><th scope=col>&lt;fct&gt;</th><th scope=col>&lt;fct&gt;</th><th scope=col>&lt;fct&gt;</th><th scope=col>&lt;int&gt;</th><th scope=col>&lt;fct&gt;</th><th scope=col>&lt;fct&gt;</th></tr>\n</thead>\n<tbody>\n\t<tr><td> 1</td><td>2019-05-16</td><td>08:00</td><td>유승현        </td><td> 1</td><td>전체</td><td>Naver</td></tr>\n\t<tr><td> 2</td><td>2019-05-16</td><td>08:00</td><td>절대그이      </td><td> 2</td><td>전체</td><td>Naver</td></tr>\n\t<tr><td> 3</td><td>2019-05-16</td><td>08:00</td><td>타다          </td><td> 3</td><td>전체</td><td>Naver</td></tr>\n\t<tr><td> 4</td><td>2019-05-16</td><td>08:00</td><td>읶메뜨리넹    </td><td> 4</td><td>전체</td><td>Naver</td></tr>\n\t<tr><td> 5</td><td>2019-05-16</td><td>08:00</td><td>공명          </td><td> 5</td><td>전체</td><td>Naver</td></tr>\n\t<tr><td> 6</td><td>2019-05-16</td><td>08:00</td><td>오신환        </td><td> 6</td><td>전체</td><td>Naver</td></tr>\n\t<tr><td> 7</td><td>2019-05-16</td><td>08:00</td><td>강신명        </td><td> 7</td><td>전체</td><td>Naver</td></tr>\n\t<tr><td> 8</td><td>2019-05-16</td><td>08:00</td><td>정다은        </td><td> 8</td><td>전체</td><td>Naver</td></tr>\n\t<tr><td> 9</td><td>2019-05-16</td><td>08:00</td><td>박한별        </td><td> 9</td><td>전체</td><td>Naver</td></tr>\n\t<tr><td>10</td><td>2019-05-16</td><td>08:00</td><td>이다지        </td><td>10</td><td>전체</td><td>Naver</td></tr>\n\t<tr><td>11</td><td>2019-05-16</td><td>08:00</td><td>악인전        </td><td>11</td><td>전체</td><td>Naver</td></tr>\n\t<tr><td>12</td><td>2019-05-16</td><td>08:00</td><td>방민아        </td><td>12</td><td>전체</td><td>Naver</td></tr>\n\t<tr><td>13</td><td>2019-05-16</td><td>08:00</td><td>연애혁명      </td><td>13</td><td>전체</td><td>Naver</td></tr>\n\t<tr><td>14</td><td>2019-05-16</td><td>08:00</td><td>라디오스타    </td><td>14</td><td>전체</td><td>Naver</td></tr>\n\t<tr><td>15</td><td>2019-05-16</td><td>08:00</td><td>안양교        </td><td>15</td><td>전체</td><td>Naver</td></tr>\n\t<tr><td>16</td><td>2019-05-16</td><td>08:00</td><td>타다 이용방법 </td><td>16</td><td>전체</td><td>Naver</td></tr>\n\t<tr><td>17</td><td>2019-05-16</td><td>08:00</td><td>유인석        </td><td>17</td><td>전체</td><td>Naver</td></tr>\n\t<tr><td>18</td><td>2019-05-16</td><td>08:00</td><td>황민현        </td><td>18</td><td>전체</td><td>Naver</td></tr>\n\t<tr><td>19</td><td>2019-05-16</td><td>08:00</td><td>한끼줍쇼      </td><td>19</td><td>전체</td><td>Naver</td></tr>\n\t<tr><td>20</td><td>2019-05-16</td><td>08:00</td><td>위너          </td><td>20</td><td>전체</td><td>Naver</td></tr>\n\t<tr><td>21</td><td>2019-05-16</td><td>08:00</td><td>연애혁명      </td><td> 1</td><td>10대</td><td>Naver</td></tr>\n\t<tr><td>22</td><td>2019-05-16</td><td>08:00</td><td>최고의 엔딩   </td><td> 2</td><td>10대</td><td>Naver</td></tr>\n\t<tr><td>23</td><td>2019-05-16</td><td>08:00</td><td>버스도착정보  </td><td> 3</td><td>10대</td><td>Naver</td></tr>\n\t<tr><td>24</td><td>2019-05-16</td><td>08:00</td><td>위너          </td><td> 4</td><td>10대</td><td>Naver</td></tr>\n\t<tr><td>25</td><td>2019-05-16</td><td>08:00</td><td>그리즈만      </td><td> 5</td><td>10대</td><td>Naver</td></tr>\n\t<tr><td>26</td><td>2019-05-16</td><td>08:00</td><td>아이유        </td><td> 6</td><td>10대</td><td>Naver</td></tr>\n\t<tr><td>27</td><td>2019-05-16</td><td>08:00</td><td>나락즈        </td><td> 7</td><td>10대</td><td>Naver</td></tr>\n\t<tr><td>28</td><td>2019-05-16</td><td>08:00</td><td>롤 모바일 상점</td><td> 8</td><td>10대</td><td>Naver</td></tr>\n\t<tr><td>29</td><td>2019-05-16</td><td>08:00</td><td>목요웹툰      </td><td> 9</td><td>10대</td><td>Naver</td></tr>\n\t<tr><td>30</td><td>2019-05-16</td><td>08:00</td><td>절대그이      </td><td>10</td><td>10대</td><td>Naver</td></tr>\n\t<tr><td>...</td><td>...</td><td>...</td><td>...</td><td>...</td><td>...</td><td>...</td></tr>\n\t<tr><td>3451</td><td>2019-05-30</td><td>08:00</td><td>노소영           </td><td>11</td><td>40대     </td><td>Naver</td></tr>\n\t<tr><td>3452</td><td>2019-05-30</td><td>08:00</td><td>희토류           </td><td>12</td><td>40대     </td><td>Naver</td></tr>\n\t<tr><td>3453</td><td>2019-05-30</td><td>08:00</td><td>유로파 결승      </td><td>13</td><td>40대     </td><td>Naver</td></tr>\n\t<tr><td>3454</td><td>2019-05-30</td><td>08:00</td><td>아스날 첼시      </td><td>14</td><td>40대     </td><td>Naver</td></tr>\n\t<tr><td>3455</td><td>2019-05-30</td><td>08:00</td><td>라디오스타       </td><td>15</td><td>40대     </td><td>Naver</td></tr>\n\t<tr><td>3456</td><td>2019-05-30</td><td>08:00</td><td>부다페스트       </td><td>16</td><td>40대     </td><td>Naver</td></tr>\n\t<tr><td>3457</td><td>2019-05-30</td><td>08:00</td><td>600달러          </td><td>17</td><td>40대     </td><td>Naver</td></tr>\n\t<tr><td>3458</td><td>2019-05-30</td><td>08:00</td><td>이수나           </td><td>18</td><td>40대     </td><td>Naver</td></tr>\n\t<tr><td>3459</td><td>2019-05-30</td><td>08:00</td><td>송가인           </td><td>19</td><td>40대     </td><td>Naver</td></tr>\n\t<tr><td>3460</td><td>2019-05-30</td><td>08:00</td><td>마데카커버크림   </td><td>20</td><td>40대     </td><td>Naver</td></tr>\n\t<tr><td>3461</td><td>2019-05-30</td><td>08:00</td><td>김희영           </td><td> 1</td><td>50대 이상</td><td>Naver</td></tr>\n\t<tr><td>3462</td><td>2019-05-30</td><td>08:00</td><td>첼시 아스날      </td><td> 2</td><td>50대 이상</td><td>Naver</td></tr>\n\t<tr><td>3463</td><td>2019-05-30</td><td>08:00</td><td>티앤씨재단 김희영</td><td> 3</td><td>50대 이상</td><td>Naver</td></tr>\n\t<tr><td>3464</td><td>2019-05-30</td><td>08:00</td><td>김현철 정신과의사</td><td> 4</td><td>50대 이상</td><td>Naver</td></tr>\n\t<tr><td>3465</td><td>2019-05-30</td><td>08:00</td><td>희토류           </td><td> 5</td><td>50대 이상</td><td>Naver</td></tr>\n\t<tr><td>3466</td><td>2019-05-30</td><td>08:00</td><td>조로우           </td><td> 6</td><td>50대 이상</td><td>Naver</td></tr>\n\t<tr><td>3467</td><td>2019-05-30</td><td>08:00</td><td>송철호           </td><td> 7</td><td>50대 이상</td><td>Naver</td></tr>\n\t<tr><td>3468</td><td>2019-05-30</td><td>08:00</td><td>헝가리           </td><td> 8</td><td>50대 이상</td><td>Naver</td></tr>\n\t<tr><td>3469</td><td>2019-05-30</td><td>08:00</td><td>부다페스트       </td><td> 9</td><td>50대 이상</td><td>Naver</td></tr>\n\t<tr><td>3470</td><td>2019-05-30</td><td>08:00</td><td>이우현           </td><td>10</td><td>50대 이상</td><td>Naver</td></tr>\n\t<tr><td>3471</td><td>2019-05-30</td><td>08:00</td><td>최태원           </td><td>11</td><td>50대 이상</td><td>Naver</td></tr>\n\t<tr><td>3472</td><td>2019-05-30</td><td>08:00</td><td>신림동 cctv      </td><td>12</td><td>50대 이상</td><td>Naver</td></tr>\n\t<tr><td>3473</td><td>2019-05-30</td><td>08:00</td><td>라디오스타       </td><td>13</td><td>50대 이상</td><td>Naver</td></tr>\n\t<tr><td>3474</td><td>2019-05-30</td><td>08:00</td><td>최상주           </td><td>14</td><td>50대 이상</td><td>Naver</td></tr>\n\t<tr><td>3475</td><td>2019-05-30</td><td>08:00</td><td>노소영           </td><td>15</td><td>50대 이상</td><td>Naver</td></tr>\n\t<tr><td>3476</td><td>2019-05-30</td><td>08:00</td><td>연금복권 당첨번호</td><td>16</td><td>50대 이상</td><td>Naver</td></tr>\n\t<tr><td>3477</td><td>2019-05-30</td><td>08:00</td><td>울산시장         </td><td>17</td><td>50대 이상</td><td>Naver</td></tr>\n\t<tr><td>3478</td><td>2019-05-30</td><td>08:00</td><td>싸이             </td><td>18</td><td>50대 이상</td><td>Naver</td></tr>\n\t<tr><td>3479</td><td>2019-05-30</td><td>08:00</td><td>유로파 결승      </td><td>19</td><td>50대 이상</td><td>Naver</td></tr>\n\t<tr><td>3480</td><td>2019-05-30</td><td>08:00</td><td>한상대           </td><td>20</td><td>50대 이상</td><td>Naver</td></tr>\n</tbody>\n</table>\n"
          },
          "metadata": {}
        }
      ]
    },
    {
      "metadata": {
        "ExecuteTime": {
          "start_time": "2019-07-03T05:16:48.906Z",
          "end_time": "2019-07-03T05:16:48.505099Z"
        },
        "trusted": true
      },
      "cell_type": "code",
      "source": "View(raw_data)",
      "execution_count": 59,
      "outputs": [
        {
          "output_type": "error",
          "ename": "ERROR",
          "evalue": "Error in View(raw_data): ‘View()’ not yet supported in the Jupyter R kernel\n",
          "traceback": [
            "Error in View(raw_data): ‘View()’ not yet supported in the Jupyter R kernel\nTraceback:\n",
            "1. View(raw_data)",
            "2. stop(sQuote(\"View()\"), \" not yet supported in the Jupyter R kernel\")"
          ]
        }
      ]
    },
    {
      "metadata": {
        "ExecuteTime": {
          "start_time": "2019-07-03T05:24:38.536Z",
          "end_time": "2019-07-03T05:24:38.38883Z"
        },
        "trusted": true
      },
      "cell_type": "code",
      "source": "save(raw_data, file = \"KeywordSearch_raw_data.rda\")",
      "execution_count": 60,
      "outputs": []
    },
    {
      "metadata": {
        "ExecuteTime": {
          "start_time": "2019-07-03T05:28:16.104Z",
          "end_time": "2019-07-03T05:28:15.691103Z"
        },
        "trusted": true
      },
      "cell_type": "code",
      "source": "rm(raw_data)\nraw_data",
      "execution_count": 67,
      "outputs": [
        {
          "output_type": "stream",
          "text": "Warning message in rm(raw_data):\n“object 'raw_data' not found”",
          "name": "stderr"
        },
        {
          "output_type": "error",
          "ename": "ERROR",
          "evalue": "Error in eval(expr, envir, enclos): object 'raw_data' not found\n",
          "traceback": [
            "Error in eval(expr, envir, enclos): object 'raw_data' not found\nTraceback:\n"
          ]
        }
      ]
    },
    {
      "metadata": {
        "ExecuteTime": {
          "start_time": "2019-07-03T05:28:19.019Z",
          "end_time": "2019-07-03T05:28:18.931798Z"
        },
        "trusted": true
      },
      "cell_type": "code",
      "source": "load(\"KeywordSearch_raw_data.rda\")\nraw_data",
      "execution_count": 68,
      "outputs": [
        {
          "output_type": "display_data",
          "data": {
            "text/plain": "     ID   Date       Time  Keyword           Rank Category  Source\n1     1   2019-05-16 08:00 유승현             1   전체      Naver \n2     2   2019-05-16 08:00 절대그이           2   전체      Naver \n3     3   2019-05-16 08:00 타다               3   전체      Naver \n4     4   2019-05-16 08:00 읶메뜨리넹         4   전체      Naver \n5     5   2019-05-16 08:00 공명               5   전체      Naver \n6     6   2019-05-16 08:00 오신환             6   전체      Naver \n7     7   2019-05-16 08:00 강신명             7   전체      Naver \n8     8   2019-05-16 08:00 정다은             8   전체      Naver \n9     9   2019-05-16 08:00 박한별             9   전체      Naver \n10   10   2019-05-16 08:00 이다지            10   전체      Naver \n11   11   2019-05-16 08:00 악인전            11   전체      Naver \n12   12   2019-05-16 08:00 방민아            12   전체      Naver \n13   13   2019-05-16 08:00 연애혁명          13   전체      Naver \n14   14   2019-05-16 08:00 라디오스타        14   전체      Naver \n15   15   2019-05-16 08:00 안양교            15   전체      Naver \n16   16   2019-05-16 08:00 타다 이용방법     16   전체      Naver \n17   17   2019-05-16 08:00 유인석            17   전체      Naver \n18   18   2019-05-16 08:00 황민현            18   전체      Naver \n19   19   2019-05-16 08:00 한끼줍쇼          19   전체      Naver \n20   20   2019-05-16 08:00 위너              20   전체      Naver \n21   21   2019-05-16 08:00 연애혁명           1   10대      Naver \n22   22   2019-05-16 08:00 최고의 엔딩        2   10대      Naver \n23   23   2019-05-16 08:00 버스도착정보       3   10대      Naver \n24   24   2019-05-16 08:00 위너               4   10대      Naver \n25   25   2019-05-16 08:00 그리즈만           5   10대      Naver \n26   26   2019-05-16 08:00 아이유             6   10대      Naver \n27   27   2019-05-16 08:00 나락즈             7   10대      Naver \n28   28   2019-05-16 08:00 롤 모바일 상점     8   10대      Naver \n29   29   2019-05-16 08:00 목요웹툰           9   10대      Naver \n30   30   2019-05-16 08:00 절대그이          10   10대      Naver \n...  ...  ...        ...   ...               ...  ...       ...   \n3451 3451 2019-05-30 08:00 노소영            11   40대      Naver \n3452 3452 2019-05-30 08:00 희토류            12   40대      Naver \n3453 3453 2019-05-30 08:00 유로파 결승       13   40대      Naver \n3454 3454 2019-05-30 08:00 아스날 첼시       14   40대      Naver \n3455 3455 2019-05-30 08:00 라디오스타        15   40대      Naver \n3456 3456 2019-05-30 08:00 부다페스트        16   40대      Naver \n3457 3457 2019-05-30 08:00 600달러           17   40대      Naver \n3458 3458 2019-05-30 08:00 이수나            18   40대      Naver \n3459 3459 2019-05-30 08:00 송가인            19   40대      Naver \n3460 3460 2019-05-30 08:00 마데카커버크림    20   40대      Naver \n3461 3461 2019-05-30 08:00 김희영             1   50대 이상 Naver \n3462 3462 2019-05-30 08:00 첼시 아스날        2   50대 이상 Naver \n3463 3463 2019-05-30 08:00 티앤씨재단 김희영  3   50대 이상 Naver \n3464 3464 2019-05-30 08:00 김현철 정신과의사  4   50대 이상 Naver \n3465 3465 2019-05-30 08:00 희토류             5   50대 이상 Naver \n3466 3466 2019-05-30 08:00 조로우             6   50대 이상 Naver \n3467 3467 2019-05-30 08:00 송철호             7   50대 이상 Naver \n3468 3468 2019-05-30 08:00 헝가리             8   50대 이상 Naver \n3469 3469 2019-05-30 08:00 부다페스트         9   50대 이상 Naver \n3470 3470 2019-05-30 08:00 이우현            10   50대 이상 Naver \n3471 3471 2019-05-30 08:00 최태원            11   50대 이상 Naver \n3472 3472 2019-05-30 08:00 신림동 cctv       12   50대 이상 Naver \n3473 3473 2019-05-30 08:00 라디오스타        13   50대 이상 Naver \n3474 3474 2019-05-30 08:00 최상주            14   50대 이상 Naver \n3475 3475 2019-05-30 08:00 노소영            15   50대 이상 Naver \n3476 3476 2019-05-30 08:00 연금복권 당첨번호 16   50대 이상 Naver \n3477 3477 2019-05-30 08:00 울산시장          17   50대 이상 Naver \n3478 3478 2019-05-30 08:00 싸이              18   50대 이상 Naver \n3479 3479 2019-05-30 08:00 유로파 결승       19   50대 이상 Naver \n3480 3480 2019-05-30 08:00 한상대            20   50대 이상 Naver ",
            "text/latex": "A data.frame: 3480 x 7\n\\begin{tabular}{r|lllllll}\n ID & Date & Time & Keyword & Rank & Category & Source\\\\\n <int> & <fct> & <fct> & <fct> & <int> & <fct> & <fct>\\\\\n\\hline\n\t  1 & 2019-05-16 & 08:00 & 유승현         &  1 & 전체 & Naver\\\\\n\t  2 & 2019-05-16 & 08:00 & 절대그이       &  2 & 전체 & Naver\\\\\n\t  3 & 2019-05-16 & 08:00 & 타다           &  3 & 전체 & Naver\\\\\n\t  4 & 2019-05-16 & 08:00 & 읶메뜨리넹     &  4 & 전체 & Naver\\\\\n\t  5 & 2019-05-16 & 08:00 & 공명           &  5 & 전체 & Naver\\\\\n\t  6 & 2019-05-16 & 08:00 & 오신환         &  6 & 전체 & Naver\\\\\n\t  7 & 2019-05-16 & 08:00 & 강신명         &  7 & 전체 & Naver\\\\\n\t  8 & 2019-05-16 & 08:00 & 정다은         &  8 & 전체 & Naver\\\\\n\t  9 & 2019-05-16 & 08:00 & 박한별         &  9 & 전체 & Naver\\\\\n\t 10 & 2019-05-16 & 08:00 & 이다지         & 10 & 전체 & Naver\\\\\n\t 11 & 2019-05-16 & 08:00 & 악인전         & 11 & 전체 & Naver\\\\\n\t 12 & 2019-05-16 & 08:00 & 방민아         & 12 & 전체 & Naver\\\\\n\t 13 & 2019-05-16 & 08:00 & 연애혁명       & 13 & 전체 & Naver\\\\\n\t 14 & 2019-05-16 & 08:00 & 라디오스타     & 14 & 전체 & Naver\\\\\n\t 15 & 2019-05-16 & 08:00 & 안양교         & 15 & 전체 & Naver\\\\\n\t 16 & 2019-05-16 & 08:00 & 타다 이용방법  & 16 & 전체 & Naver\\\\\n\t 17 & 2019-05-16 & 08:00 & 유인석         & 17 & 전체 & Naver\\\\\n\t 18 & 2019-05-16 & 08:00 & 황민현         & 18 & 전체 & Naver\\\\\n\t 19 & 2019-05-16 & 08:00 & 한끼줍쇼       & 19 & 전체 & Naver\\\\\n\t 20 & 2019-05-16 & 08:00 & 위너           & 20 & 전체 & Naver\\\\\n\t 21 & 2019-05-16 & 08:00 & 연애혁명       &  1 & 10대 & Naver\\\\\n\t 22 & 2019-05-16 & 08:00 & 최고의 엔딩    &  2 & 10대 & Naver\\\\\n\t 23 & 2019-05-16 & 08:00 & 버스도착정보   &  3 & 10대 & Naver\\\\\n\t 24 & 2019-05-16 & 08:00 & 위너           &  4 & 10대 & Naver\\\\\n\t 25 & 2019-05-16 & 08:00 & 그리즈만       &  5 & 10대 & Naver\\\\\n\t 26 & 2019-05-16 & 08:00 & 아이유         &  6 & 10대 & Naver\\\\\n\t 27 & 2019-05-16 & 08:00 & 나락즈         &  7 & 10대 & Naver\\\\\n\t 28 & 2019-05-16 & 08:00 & 롤 모바일 상점 &  8 & 10대 & Naver\\\\\n\t 29 & 2019-05-16 & 08:00 & 목요웹툰       &  9 & 10대 & Naver\\\\\n\t 30 & 2019-05-16 & 08:00 & 절대그이       & 10 & 10대 & Naver\\\\\n\t ... & ... & ... & ... & ... & ... & ...\\\\\n\t 3451 & 2019-05-30 & 08:00 & 노소영            & 11 & 40대      & Naver\\\\\n\t 3452 & 2019-05-30 & 08:00 & 희토류            & 12 & 40대      & Naver\\\\\n\t 3453 & 2019-05-30 & 08:00 & 유로파 결승       & 13 & 40대      & Naver\\\\\n\t 3454 & 2019-05-30 & 08:00 & 아스날 첼시       & 14 & 40대      & Naver\\\\\n\t 3455 & 2019-05-30 & 08:00 & 라디오스타        & 15 & 40대      & Naver\\\\\n\t 3456 & 2019-05-30 & 08:00 & 부다페스트        & 16 & 40대      & Naver\\\\\n\t 3457 & 2019-05-30 & 08:00 & 600달러           & 17 & 40대      & Naver\\\\\n\t 3458 & 2019-05-30 & 08:00 & 이수나            & 18 & 40대      & Naver\\\\\n\t 3459 & 2019-05-30 & 08:00 & 송가인            & 19 & 40대      & Naver\\\\\n\t 3460 & 2019-05-30 & 08:00 & 마데카커버크림    & 20 & 40대      & Naver\\\\\n\t 3461 & 2019-05-30 & 08:00 & 김희영            &  1 & 50대 이상 & Naver\\\\\n\t 3462 & 2019-05-30 & 08:00 & 첼시 아스날       &  2 & 50대 이상 & Naver\\\\\n\t 3463 & 2019-05-30 & 08:00 & 티앤씨재단 김희영 &  3 & 50대 이상 & Naver\\\\\n\t 3464 & 2019-05-30 & 08:00 & 김현철 정신과의사 &  4 & 50대 이상 & Naver\\\\\n\t 3465 & 2019-05-30 & 08:00 & 희토류            &  5 & 50대 이상 & Naver\\\\\n\t 3466 & 2019-05-30 & 08:00 & 조로우            &  6 & 50대 이상 & Naver\\\\\n\t 3467 & 2019-05-30 & 08:00 & 송철호            &  7 & 50대 이상 & Naver\\\\\n\t 3468 & 2019-05-30 & 08:00 & 헝가리            &  8 & 50대 이상 & Naver\\\\\n\t 3469 & 2019-05-30 & 08:00 & 부다페스트        &  9 & 50대 이상 & Naver\\\\\n\t 3470 & 2019-05-30 & 08:00 & 이우현            & 10 & 50대 이상 & Naver\\\\\n\t 3471 & 2019-05-30 & 08:00 & 최태원            & 11 & 50대 이상 & Naver\\\\\n\t 3472 & 2019-05-30 & 08:00 & 신림동 cctv       & 12 & 50대 이상 & Naver\\\\\n\t 3473 & 2019-05-30 & 08:00 & 라디오스타        & 13 & 50대 이상 & Naver\\\\\n\t 3474 & 2019-05-30 & 08:00 & 최상주            & 14 & 50대 이상 & Naver\\\\\n\t 3475 & 2019-05-30 & 08:00 & 노소영            & 15 & 50대 이상 & Naver\\\\\n\t 3476 & 2019-05-30 & 08:00 & 연금복권 당첨번호 & 16 & 50대 이상 & Naver\\\\\n\t 3477 & 2019-05-30 & 08:00 & 울산시장          & 17 & 50대 이상 & Naver\\\\\n\t 3478 & 2019-05-30 & 08:00 & 싸이              & 18 & 50대 이상 & Naver\\\\\n\t 3479 & 2019-05-30 & 08:00 & 유로파 결승       & 19 & 50대 이상 & Naver\\\\\n\t 3480 & 2019-05-30 & 08:00 & 한상대            & 20 & 50대 이상 & Naver\\\\\n\\end{tabular}\n",
            "text/markdown": "\nA data.frame: 3480 x 7\n\n| ID &lt;int&gt; | Date &lt;fct&gt; | Time &lt;fct&gt; | Keyword &lt;fct&gt; | Rank &lt;int&gt; | Category &lt;fct&gt; | Source &lt;fct&gt; |\n|---|---|---|---|---|---|---|\n|  1 | 2019-05-16 | 08:00 | 유승현         |  1 | 전체 | Naver |\n|  2 | 2019-05-16 | 08:00 | 절대그이       |  2 | 전체 | Naver |\n|  3 | 2019-05-16 | 08:00 | 타다           |  3 | 전체 | Naver |\n|  4 | 2019-05-16 | 08:00 | 읶메뜨리넹     |  4 | 전체 | Naver |\n|  5 | 2019-05-16 | 08:00 | 공명           |  5 | 전체 | Naver |\n|  6 | 2019-05-16 | 08:00 | 오신환         |  6 | 전체 | Naver |\n|  7 | 2019-05-16 | 08:00 | 강신명         |  7 | 전체 | Naver |\n|  8 | 2019-05-16 | 08:00 | 정다은         |  8 | 전체 | Naver |\n|  9 | 2019-05-16 | 08:00 | 박한별         |  9 | 전체 | Naver |\n| 10 | 2019-05-16 | 08:00 | 이다지         | 10 | 전체 | Naver |\n| 11 | 2019-05-16 | 08:00 | 악인전         | 11 | 전체 | Naver |\n| 12 | 2019-05-16 | 08:00 | 방민아         | 12 | 전체 | Naver |\n| 13 | 2019-05-16 | 08:00 | 연애혁명       | 13 | 전체 | Naver |\n| 14 | 2019-05-16 | 08:00 | 라디오스타     | 14 | 전체 | Naver |\n| 15 | 2019-05-16 | 08:00 | 안양교         | 15 | 전체 | Naver |\n| 16 | 2019-05-16 | 08:00 | 타다 이용방법  | 16 | 전체 | Naver |\n| 17 | 2019-05-16 | 08:00 | 유인석         | 17 | 전체 | Naver |\n| 18 | 2019-05-16 | 08:00 | 황민현         | 18 | 전체 | Naver |\n| 19 | 2019-05-16 | 08:00 | 한끼줍쇼       | 19 | 전체 | Naver |\n| 20 | 2019-05-16 | 08:00 | 위너           | 20 | 전체 | Naver |\n| 21 | 2019-05-16 | 08:00 | 연애혁명       |  1 | 10대 | Naver |\n| 22 | 2019-05-16 | 08:00 | 최고의 엔딩    |  2 | 10대 | Naver |\n| 23 | 2019-05-16 | 08:00 | 버스도착정보   |  3 | 10대 | Naver |\n| 24 | 2019-05-16 | 08:00 | 위너           |  4 | 10대 | Naver |\n| 25 | 2019-05-16 | 08:00 | 그리즈만       |  5 | 10대 | Naver |\n| 26 | 2019-05-16 | 08:00 | 아이유         |  6 | 10대 | Naver |\n| 27 | 2019-05-16 | 08:00 | 나락즈         |  7 | 10대 | Naver |\n| 28 | 2019-05-16 | 08:00 | 롤 모바일 상점 |  8 | 10대 | Naver |\n| 29 | 2019-05-16 | 08:00 | 목요웹툰       |  9 | 10대 | Naver |\n| 30 | 2019-05-16 | 08:00 | 절대그이       | 10 | 10대 | Naver |\n| ... | ... | ... | ... | ... | ... | ... |\n| 3451 | 2019-05-30 | 08:00 | 노소영            | 11 | 40대      | Naver |\n| 3452 | 2019-05-30 | 08:00 | 희토류            | 12 | 40대      | Naver |\n| 3453 | 2019-05-30 | 08:00 | 유로파 결승       | 13 | 40대      | Naver |\n| 3454 | 2019-05-30 | 08:00 | 아스날 첼시       | 14 | 40대      | Naver |\n| 3455 | 2019-05-30 | 08:00 | 라디오스타        | 15 | 40대      | Naver |\n| 3456 | 2019-05-30 | 08:00 | 부다페스트        | 16 | 40대      | Naver |\n| 3457 | 2019-05-30 | 08:00 | 600달러           | 17 | 40대      | Naver |\n| 3458 | 2019-05-30 | 08:00 | 이수나            | 18 | 40대      | Naver |\n| 3459 | 2019-05-30 | 08:00 | 송가인            | 19 | 40대      | Naver |\n| 3460 | 2019-05-30 | 08:00 | 마데카커버크림    | 20 | 40대      | Naver |\n| 3461 | 2019-05-30 | 08:00 | 김희영            |  1 | 50대 이상 | Naver |\n| 3462 | 2019-05-30 | 08:00 | 첼시 아스날       |  2 | 50대 이상 | Naver |\n| 3463 | 2019-05-30 | 08:00 | 티앤씨재단 김희영 |  3 | 50대 이상 | Naver |\n| 3464 | 2019-05-30 | 08:00 | 김현철 정신과의사 |  4 | 50대 이상 | Naver |\n| 3465 | 2019-05-30 | 08:00 | 희토류            |  5 | 50대 이상 | Naver |\n| 3466 | 2019-05-30 | 08:00 | 조로우            |  6 | 50대 이상 | Naver |\n| 3467 | 2019-05-30 | 08:00 | 송철호            |  7 | 50대 이상 | Naver |\n| 3468 | 2019-05-30 | 08:00 | 헝가리            |  8 | 50대 이상 | Naver |\n| 3469 | 2019-05-30 | 08:00 | 부다페스트        |  9 | 50대 이상 | Naver |\n| 3470 | 2019-05-30 | 08:00 | 이우현            | 10 | 50대 이상 | Naver |\n| 3471 | 2019-05-30 | 08:00 | 최태원            | 11 | 50대 이상 | Naver |\n| 3472 | 2019-05-30 | 08:00 | 신림동 cctv       | 12 | 50대 이상 | Naver |\n| 3473 | 2019-05-30 | 08:00 | 라디오스타        | 13 | 50대 이상 | Naver |\n| 3474 | 2019-05-30 | 08:00 | 최상주            | 14 | 50대 이상 | Naver |\n| 3475 | 2019-05-30 | 08:00 | 노소영            | 15 | 50대 이상 | Naver |\n| 3476 | 2019-05-30 | 08:00 | 연금복권 당첨번호 | 16 | 50대 이상 | Naver |\n| 3477 | 2019-05-30 | 08:00 | 울산시장          | 17 | 50대 이상 | Naver |\n| 3478 | 2019-05-30 | 08:00 | 싸이              | 18 | 50대 이상 | Naver |\n| 3479 | 2019-05-30 | 08:00 | 유로파 결승       | 19 | 50대 이상 | Naver |\n| 3480 | 2019-05-30 | 08:00 | 한상대            | 20 | 50대 이상 | Naver |\n\n",
            "text/html": "<table>\n<caption>A data.frame: 3480 x 7</caption>\n<thead>\n\t<tr><th scope=col>ID</th><th scope=col>Date</th><th scope=col>Time</th><th scope=col>Keyword</th><th scope=col>Rank</th><th scope=col>Category</th><th scope=col>Source</th></tr>\n\t<tr><th scope=col>&lt;int&gt;</th><th scope=col>&lt;fct&gt;</th><th scope=col>&lt;fct&gt;</th><th scope=col>&lt;fct&gt;</th><th scope=col>&lt;int&gt;</th><th scope=col>&lt;fct&gt;</th><th scope=col>&lt;fct&gt;</th></tr>\n</thead>\n<tbody>\n\t<tr><td> 1</td><td>2019-05-16</td><td>08:00</td><td>유승현        </td><td> 1</td><td>전체</td><td>Naver</td></tr>\n\t<tr><td> 2</td><td>2019-05-16</td><td>08:00</td><td>절대그이      </td><td> 2</td><td>전체</td><td>Naver</td></tr>\n\t<tr><td> 3</td><td>2019-05-16</td><td>08:00</td><td>타다          </td><td> 3</td><td>전체</td><td>Naver</td></tr>\n\t<tr><td> 4</td><td>2019-05-16</td><td>08:00</td><td>읶메뜨리넹    </td><td> 4</td><td>전체</td><td>Naver</td></tr>\n\t<tr><td> 5</td><td>2019-05-16</td><td>08:00</td><td>공명          </td><td> 5</td><td>전체</td><td>Naver</td></tr>\n\t<tr><td> 6</td><td>2019-05-16</td><td>08:00</td><td>오신환        </td><td> 6</td><td>전체</td><td>Naver</td></tr>\n\t<tr><td> 7</td><td>2019-05-16</td><td>08:00</td><td>강신명        </td><td> 7</td><td>전체</td><td>Naver</td></tr>\n\t<tr><td> 8</td><td>2019-05-16</td><td>08:00</td><td>정다은        </td><td> 8</td><td>전체</td><td>Naver</td></tr>\n\t<tr><td> 9</td><td>2019-05-16</td><td>08:00</td><td>박한별        </td><td> 9</td><td>전체</td><td>Naver</td></tr>\n\t<tr><td>10</td><td>2019-05-16</td><td>08:00</td><td>이다지        </td><td>10</td><td>전체</td><td>Naver</td></tr>\n\t<tr><td>11</td><td>2019-05-16</td><td>08:00</td><td>악인전        </td><td>11</td><td>전체</td><td>Naver</td></tr>\n\t<tr><td>12</td><td>2019-05-16</td><td>08:00</td><td>방민아        </td><td>12</td><td>전체</td><td>Naver</td></tr>\n\t<tr><td>13</td><td>2019-05-16</td><td>08:00</td><td>연애혁명      </td><td>13</td><td>전체</td><td>Naver</td></tr>\n\t<tr><td>14</td><td>2019-05-16</td><td>08:00</td><td>라디오스타    </td><td>14</td><td>전체</td><td>Naver</td></tr>\n\t<tr><td>15</td><td>2019-05-16</td><td>08:00</td><td>안양교        </td><td>15</td><td>전체</td><td>Naver</td></tr>\n\t<tr><td>16</td><td>2019-05-16</td><td>08:00</td><td>타다 이용방법 </td><td>16</td><td>전체</td><td>Naver</td></tr>\n\t<tr><td>17</td><td>2019-05-16</td><td>08:00</td><td>유인석        </td><td>17</td><td>전체</td><td>Naver</td></tr>\n\t<tr><td>18</td><td>2019-05-16</td><td>08:00</td><td>황민현        </td><td>18</td><td>전체</td><td>Naver</td></tr>\n\t<tr><td>19</td><td>2019-05-16</td><td>08:00</td><td>한끼줍쇼      </td><td>19</td><td>전체</td><td>Naver</td></tr>\n\t<tr><td>20</td><td>2019-05-16</td><td>08:00</td><td>위너          </td><td>20</td><td>전체</td><td>Naver</td></tr>\n\t<tr><td>21</td><td>2019-05-16</td><td>08:00</td><td>연애혁명      </td><td> 1</td><td>10대</td><td>Naver</td></tr>\n\t<tr><td>22</td><td>2019-05-16</td><td>08:00</td><td>최고의 엔딩   </td><td> 2</td><td>10대</td><td>Naver</td></tr>\n\t<tr><td>23</td><td>2019-05-16</td><td>08:00</td><td>버스도착정보  </td><td> 3</td><td>10대</td><td>Naver</td></tr>\n\t<tr><td>24</td><td>2019-05-16</td><td>08:00</td><td>위너          </td><td> 4</td><td>10대</td><td>Naver</td></tr>\n\t<tr><td>25</td><td>2019-05-16</td><td>08:00</td><td>그리즈만      </td><td> 5</td><td>10대</td><td>Naver</td></tr>\n\t<tr><td>26</td><td>2019-05-16</td><td>08:00</td><td>아이유        </td><td> 6</td><td>10대</td><td>Naver</td></tr>\n\t<tr><td>27</td><td>2019-05-16</td><td>08:00</td><td>나락즈        </td><td> 7</td><td>10대</td><td>Naver</td></tr>\n\t<tr><td>28</td><td>2019-05-16</td><td>08:00</td><td>롤 모바일 상점</td><td> 8</td><td>10대</td><td>Naver</td></tr>\n\t<tr><td>29</td><td>2019-05-16</td><td>08:00</td><td>목요웹툰      </td><td> 9</td><td>10대</td><td>Naver</td></tr>\n\t<tr><td>30</td><td>2019-05-16</td><td>08:00</td><td>절대그이      </td><td>10</td><td>10대</td><td>Naver</td></tr>\n\t<tr><td>...</td><td>...</td><td>...</td><td>...</td><td>...</td><td>...</td><td>...</td></tr>\n\t<tr><td>3451</td><td>2019-05-30</td><td>08:00</td><td>노소영           </td><td>11</td><td>40대     </td><td>Naver</td></tr>\n\t<tr><td>3452</td><td>2019-05-30</td><td>08:00</td><td>희토류           </td><td>12</td><td>40대     </td><td>Naver</td></tr>\n\t<tr><td>3453</td><td>2019-05-30</td><td>08:00</td><td>유로파 결승      </td><td>13</td><td>40대     </td><td>Naver</td></tr>\n\t<tr><td>3454</td><td>2019-05-30</td><td>08:00</td><td>아스날 첼시      </td><td>14</td><td>40대     </td><td>Naver</td></tr>\n\t<tr><td>3455</td><td>2019-05-30</td><td>08:00</td><td>라디오스타       </td><td>15</td><td>40대     </td><td>Naver</td></tr>\n\t<tr><td>3456</td><td>2019-05-30</td><td>08:00</td><td>부다페스트       </td><td>16</td><td>40대     </td><td>Naver</td></tr>\n\t<tr><td>3457</td><td>2019-05-30</td><td>08:00</td><td>600달러          </td><td>17</td><td>40대     </td><td>Naver</td></tr>\n\t<tr><td>3458</td><td>2019-05-30</td><td>08:00</td><td>이수나           </td><td>18</td><td>40대     </td><td>Naver</td></tr>\n\t<tr><td>3459</td><td>2019-05-30</td><td>08:00</td><td>송가인           </td><td>19</td><td>40대     </td><td>Naver</td></tr>\n\t<tr><td>3460</td><td>2019-05-30</td><td>08:00</td><td>마데카커버크림   </td><td>20</td><td>40대     </td><td>Naver</td></tr>\n\t<tr><td>3461</td><td>2019-05-30</td><td>08:00</td><td>김희영           </td><td> 1</td><td>50대 이상</td><td>Naver</td></tr>\n\t<tr><td>3462</td><td>2019-05-30</td><td>08:00</td><td>첼시 아스날      </td><td> 2</td><td>50대 이상</td><td>Naver</td></tr>\n\t<tr><td>3463</td><td>2019-05-30</td><td>08:00</td><td>티앤씨재단 김희영</td><td> 3</td><td>50대 이상</td><td>Naver</td></tr>\n\t<tr><td>3464</td><td>2019-05-30</td><td>08:00</td><td>김현철 정신과의사</td><td> 4</td><td>50대 이상</td><td>Naver</td></tr>\n\t<tr><td>3465</td><td>2019-05-30</td><td>08:00</td><td>희토류           </td><td> 5</td><td>50대 이상</td><td>Naver</td></tr>\n\t<tr><td>3466</td><td>2019-05-30</td><td>08:00</td><td>조로우           </td><td> 6</td><td>50대 이상</td><td>Naver</td></tr>\n\t<tr><td>3467</td><td>2019-05-30</td><td>08:00</td><td>송철호           </td><td> 7</td><td>50대 이상</td><td>Naver</td></tr>\n\t<tr><td>3468</td><td>2019-05-30</td><td>08:00</td><td>헝가리           </td><td> 8</td><td>50대 이상</td><td>Naver</td></tr>\n\t<tr><td>3469</td><td>2019-05-30</td><td>08:00</td><td>부다페스트       </td><td> 9</td><td>50대 이상</td><td>Naver</td></tr>\n\t<tr><td>3470</td><td>2019-05-30</td><td>08:00</td><td>이우현           </td><td>10</td><td>50대 이상</td><td>Naver</td></tr>\n\t<tr><td>3471</td><td>2019-05-30</td><td>08:00</td><td>최태원           </td><td>11</td><td>50대 이상</td><td>Naver</td></tr>\n\t<tr><td>3472</td><td>2019-05-30</td><td>08:00</td><td>신림동 cctv      </td><td>12</td><td>50대 이상</td><td>Naver</td></tr>\n\t<tr><td>3473</td><td>2019-05-30</td><td>08:00</td><td>라디오스타       </td><td>13</td><td>50대 이상</td><td>Naver</td></tr>\n\t<tr><td>3474</td><td>2019-05-30</td><td>08:00</td><td>최상주           </td><td>14</td><td>50대 이상</td><td>Naver</td></tr>\n\t<tr><td>3475</td><td>2019-05-30</td><td>08:00</td><td>노소영           </td><td>15</td><td>50대 이상</td><td>Naver</td></tr>\n\t<tr><td>3476</td><td>2019-05-30</td><td>08:00</td><td>연금복권 당첨번호</td><td>16</td><td>50대 이상</td><td>Naver</td></tr>\n\t<tr><td>3477</td><td>2019-05-30</td><td>08:00</td><td>울산시장         </td><td>17</td><td>50대 이상</td><td>Naver</td></tr>\n\t<tr><td>3478</td><td>2019-05-30</td><td>08:00</td><td>싸이             </td><td>18</td><td>50대 이상</td><td>Naver</td></tr>\n\t<tr><td>3479</td><td>2019-05-30</td><td>08:00</td><td>유로파 결승      </td><td>19</td><td>50대 이상</td><td>Naver</td></tr>\n\t<tr><td>3480</td><td>2019-05-30</td><td>08:00</td><td>한상대           </td><td>20</td><td>50대 이상</td><td>Naver</td></tr>\n</tbody>\n</table>\n"
          },
          "metadata": {}
        }
      ]
    },
    {
      "metadata": {
        "ExecuteTime": {
          "start_time": "2019-07-03T05:29:40.464Z",
          "end_time": "2019-07-03T05:29:41.02711Z"
        },
        "trusted": true
      },
      "cell_type": "code",
      "source": "write.csv(raw_data, file = \"KeywordSearch_raw_data.csv\")",
      "execution_count": 69,
      "outputs": []
    },
    {
      "metadata": {
        "ExecuteTime": {
          "start_time": "2019-07-03T05:30:32.161Z",
          "end_time": "2019-07-03T05:30:32.085463Z"
        },
        "trusted": true
      },
      "cell_type": "code",
      "source": "write.table(raw_data, file = \"KeywordSearch_raw_data.txt\", quote = FALSE)",
      "execution_count": 70,
      "outputs": []
    },
    {
      "metadata": {
        "ExecuteTime": {
          "start_time": "2019-07-03T05:34:26.008Z",
          "end_time": "2019-07-03T05:34:25.60168Z"
        },
        "trusted": true
      },
      "cell_type": "code",
      "source": "str(raw_data)",
      "execution_count": 71,
      "outputs": [
        {
          "output_type": "stream",
          "text": "'data.frame':\t3480 obs. of  7 variables:\n $ ID      : int  1 2 3 4 5 6 7 8 9 10 ...\n $ Date    : Factor w/ 15 levels \"2019-05-16\",\"2019-05-17\",..: 1 1 1 1 1 1 1 1 1 1 ...\n $ Time    : Factor w/ 2 levels \"08:00\",\"20:00\": 1 1 1 1 1 1 1 1 1 1 ...\n $ Keyword : Factor w/ 994 levels \"0.0mhz\",\"100%석류즙\",..: 643 748 858 700 85 602 70 749 344 666 ...\n $ Rank    : int  1 2 3 4 5 6 7 8 9 10 ...\n $ Category: Factor w/ 6 levels \"10대\",\"20대\",..: 6 6 6 6 6 6 6 6 6 6 ...\n $ Source  : Factor w/ 1 level \"Naver\": 1 1 1 1 1 1 1 1 1 1 ...\n",
          "name": "stdout"
        }
      ]
    },
    {
      "metadata": {
        "ExecuteTime": {
          "start_time": "2019-07-03T05:34:39.329Z",
          "end_time": "2019-07-03T05:34:38.910977Z"
        },
        "trusted": true
      },
      "cell_type": "code",
      "source": "dim(raw_data)",
      "execution_count": 72,
      "outputs": [
        {
          "output_type": "display_data",
          "data": {
            "text/plain": "[1] 3480    7",
            "text/latex": "\\begin{enumerate*}\n\\item 3480\n\\item 7\n\\end{enumerate*}\n",
            "text/markdown": "1. 3480\n2. 7\n\n\n",
            "text/html": "<ol class=list-inline>\n\t<li>3480</li>\n\t<li>7</li>\n</ol>\n"
          },
          "metadata": {}
        }
      ]
    },
    {
      "metadata": {
        "ExecuteTime": {
          "start_time": "2019-07-03T05:34:56.151Z",
          "end_time": "2019-07-03T05:34:55.711105Z"
        },
        "trusted": true
      },
      "cell_type": "code",
      "source": "ls(raw_data)",
      "execution_count": 73,
      "outputs": [
        {
          "output_type": "display_data",
          "data": {
            "text/plain": "[1] \"Category\" \"Date\"     \"ID\"       \"Keyword\"  \"Rank\"     \"Source\"   \"Time\"    ",
            "text/latex": "\\begin{enumerate*}\n\\item 'Category'\n\\item 'Date'\n\\item 'ID'\n\\item 'Keyword'\n\\item 'Rank'\n\\item 'Source'\n\\item 'Time'\n\\end{enumerate*}\n",
            "text/markdown": "1. 'Category'\n2. 'Date'\n3. 'ID'\n4. 'Keyword'\n5. 'Rank'\n6. 'Source'\n7. 'Time'\n\n\n",
            "text/html": "<ol class=list-inline>\n\t<li>'Category'</li>\n\t<li>'Date'</li>\n\t<li>'ID'</li>\n\t<li>'Keyword'</li>\n\t<li>'Rank'</li>\n\t<li>'Source'</li>\n\t<li>'Time'</li>\n</ol>\n"
          },
          "metadata": {}
        }
      ]
    },
    {
      "metadata": {
        "ExecuteTime": {
          "start_time": "2019-07-03T05:37:58.036Z",
          "end_time": "2019-07-03T05:45:31.788907Z"
        },
        "trusted": true
      },
      "cell_type": "code",
      "source": "install.packages(\"dplyr\")",
      "execution_count": 74,
      "outputs": [
        {
          "output_type": "stream",
          "text": "Installing package into ‘/home/nbuser/R’\n(as ‘lib’ is unspecified)\n",
          "name": "stderr"
        }
      ]
    },
    {
      "metadata": {
        "ExecuteTime": {
          "start_time": "2019-07-03T05:50:25.178Z",
          "end_time": "2019-07-03T05:50:25.502714Z"
        },
        "trusted": true
      },
      "cell_type": "code",
      "source": "library(dplyr)",
      "execution_count": 75,
      "outputs": [
        {
          "output_type": "stream",
          "text": "\nAttaching package: ‘dplyr’\n\nThe following objects are masked from ‘package:stats’:\n\n    filter, lag\n\nThe following objects are masked from ‘package:base’:\n\n    intersect, setdiff, setequal, union\n\n",
          "name": "stderr"
        }
      ]
    },
    {
      "metadata": {
        "ExecuteTime": {
          "start_time": "2019-07-03T05:53:20.89Z",
          "end_time": "2019-07-03T05:53:20.595813Z"
        },
        "trusted": true
      },
      "cell_type": "code",
      "source": "raw_data <- rename(raw_data, Orders = ID)",
      "execution_count": 80,
      "outputs": [
        {
          "output_type": "error",
          "ename": "ERROR",
          "evalue": "Column positions must be scalar",
          "traceback": [
            "Column positions must be scalarTraceback:\n",
            "1. rename(raw_data, Orders = ID)",
            "2. rename.data.frame(raw_data, Orders = ID)",
            "3. tidyselect::vars_rename(names(.data), !!!enquos(...))",
            "4. vars_rename_eval(quos, .vars)",
            "5. map2_chr(renamed, names(quos), validate_renamed_var, vars)",
            "6. .f(.x[[1L]], .y[[1L]], ...)",
            "7. switch_type(expr, integer = , double = if (!is_integerish(expr)) {\n .     abort(glue(\"{ Singular(vars) } positions must be round numbers\"))\n . } else if (length(expr) != 1) {\n .     abort(glue(\"{ Singular(vars) } positions must be scalar\"))\n . } else {\n .     return(vars[[expr]])\n . }, string = return(expr))",
            "8. abort(glue(\"{ Singular(vars) } positions must be scalar\"))"
          ]
        }
      ]
    },
    {
      "metadata": {
        "ExecuteTime": {
          "start_time": "2019-07-03T05:54:03.407Z",
          "end_time": "2019-07-03T05:54:03.033817Z"
        },
        "trusted": true
      },
      "cell_type": "code",
      "source": "raw_data <- rename(raw_data, ID = Orders)",
      "execution_count": 82,
      "outputs": []
    },
    {
      "metadata": {
        "ExecuteTime": {
          "start_time": "2019-07-03T05:54:06.33Z",
          "end_time": "2019-07-03T05:54:06.133746Z"
        },
        "trusted": true
      },
      "cell_type": "code",
      "source": "raw_data",
      "execution_count": 83,
      "outputs": [
        {
          "output_type": "display_data",
          "data": {
            "text/plain": "     ID   Date       Time  Keyword           Rank Category  Source\n1     1   2019-05-16 08:00 유승현             1   전체      Naver \n2     2   2019-05-16 08:00 절대그이           2   전체      Naver \n3     3   2019-05-16 08:00 타다               3   전체      Naver \n4     4   2019-05-16 08:00 읶메뜨리넹         4   전체      Naver \n5     5   2019-05-16 08:00 공명               5   전체      Naver \n6     6   2019-05-16 08:00 오신환             6   전체      Naver \n7     7   2019-05-16 08:00 강신명             7   전체      Naver \n8     8   2019-05-16 08:00 정다은             8   전체      Naver \n9     9   2019-05-16 08:00 박한별             9   전체      Naver \n10   10   2019-05-16 08:00 이다지            10   전체      Naver \n11   11   2019-05-16 08:00 악인전            11   전체      Naver \n12   12   2019-05-16 08:00 방민아            12   전체      Naver \n13   13   2019-05-16 08:00 연애혁명          13   전체      Naver \n14   14   2019-05-16 08:00 라디오스타        14   전체      Naver \n15   15   2019-05-16 08:00 안양교            15   전체      Naver \n16   16   2019-05-16 08:00 타다 이용방법     16   전체      Naver \n17   17   2019-05-16 08:00 유인석            17   전체      Naver \n18   18   2019-05-16 08:00 황민현            18   전체      Naver \n19   19   2019-05-16 08:00 한끼줍쇼          19   전체      Naver \n20   20   2019-05-16 08:00 위너              20   전체      Naver \n21   21   2019-05-16 08:00 연애혁명           1   10대      Naver \n22   22   2019-05-16 08:00 최고의 엔딩        2   10대      Naver \n23   23   2019-05-16 08:00 버스도착정보       3   10대      Naver \n24   24   2019-05-16 08:00 위너               4   10대      Naver \n25   25   2019-05-16 08:00 그리즈만           5   10대      Naver \n26   26   2019-05-16 08:00 아이유             6   10대      Naver \n27   27   2019-05-16 08:00 나락즈             7   10대      Naver \n28   28   2019-05-16 08:00 롤 모바일 상점     8   10대      Naver \n29   29   2019-05-16 08:00 목요웹툰           9   10대      Naver \n30   30   2019-05-16 08:00 절대그이          10   10대      Naver \n...  ...  ...        ...   ...               ...  ...       ...   \n3451 3451 2019-05-30 08:00 노소영            11   40대      Naver \n3452 3452 2019-05-30 08:00 희토류            12   40대      Naver \n3453 3453 2019-05-30 08:00 유로파 결승       13   40대      Naver \n3454 3454 2019-05-30 08:00 아스날 첼시       14   40대      Naver \n3455 3455 2019-05-30 08:00 라디오스타        15   40대      Naver \n3456 3456 2019-05-30 08:00 부다페스트        16   40대      Naver \n3457 3457 2019-05-30 08:00 600달러           17   40대      Naver \n3458 3458 2019-05-30 08:00 이수나            18   40대      Naver \n3459 3459 2019-05-30 08:00 송가인            19   40대      Naver \n3460 3460 2019-05-30 08:00 마데카커버크림    20   40대      Naver \n3461 3461 2019-05-30 08:00 김희영             1   50대 이상 Naver \n3462 3462 2019-05-30 08:00 첼시 아스날        2   50대 이상 Naver \n3463 3463 2019-05-30 08:00 티앤씨재단 김희영  3   50대 이상 Naver \n3464 3464 2019-05-30 08:00 김현철 정신과의사  4   50대 이상 Naver \n3465 3465 2019-05-30 08:00 희토류             5   50대 이상 Naver \n3466 3466 2019-05-30 08:00 조로우             6   50대 이상 Naver \n3467 3467 2019-05-30 08:00 송철호             7   50대 이상 Naver \n3468 3468 2019-05-30 08:00 헝가리             8   50대 이상 Naver \n3469 3469 2019-05-30 08:00 부다페스트         9   50대 이상 Naver \n3470 3470 2019-05-30 08:00 이우현            10   50대 이상 Naver \n3471 3471 2019-05-30 08:00 최태원            11   50대 이상 Naver \n3472 3472 2019-05-30 08:00 신림동 cctv       12   50대 이상 Naver \n3473 3473 2019-05-30 08:00 라디오스타        13   50대 이상 Naver \n3474 3474 2019-05-30 08:00 최상주            14   50대 이상 Naver \n3475 3475 2019-05-30 08:00 노소영            15   50대 이상 Naver \n3476 3476 2019-05-30 08:00 연금복권 당첨번호 16   50대 이상 Naver \n3477 3477 2019-05-30 08:00 울산시장          17   50대 이상 Naver \n3478 3478 2019-05-30 08:00 싸이              18   50대 이상 Naver \n3479 3479 2019-05-30 08:00 유로파 결승       19   50대 이상 Naver \n3480 3480 2019-05-30 08:00 한상대            20   50대 이상 Naver ",
            "text/latex": "A data.frame: 3480 x 7\n\\begin{tabular}{r|lllllll}\n ID & Date & Time & Keyword & Rank & Category & Source\\\\\n <int> & <fct> & <fct> & <fct> & <int> & <fct> & <fct>\\\\\n\\hline\n\t  1 & 2019-05-16 & 08:00 & 유승현         &  1 & 전체 & Naver\\\\\n\t  2 & 2019-05-16 & 08:00 & 절대그이       &  2 & 전체 & Naver\\\\\n\t  3 & 2019-05-16 & 08:00 & 타다           &  3 & 전체 & Naver\\\\\n\t  4 & 2019-05-16 & 08:00 & 읶메뜨리넹     &  4 & 전체 & Naver\\\\\n\t  5 & 2019-05-16 & 08:00 & 공명           &  5 & 전체 & Naver\\\\\n\t  6 & 2019-05-16 & 08:00 & 오신환         &  6 & 전체 & Naver\\\\\n\t  7 & 2019-05-16 & 08:00 & 강신명         &  7 & 전체 & Naver\\\\\n\t  8 & 2019-05-16 & 08:00 & 정다은         &  8 & 전체 & Naver\\\\\n\t  9 & 2019-05-16 & 08:00 & 박한별         &  9 & 전체 & Naver\\\\\n\t 10 & 2019-05-16 & 08:00 & 이다지         & 10 & 전체 & Naver\\\\\n\t 11 & 2019-05-16 & 08:00 & 악인전         & 11 & 전체 & Naver\\\\\n\t 12 & 2019-05-16 & 08:00 & 방민아         & 12 & 전체 & Naver\\\\\n\t 13 & 2019-05-16 & 08:00 & 연애혁명       & 13 & 전체 & Naver\\\\\n\t 14 & 2019-05-16 & 08:00 & 라디오스타     & 14 & 전체 & Naver\\\\\n\t 15 & 2019-05-16 & 08:00 & 안양교         & 15 & 전체 & Naver\\\\\n\t 16 & 2019-05-16 & 08:00 & 타다 이용방법  & 16 & 전체 & Naver\\\\\n\t 17 & 2019-05-16 & 08:00 & 유인석         & 17 & 전체 & Naver\\\\\n\t 18 & 2019-05-16 & 08:00 & 황민현         & 18 & 전체 & Naver\\\\\n\t 19 & 2019-05-16 & 08:00 & 한끼줍쇼       & 19 & 전체 & Naver\\\\\n\t 20 & 2019-05-16 & 08:00 & 위너           & 20 & 전체 & Naver\\\\\n\t 21 & 2019-05-16 & 08:00 & 연애혁명       &  1 & 10대 & Naver\\\\\n\t 22 & 2019-05-16 & 08:00 & 최고의 엔딩    &  2 & 10대 & Naver\\\\\n\t 23 & 2019-05-16 & 08:00 & 버스도착정보   &  3 & 10대 & Naver\\\\\n\t 24 & 2019-05-16 & 08:00 & 위너           &  4 & 10대 & Naver\\\\\n\t 25 & 2019-05-16 & 08:00 & 그리즈만       &  5 & 10대 & Naver\\\\\n\t 26 & 2019-05-16 & 08:00 & 아이유         &  6 & 10대 & Naver\\\\\n\t 27 & 2019-05-16 & 08:00 & 나락즈         &  7 & 10대 & Naver\\\\\n\t 28 & 2019-05-16 & 08:00 & 롤 모바일 상점 &  8 & 10대 & Naver\\\\\n\t 29 & 2019-05-16 & 08:00 & 목요웹툰       &  9 & 10대 & Naver\\\\\n\t 30 & 2019-05-16 & 08:00 & 절대그이       & 10 & 10대 & Naver\\\\\n\t ... & ... & ... & ... & ... & ... & ...\\\\\n\t 3451 & 2019-05-30 & 08:00 & 노소영            & 11 & 40대      & Naver\\\\\n\t 3452 & 2019-05-30 & 08:00 & 희토류            & 12 & 40대      & Naver\\\\\n\t 3453 & 2019-05-30 & 08:00 & 유로파 결승       & 13 & 40대      & Naver\\\\\n\t 3454 & 2019-05-30 & 08:00 & 아스날 첼시       & 14 & 40대      & Naver\\\\\n\t 3455 & 2019-05-30 & 08:00 & 라디오스타        & 15 & 40대      & Naver\\\\\n\t 3456 & 2019-05-30 & 08:00 & 부다페스트        & 16 & 40대      & Naver\\\\\n\t 3457 & 2019-05-30 & 08:00 & 600달러           & 17 & 40대      & Naver\\\\\n\t 3458 & 2019-05-30 & 08:00 & 이수나            & 18 & 40대      & Naver\\\\\n\t 3459 & 2019-05-30 & 08:00 & 송가인            & 19 & 40대      & Naver\\\\\n\t 3460 & 2019-05-30 & 08:00 & 마데카커버크림    & 20 & 40대      & Naver\\\\\n\t 3461 & 2019-05-30 & 08:00 & 김희영            &  1 & 50대 이상 & Naver\\\\\n\t 3462 & 2019-05-30 & 08:00 & 첼시 아스날       &  2 & 50대 이상 & Naver\\\\\n\t 3463 & 2019-05-30 & 08:00 & 티앤씨재단 김희영 &  3 & 50대 이상 & Naver\\\\\n\t 3464 & 2019-05-30 & 08:00 & 김현철 정신과의사 &  4 & 50대 이상 & Naver\\\\\n\t 3465 & 2019-05-30 & 08:00 & 희토류            &  5 & 50대 이상 & Naver\\\\\n\t 3466 & 2019-05-30 & 08:00 & 조로우            &  6 & 50대 이상 & Naver\\\\\n\t 3467 & 2019-05-30 & 08:00 & 송철호            &  7 & 50대 이상 & Naver\\\\\n\t 3468 & 2019-05-30 & 08:00 & 헝가리            &  8 & 50대 이상 & Naver\\\\\n\t 3469 & 2019-05-30 & 08:00 & 부다페스트        &  9 & 50대 이상 & Naver\\\\\n\t 3470 & 2019-05-30 & 08:00 & 이우현            & 10 & 50대 이상 & Naver\\\\\n\t 3471 & 2019-05-30 & 08:00 & 최태원            & 11 & 50대 이상 & Naver\\\\\n\t 3472 & 2019-05-30 & 08:00 & 신림동 cctv       & 12 & 50대 이상 & Naver\\\\\n\t 3473 & 2019-05-30 & 08:00 & 라디오스타        & 13 & 50대 이상 & Naver\\\\\n\t 3474 & 2019-05-30 & 08:00 & 최상주            & 14 & 50대 이상 & Naver\\\\\n\t 3475 & 2019-05-30 & 08:00 & 노소영            & 15 & 50대 이상 & Naver\\\\\n\t 3476 & 2019-05-30 & 08:00 & 연금복권 당첨번호 & 16 & 50대 이상 & Naver\\\\\n\t 3477 & 2019-05-30 & 08:00 & 울산시장          & 17 & 50대 이상 & Naver\\\\\n\t 3478 & 2019-05-30 & 08:00 & 싸이              & 18 & 50대 이상 & Naver\\\\\n\t 3479 & 2019-05-30 & 08:00 & 유로파 결승       & 19 & 50대 이상 & Naver\\\\\n\t 3480 & 2019-05-30 & 08:00 & 한상대            & 20 & 50대 이상 & Naver\\\\\n\\end{tabular}\n",
            "text/markdown": "\nA data.frame: 3480 x 7\n\n| ID &lt;int&gt; | Date &lt;fct&gt; | Time &lt;fct&gt; | Keyword &lt;fct&gt; | Rank &lt;int&gt; | Category &lt;fct&gt; | Source &lt;fct&gt; |\n|---|---|---|---|---|---|---|\n|  1 | 2019-05-16 | 08:00 | 유승현         |  1 | 전체 | Naver |\n|  2 | 2019-05-16 | 08:00 | 절대그이       |  2 | 전체 | Naver |\n|  3 | 2019-05-16 | 08:00 | 타다           |  3 | 전체 | Naver |\n|  4 | 2019-05-16 | 08:00 | 읶메뜨리넹     |  4 | 전체 | Naver |\n|  5 | 2019-05-16 | 08:00 | 공명           |  5 | 전체 | Naver |\n|  6 | 2019-05-16 | 08:00 | 오신환         |  6 | 전체 | Naver |\n|  7 | 2019-05-16 | 08:00 | 강신명         |  7 | 전체 | Naver |\n|  8 | 2019-05-16 | 08:00 | 정다은         |  8 | 전체 | Naver |\n|  9 | 2019-05-16 | 08:00 | 박한별         |  9 | 전체 | Naver |\n| 10 | 2019-05-16 | 08:00 | 이다지         | 10 | 전체 | Naver |\n| 11 | 2019-05-16 | 08:00 | 악인전         | 11 | 전체 | Naver |\n| 12 | 2019-05-16 | 08:00 | 방민아         | 12 | 전체 | Naver |\n| 13 | 2019-05-16 | 08:00 | 연애혁명       | 13 | 전체 | Naver |\n| 14 | 2019-05-16 | 08:00 | 라디오스타     | 14 | 전체 | Naver |\n| 15 | 2019-05-16 | 08:00 | 안양교         | 15 | 전체 | Naver |\n| 16 | 2019-05-16 | 08:00 | 타다 이용방법  | 16 | 전체 | Naver |\n| 17 | 2019-05-16 | 08:00 | 유인석         | 17 | 전체 | Naver |\n| 18 | 2019-05-16 | 08:00 | 황민현         | 18 | 전체 | Naver |\n| 19 | 2019-05-16 | 08:00 | 한끼줍쇼       | 19 | 전체 | Naver |\n| 20 | 2019-05-16 | 08:00 | 위너           | 20 | 전체 | Naver |\n| 21 | 2019-05-16 | 08:00 | 연애혁명       |  1 | 10대 | Naver |\n| 22 | 2019-05-16 | 08:00 | 최고의 엔딩    |  2 | 10대 | Naver |\n| 23 | 2019-05-16 | 08:00 | 버스도착정보   |  3 | 10대 | Naver |\n| 24 | 2019-05-16 | 08:00 | 위너           |  4 | 10대 | Naver |\n| 25 | 2019-05-16 | 08:00 | 그리즈만       |  5 | 10대 | Naver |\n| 26 | 2019-05-16 | 08:00 | 아이유         |  6 | 10대 | Naver |\n| 27 | 2019-05-16 | 08:00 | 나락즈         |  7 | 10대 | Naver |\n| 28 | 2019-05-16 | 08:00 | 롤 모바일 상점 |  8 | 10대 | Naver |\n| 29 | 2019-05-16 | 08:00 | 목요웹툰       |  9 | 10대 | Naver |\n| 30 | 2019-05-16 | 08:00 | 절대그이       | 10 | 10대 | Naver |\n| ... | ... | ... | ... | ... | ... | ... |\n| 3451 | 2019-05-30 | 08:00 | 노소영            | 11 | 40대      | Naver |\n| 3452 | 2019-05-30 | 08:00 | 희토류            | 12 | 40대      | Naver |\n| 3453 | 2019-05-30 | 08:00 | 유로파 결승       | 13 | 40대      | Naver |\n| 3454 | 2019-05-30 | 08:00 | 아스날 첼시       | 14 | 40대      | Naver |\n| 3455 | 2019-05-30 | 08:00 | 라디오스타        | 15 | 40대      | Naver |\n| 3456 | 2019-05-30 | 08:00 | 부다페스트        | 16 | 40대      | Naver |\n| 3457 | 2019-05-30 | 08:00 | 600달러           | 17 | 40대      | Naver |\n| 3458 | 2019-05-30 | 08:00 | 이수나            | 18 | 40대      | Naver |\n| 3459 | 2019-05-30 | 08:00 | 송가인            | 19 | 40대      | Naver |\n| 3460 | 2019-05-30 | 08:00 | 마데카커버크림    | 20 | 40대      | Naver |\n| 3461 | 2019-05-30 | 08:00 | 김희영            |  1 | 50대 이상 | Naver |\n| 3462 | 2019-05-30 | 08:00 | 첼시 아스날       |  2 | 50대 이상 | Naver |\n| 3463 | 2019-05-30 | 08:00 | 티앤씨재단 김희영 |  3 | 50대 이상 | Naver |\n| 3464 | 2019-05-30 | 08:00 | 김현철 정신과의사 |  4 | 50대 이상 | Naver |\n| 3465 | 2019-05-30 | 08:00 | 희토류            |  5 | 50대 이상 | Naver |\n| 3466 | 2019-05-30 | 08:00 | 조로우            |  6 | 50대 이상 | Naver |\n| 3467 | 2019-05-30 | 08:00 | 송철호            |  7 | 50대 이상 | Naver |\n| 3468 | 2019-05-30 | 08:00 | 헝가리            |  8 | 50대 이상 | Naver |\n| 3469 | 2019-05-30 | 08:00 | 부다페스트        |  9 | 50대 이상 | Naver |\n| 3470 | 2019-05-30 | 08:00 | 이우현            | 10 | 50대 이상 | Naver |\n| 3471 | 2019-05-30 | 08:00 | 최태원            | 11 | 50대 이상 | Naver |\n| 3472 | 2019-05-30 | 08:00 | 신림동 cctv       | 12 | 50대 이상 | Naver |\n| 3473 | 2019-05-30 | 08:00 | 라디오스타        | 13 | 50대 이상 | Naver |\n| 3474 | 2019-05-30 | 08:00 | 최상주            | 14 | 50대 이상 | Naver |\n| 3475 | 2019-05-30 | 08:00 | 노소영            | 15 | 50대 이상 | Naver |\n| 3476 | 2019-05-30 | 08:00 | 연금복권 당첨번호 | 16 | 50대 이상 | Naver |\n| 3477 | 2019-05-30 | 08:00 | 울산시장          | 17 | 50대 이상 | Naver |\n| 3478 | 2019-05-30 | 08:00 | 싸이              | 18 | 50대 이상 | Naver |\n| 3479 | 2019-05-30 | 08:00 | 유로파 결승       | 19 | 50대 이상 | Naver |\n| 3480 | 2019-05-30 | 08:00 | 한상대            | 20 | 50대 이상 | Naver |\n\n",
            "text/html": "<table>\n<caption>A data.frame: 3480 x 7</caption>\n<thead>\n\t<tr><th scope=col>ID</th><th scope=col>Date</th><th scope=col>Time</th><th scope=col>Keyword</th><th scope=col>Rank</th><th scope=col>Category</th><th scope=col>Source</th></tr>\n\t<tr><th scope=col>&lt;int&gt;</th><th scope=col>&lt;fct&gt;</th><th scope=col>&lt;fct&gt;</th><th scope=col>&lt;fct&gt;</th><th scope=col>&lt;int&gt;</th><th scope=col>&lt;fct&gt;</th><th scope=col>&lt;fct&gt;</th></tr>\n</thead>\n<tbody>\n\t<tr><td> 1</td><td>2019-05-16</td><td>08:00</td><td>유승현        </td><td> 1</td><td>전체</td><td>Naver</td></tr>\n\t<tr><td> 2</td><td>2019-05-16</td><td>08:00</td><td>절대그이      </td><td> 2</td><td>전체</td><td>Naver</td></tr>\n\t<tr><td> 3</td><td>2019-05-16</td><td>08:00</td><td>타다          </td><td> 3</td><td>전체</td><td>Naver</td></tr>\n\t<tr><td> 4</td><td>2019-05-16</td><td>08:00</td><td>읶메뜨리넹    </td><td> 4</td><td>전체</td><td>Naver</td></tr>\n\t<tr><td> 5</td><td>2019-05-16</td><td>08:00</td><td>공명          </td><td> 5</td><td>전체</td><td>Naver</td></tr>\n\t<tr><td> 6</td><td>2019-05-16</td><td>08:00</td><td>오신환        </td><td> 6</td><td>전체</td><td>Naver</td></tr>\n\t<tr><td> 7</td><td>2019-05-16</td><td>08:00</td><td>강신명        </td><td> 7</td><td>전체</td><td>Naver</td></tr>\n\t<tr><td> 8</td><td>2019-05-16</td><td>08:00</td><td>정다은        </td><td> 8</td><td>전체</td><td>Naver</td></tr>\n\t<tr><td> 9</td><td>2019-05-16</td><td>08:00</td><td>박한별        </td><td> 9</td><td>전체</td><td>Naver</td></tr>\n\t<tr><td>10</td><td>2019-05-16</td><td>08:00</td><td>이다지        </td><td>10</td><td>전체</td><td>Naver</td></tr>\n\t<tr><td>11</td><td>2019-05-16</td><td>08:00</td><td>악인전        </td><td>11</td><td>전체</td><td>Naver</td></tr>\n\t<tr><td>12</td><td>2019-05-16</td><td>08:00</td><td>방민아        </td><td>12</td><td>전체</td><td>Naver</td></tr>\n\t<tr><td>13</td><td>2019-05-16</td><td>08:00</td><td>연애혁명      </td><td>13</td><td>전체</td><td>Naver</td></tr>\n\t<tr><td>14</td><td>2019-05-16</td><td>08:00</td><td>라디오스타    </td><td>14</td><td>전체</td><td>Naver</td></tr>\n\t<tr><td>15</td><td>2019-05-16</td><td>08:00</td><td>안양교        </td><td>15</td><td>전체</td><td>Naver</td></tr>\n\t<tr><td>16</td><td>2019-05-16</td><td>08:00</td><td>타다 이용방법 </td><td>16</td><td>전체</td><td>Naver</td></tr>\n\t<tr><td>17</td><td>2019-05-16</td><td>08:00</td><td>유인석        </td><td>17</td><td>전체</td><td>Naver</td></tr>\n\t<tr><td>18</td><td>2019-05-16</td><td>08:00</td><td>황민현        </td><td>18</td><td>전체</td><td>Naver</td></tr>\n\t<tr><td>19</td><td>2019-05-16</td><td>08:00</td><td>한끼줍쇼      </td><td>19</td><td>전체</td><td>Naver</td></tr>\n\t<tr><td>20</td><td>2019-05-16</td><td>08:00</td><td>위너          </td><td>20</td><td>전체</td><td>Naver</td></tr>\n\t<tr><td>21</td><td>2019-05-16</td><td>08:00</td><td>연애혁명      </td><td> 1</td><td>10대</td><td>Naver</td></tr>\n\t<tr><td>22</td><td>2019-05-16</td><td>08:00</td><td>최고의 엔딩   </td><td> 2</td><td>10대</td><td>Naver</td></tr>\n\t<tr><td>23</td><td>2019-05-16</td><td>08:00</td><td>버스도착정보  </td><td> 3</td><td>10대</td><td>Naver</td></tr>\n\t<tr><td>24</td><td>2019-05-16</td><td>08:00</td><td>위너          </td><td> 4</td><td>10대</td><td>Naver</td></tr>\n\t<tr><td>25</td><td>2019-05-16</td><td>08:00</td><td>그리즈만      </td><td> 5</td><td>10대</td><td>Naver</td></tr>\n\t<tr><td>26</td><td>2019-05-16</td><td>08:00</td><td>아이유        </td><td> 6</td><td>10대</td><td>Naver</td></tr>\n\t<tr><td>27</td><td>2019-05-16</td><td>08:00</td><td>나락즈        </td><td> 7</td><td>10대</td><td>Naver</td></tr>\n\t<tr><td>28</td><td>2019-05-16</td><td>08:00</td><td>롤 모바일 상점</td><td> 8</td><td>10대</td><td>Naver</td></tr>\n\t<tr><td>29</td><td>2019-05-16</td><td>08:00</td><td>목요웹툰      </td><td> 9</td><td>10대</td><td>Naver</td></tr>\n\t<tr><td>30</td><td>2019-05-16</td><td>08:00</td><td>절대그이      </td><td>10</td><td>10대</td><td>Naver</td></tr>\n\t<tr><td>...</td><td>...</td><td>...</td><td>...</td><td>...</td><td>...</td><td>...</td></tr>\n\t<tr><td>3451</td><td>2019-05-30</td><td>08:00</td><td>노소영           </td><td>11</td><td>40대     </td><td>Naver</td></tr>\n\t<tr><td>3452</td><td>2019-05-30</td><td>08:00</td><td>희토류           </td><td>12</td><td>40대     </td><td>Naver</td></tr>\n\t<tr><td>3453</td><td>2019-05-30</td><td>08:00</td><td>유로파 결승      </td><td>13</td><td>40대     </td><td>Naver</td></tr>\n\t<tr><td>3454</td><td>2019-05-30</td><td>08:00</td><td>아스날 첼시      </td><td>14</td><td>40대     </td><td>Naver</td></tr>\n\t<tr><td>3455</td><td>2019-05-30</td><td>08:00</td><td>라디오스타       </td><td>15</td><td>40대     </td><td>Naver</td></tr>\n\t<tr><td>3456</td><td>2019-05-30</td><td>08:00</td><td>부다페스트       </td><td>16</td><td>40대     </td><td>Naver</td></tr>\n\t<tr><td>3457</td><td>2019-05-30</td><td>08:00</td><td>600달러          </td><td>17</td><td>40대     </td><td>Naver</td></tr>\n\t<tr><td>3458</td><td>2019-05-30</td><td>08:00</td><td>이수나           </td><td>18</td><td>40대     </td><td>Naver</td></tr>\n\t<tr><td>3459</td><td>2019-05-30</td><td>08:00</td><td>송가인           </td><td>19</td><td>40대     </td><td>Naver</td></tr>\n\t<tr><td>3460</td><td>2019-05-30</td><td>08:00</td><td>마데카커버크림   </td><td>20</td><td>40대     </td><td>Naver</td></tr>\n\t<tr><td>3461</td><td>2019-05-30</td><td>08:00</td><td>김희영           </td><td> 1</td><td>50대 이상</td><td>Naver</td></tr>\n\t<tr><td>3462</td><td>2019-05-30</td><td>08:00</td><td>첼시 아스날      </td><td> 2</td><td>50대 이상</td><td>Naver</td></tr>\n\t<tr><td>3463</td><td>2019-05-30</td><td>08:00</td><td>티앤씨재단 김희영</td><td> 3</td><td>50대 이상</td><td>Naver</td></tr>\n\t<tr><td>3464</td><td>2019-05-30</td><td>08:00</td><td>김현철 정신과의사</td><td> 4</td><td>50대 이상</td><td>Naver</td></tr>\n\t<tr><td>3465</td><td>2019-05-30</td><td>08:00</td><td>희토류           </td><td> 5</td><td>50대 이상</td><td>Naver</td></tr>\n\t<tr><td>3466</td><td>2019-05-30</td><td>08:00</td><td>조로우           </td><td> 6</td><td>50대 이상</td><td>Naver</td></tr>\n\t<tr><td>3467</td><td>2019-05-30</td><td>08:00</td><td>송철호           </td><td> 7</td><td>50대 이상</td><td>Naver</td></tr>\n\t<tr><td>3468</td><td>2019-05-30</td><td>08:00</td><td>헝가리           </td><td> 8</td><td>50대 이상</td><td>Naver</td></tr>\n\t<tr><td>3469</td><td>2019-05-30</td><td>08:00</td><td>부다페스트       </td><td> 9</td><td>50대 이상</td><td>Naver</td></tr>\n\t<tr><td>3470</td><td>2019-05-30</td><td>08:00</td><td>이우현           </td><td>10</td><td>50대 이상</td><td>Naver</td></tr>\n\t<tr><td>3471</td><td>2019-05-30</td><td>08:00</td><td>최태원           </td><td>11</td><td>50대 이상</td><td>Naver</td></tr>\n\t<tr><td>3472</td><td>2019-05-30</td><td>08:00</td><td>신림동 cctv      </td><td>12</td><td>50대 이상</td><td>Naver</td></tr>\n\t<tr><td>3473</td><td>2019-05-30</td><td>08:00</td><td>라디오스타       </td><td>13</td><td>50대 이상</td><td>Naver</td></tr>\n\t<tr><td>3474</td><td>2019-05-30</td><td>08:00</td><td>최상주           </td><td>14</td><td>50대 이상</td><td>Naver</td></tr>\n\t<tr><td>3475</td><td>2019-05-30</td><td>08:00</td><td>노소영           </td><td>15</td><td>50대 이상</td><td>Naver</td></tr>\n\t<tr><td>3476</td><td>2019-05-30</td><td>08:00</td><td>연금복권 당첨번호</td><td>16</td><td>50대 이상</td><td>Naver</td></tr>\n\t<tr><td>3477</td><td>2019-05-30</td><td>08:00</td><td>울산시장         </td><td>17</td><td>50대 이상</td><td>Naver</td></tr>\n\t<tr><td>3478</td><td>2019-05-30</td><td>08:00</td><td>싸이             </td><td>18</td><td>50대 이상</td><td>Naver</td></tr>\n\t<tr><td>3479</td><td>2019-05-30</td><td>08:00</td><td>유로파 결승      </td><td>19</td><td>50대 이상</td><td>Naver</td></tr>\n\t<tr><td>3480</td><td>2019-05-30</td><td>08:00</td><td>한상대           </td><td>20</td><td>50대 이상</td><td>Naver</td></tr>\n</tbody>\n</table>\n"
          },
          "metadata": {}
        }
      ]
    },
    {
      "metadata": {
        "ExecuteTime": {
          "start_time": "2019-07-03T06:00:17.884Z",
          "end_time": "2019-07-03T06:00:17.63014Z"
        },
        "trusted": true
      },
      "cell_type": "code",
      "source": "raw_data %>% select(-ID, - Source)",
      "execution_count": 85,
      "outputs": [
        {
          "output_type": "display_data",
          "data": {
            "text/plain": "     Date       Time  Keyword           Rank Category \n1    2019-05-16 08:00 유승현             1   전체     \n2    2019-05-16 08:00 절대그이           2   전체     \n3    2019-05-16 08:00 타다               3   전체     \n4    2019-05-16 08:00 읶메뜨리넹         4   전체     \n5    2019-05-16 08:00 공명               5   전체     \n6    2019-05-16 08:00 오신환             6   전체     \n7    2019-05-16 08:00 강신명             7   전체     \n8    2019-05-16 08:00 정다은             8   전체     \n9    2019-05-16 08:00 박한별             9   전체     \n10   2019-05-16 08:00 이다지            10   전체     \n11   2019-05-16 08:00 악인전            11   전체     \n12   2019-05-16 08:00 방민아            12   전체     \n13   2019-05-16 08:00 연애혁명          13   전체     \n14   2019-05-16 08:00 라디오스타        14   전체     \n15   2019-05-16 08:00 안양교            15   전체     \n16   2019-05-16 08:00 타다 이용방법     16   전체     \n17   2019-05-16 08:00 유인석            17   전체     \n18   2019-05-16 08:00 황민현            18   전체     \n19   2019-05-16 08:00 한끼줍쇼          19   전체     \n20   2019-05-16 08:00 위너              20   전체     \n21   2019-05-16 08:00 연애혁명           1   10대     \n22   2019-05-16 08:00 최고의 엔딩        2   10대     \n23   2019-05-16 08:00 버스도착정보       3   10대     \n24   2019-05-16 08:00 위너               4   10대     \n25   2019-05-16 08:00 그리즈만           5   10대     \n26   2019-05-16 08:00 아이유             6   10대     \n27   2019-05-16 08:00 나락즈             7   10대     \n28   2019-05-16 08:00 롤 모바일 상점     8   10대     \n29   2019-05-16 08:00 목요웹툰           9   10대     \n30   2019-05-16 08:00 절대그이          10   10대     \n...  ...        ...   ...               ...  ...      \n3451 2019-05-30 08:00 노소영            11   40대     \n3452 2019-05-30 08:00 희토류            12   40대     \n3453 2019-05-30 08:00 유로파 결승       13   40대     \n3454 2019-05-30 08:00 아스날 첼시       14   40대     \n3455 2019-05-30 08:00 라디오스타        15   40대     \n3456 2019-05-30 08:00 부다페스트        16   40대     \n3457 2019-05-30 08:00 600달러           17   40대     \n3458 2019-05-30 08:00 이수나            18   40대     \n3459 2019-05-30 08:00 송가인            19   40대     \n3460 2019-05-30 08:00 마데카커버크림    20   40대     \n3461 2019-05-30 08:00 김희영             1   50대 이상\n3462 2019-05-30 08:00 첼시 아스날        2   50대 이상\n3463 2019-05-30 08:00 티앤씨재단 김희영  3   50대 이상\n3464 2019-05-30 08:00 김현철 정신과의사  4   50대 이상\n3465 2019-05-30 08:00 희토류             5   50대 이상\n3466 2019-05-30 08:00 조로우             6   50대 이상\n3467 2019-05-30 08:00 송철호             7   50대 이상\n3468 2019-05-30 08:00 헝가리             8   50대 이상\n3469 2019-05-30 08:00 부다페스트         9   50대 이상\n3470 2019-05-30 08:00 이우현            10   50대 이상\n3471 2019-05-30 08:00 최태원            11   50대 이상\n3472 2019-05-30 08:00 신림동 cctv       12   50대 이상\n3473 2019-05-30 08:00 라디오스타        13   50대 이상\n3474 2019-05-30 08:00 최상주            14   50대 이상\n3475 2019-05-30 08:00 노소영            15   50대 이상\n3476 2019-05-30 08:00 연금복권 당첨번호 16   50대 이상\n3477 2019-05-30 08:00 울산시장          17   50대 이상\n3478 2019-05-30 08:00 싸이              18   50대 이상\n3479 2019-05-30 08:00 유로파 결승       19   50대 이상\n3480 2019-05-30 08:00 한상대            20   50대 이상",
            "text/latex": "A data.frame: 3480 x 5\n\\begin{tabular}{r|lllll}\n Date & Time & Keyword & Rank & Category\\\\\n <fct> & <fct> & <fct> & <int> & <fct>\\\\\n\\hline\n\t 2019-05-16 & 08:00 & 유승현         &  1 & 전체\\\\\n\t 2019-05-16 & 08:00 & 절대그이       &  2 & 전체\\\\\n\t 2019-05-16 & 08:00 & 타다           &  3 & 전체\\\\\n\t 2019-05-16 & 08:00 & 읶메뜨리넹     &  4 & 전체\\\\\n\t 2019-05-16 & 08:00 & 공명           &  5 & 전체\\\\\n\t 2019-05-16 & 08:00 & 오신환         &  6 & 전체\\\\\n\t 2019-05-16 & 08:00 & 강신명         &  7 & 전체\\\\\n\t 2019-05-16 & 08:00 & 정다은         &  8 & 전체\\\\\n\t 2019-05-16 & 08:00 & 박한별         &  9 & 전체\\\\\n\t 2019-05-16 & 08:00 & 이다지         & 10 & 전체\\\\\n\t 2019-05-16 & 08:00 & 악인전         & 11 & 전체\\\\\n\t 2019-05-16 & 08:00 & 방민아         & 12 & 전체\\\\\n\t 2019-05-16 & 08:00 & 연애혁명       & 13 & 전체\\\\\n\t 2019-05-16 & 08:00 & 라디오스타     & 14 & 전체\\\\\n\t 2019-05-16 & 08:00 & 안양교         & 15 & 전체\\\\\n\t 2019-05-16 & 08:00 & 타다 이용방법  & 16 & 전체\\\\\n\t 2019-05-16 & 08:00 & 유인석         & 17 & 전체\\\\\n\t 2019-05-16 & 08:00 & 황민현         & 18 & 전체\\\\\n\t 2019-05-16 & 08:00 & 한끼줍쇼       & 19 & 전체\\\\\n\t 2019-05-16 & 08:00 & 위너           & 20 & 전체\\\\\n\t 2019-05-16 & 08:00 & 연애혁명       &  1 & 10대\\\\\n\t 2019-05-16 & 08:00 & 최고의 엔딩    &  2 & 10대\\\\\n\t 2019-05-16 & 08:00 & 버스도착정보   &  3 & 10대\\\\\n\t 2019-05-16 & 08:00 & 위너           &  4 & 10대\\\\\n\t 2019-05-16 & 08:00 & 그리즈만       &  5 & 10대\\\\\n\t 2019-05-16 & 08:00 & 아이유         &  6 & 10대\\\\\n\t 2019-05-16 & 08:00 & 나락즈         &  7 & 10대\\\\\n\t 2019-05-16 & 08:00 & 롤 모바일 상점 &  8 & 10대\\\\\n\t 2019-05-16 & 08:00 & 목요웹툰       &  9 & 10대\\\\\n\t 2019-05-16 & 08:00 & 절대그이       & 10 & 10대\\\\\n\t ... & ... & ... & ... & ...\\\\\n\t 2019-05-30 & 08:00 & 노소영            & 11 & 40대     \\\\\n\t 2019-05-30 & 08:00 & 희토류            & 12 & 40대     \\\\\n\t 2019-05-30 & 08:00 & 유로파 결승       & 13 & 40대     \\\\\n\t 2019-05-30 & 08:00 & 아스날 첼시       & 14 & 40대     \\\\\n\t 2019-05-30 & 08:00 & 라디오스타        & 15 & 40대     \\\\\n\t 2019-05-30 & 08:00 & 부다페스트        & 16 & 40대     \\\\\n\t 2019-05-30 & 08:00 & 600달러           & 17 & 40대     \\\\\n\t 2019-05-30 & 08:00 & 이수나            & 18 & 40대     \\\\\n\t 2019-05-30 & 08:00 & 송가인            & 19 & 40대     \\\\\n\t 2019-05-30 & 08:00 & 마데카커버크림    & 20 & 40대     \\\\\n\t 2019-05-30 & 08:00 & 김희영            &  1 & 50대 이상\\\\\n\t 2019-05-30 & 08:00 & 첼시 아스날       &  2 & 50대 이상\\\\\n\t 2019-05-30 & 08:00 & 티앤씨재단 김희영 &  3 & 50대 이상\\\\\n\t 2019-05-30 & 08:00 & 김현철 정신과의사 &  4 & 50대 이상\\\\\n\t 2019-05-30 & 08:00 & 희토류            &  5 & 50대 이상\\\\\n\t 2019-05-30 & 08:00 & 조로우            &  6 & 50대 이상\\\\\n\t 2019-05-30 & 08:00 & 송철호            &  7 & 50대 이상\\\\\n\t 2019-05-30 & 08:00 & 헝가리            &  8 & 50대 이상\\\\\n\t 2019-05-30 & 08:00 & 부다페스트        &  9 & 50대 이상\\\\\n\t 2019-05-30 & 08:00 & 이우현            & 10 & 50대 이상\\\\\n\t 2019-05-30 & 08:00 & 최태원            & 11 & 50대 이상\\\\\n\t 2019-05-30 & 08:00 & 신림동 cctv       & 12 & 50대 이상\\\\\n\t 2019-05-30 & 08:00 & 라디오스타        & 13 & 50대 이상\\\\\n\t 2019-05-30 & 08:00 & 최상주            & 14 & 50대 이상\\\\\n\t 2019-05-30 & 08:00 & 노소영            & 15 & 50대 이상\\\\\n\t 2019-05-30 & 08:00 & 연금복권 당첨번호 & 16 & 50대 이상\\\\\n\t 2019-05-30 & 08:00 & 울산시장          & 17 & 50대 이상\\\\\n\t 2019-05-30 & 08:00 & 싸이              & 18 & 50대 이상\\\\\n\t 2019-05-30 & 08:00 & 유로파 결승       & 19 & 50대 이상\\\\\n\t 2019-05-30 & 08:00 & 한상대            & 20 & 50대 이상\\\\\n\\end{tabular}\n",
            "text/markdown": "\nA data.frame: 3480 x 5\n\n| Date &lt;fct&gt; | Time &lt;fct&gt; | Keyword &lt;fct&gt; | Rank &lt;int&gt; | Category &lt;fct&gt; |\n|---|---|---|---|---|\n| 2019-05-16 | 08:00 | 유승현         |  1 | 전체 |\n| 2019-05-16 | 08:00 | 절대그이       |  2 | 전체 |\n| 2019-05-16 | 08:00 | 타다           |  3 | 전체 |\n| 2019-05-16 | 08:00 | 읶메뜨리넹     |  4 | 전체 |\n| 2019-05-16 | 08:00 | 공명           |  5 | 전체 |\n| 2019-05-16 | 08:00 | 오신환         |  6 | 전체 |\n| 2019-05-16 | 08:00 | 강신명         |  7 | 전체 |\n| 2019-05-16 | 08:00 | 정다은         |  8 | 전체 |\n| 2019-05-16 | 08:00 | 박한별         |  9 | 전체 |\n| 2019-05-16 | 08:00 | 이다지         | 10 | 전체 |\n| 2019-05-16 | 08:00 | 악인전         | 11 | 전체 |\n| 2019-05-16 | 08:00 | 방민아         | 12 | 전체 |\n| 2019-05-16 | 08:00 | 연애혁명       | 13 | 전체 |\n| 2019-05-16 | 08:00 | 라디오스타     | 14 | 전체 |\n| 2019-05-16 | 08:00 | 안양교         | 15 | 전체 |\n| 2019-05-16 | 08:00 | 타다 이용방법  | 16 | 전체 |\n| 2019-05-16 | 08:00 | 유인석         | 17 | 전체 |\n| 2019-05-16 | 08:00 | 황민현         | 18 | 전체 |\n| 2019-05-16 | 08:00 | 한끼줍쇼       | 19 | 전체 |\n| 2019-05-16 | 08:00 | 위너           | 20 | 전체 |\n| 2019-05-16 | 08:00 | 연애혁명       |  1 | 10대 |\n| 2019-05-16 | 08:00 | 최고의 엔딩    |  2 | 10대 |\n| 2019-05-16 | 08:00 | 버스도착정보   |  3 | 10대 |\n| 2019-05-16 | 08:00 | 위너           |  4 | 10대 |\n| 2019-05-16 | 08:00 | 그리즈만       |  5 | 10대 |\n| 2019-05-16 | 08:00 | 아이유         |  6 | 10대 |\n| 2019-05-16 | 08:00 | 나락즈         |  7 | 10대 |\n| 2019-05-16 | 08:00 | 롤 모바일 상점 |  8 | 10대 |\n| 2019-05-16 | 08:00 | 목요웹툰       |  9 | 10대 |\n| 2019-05-16 | 08:00 | 절대그이       | 10 | 10대 |\n| ... | ... | ... | ... | ... |\n| 2019-05-30 | 08:00 | 노소영            | 11 | 40대      |\n| 2019-05-30 | 08:00 | 희토류            | 12 | 40대      |\n| 2019-05-30 | 08:00 | 유로파 결승       | 13 | 40대      |\n| 2019-05-30 | 08:00 | 아스날 첼시       | 14 | 40대      |\n| 2019-05-30 | 08:00 | 라디오스타        | 15 | 40대      |\n| 2019-05-30 | 08:00 | 부다페스트        | 16 | 40대      |\n| 2019-05-30 | 08:00 | 600달러           | 17 | 40대      |\n| 2019-05-30 | 08:00 | 이수나            | 18 | 40대      |\n| 2019-05-30 | 08:00 | 송가인            | 19 | 40대      |\n| 2019-05-30 | 08:00 | 마데카커버크림    | 20 | 40대      |\n| 2019-05-30 | 08:00 | 김희영            |  1 | 50대 이상 |\n| 2019-05-30 | 08:00 | 첼시 아스날       |  2 | 50대 이상 |\n| 2019-05-30 | 08:00 | 티앤씨재단 김희영 |  3 | 50대 이상 |\n| 2019-05-30 | 08:00 | 김현철 정신과의사 |  4 | 50대 이상 |\n| 2019-05-30 | 08:00 | 희토류            |  5 | 50대 이상 |\n| 2019-05-30 | 08:00 | 조로우            |  6 | 50대 이상 |\n| 2019-05-30 | 08:00 | 송철호            |  7 | 50대 이상 |\n| 2019-05-30 | 08:00 | 헝가리            |  8 | 50대 이상 |\n| 2019-05-30 | 08:00 | 부다페스트        |  9 | 50대 이상 |\n| 2019-05-30 | 08:00 | 이우현            | 10 | 50대 이상 |\n| 2019-05-30 | 08:00 | 최태원            | 11 | 50대 이상 |\n| 2019-05-30 | 08:00 | 신림동 cctv       | 12 | 50대 이상 |\n| 2019-05-30 | 08:00 | 라디오스타        | 13 | 50대 이상 |\n| 2019-05-30 | 08:00 | 최상주            | 14 | 50대 이상 |\n| 2019-05-30 | 08:00 | 노소영            | 15 | 50대 이상 |\n| 2019-05-30 | 08:00 | 연금복권 당첨번호 | 16 | 50대 이상 |\n| 2019-05-30 | 08:00 | 울산시장          | 17 | 50대 이상 |\n| 2019-05-30 | 08:00 | 싸이              | 18 | 50대 이상 |\n| 2019-05-30 | 08:00 | 유로파 결승       | 19 | 50대 이상 |\n| 2019-05-30 | 08:00 | 한상대            | 20 | 50대 이상 |\n\n",
            "text/html": "<table>\n<caption>A data.frame: 3480 x 5</caption>\n<thead>\n\t<tr><th scope=col>Date</th><th scope=col>Time</th><th scope=col>Keyword</th><th scope=col>Rank</th><th scope=col>Category</th></tr>\n\t<tr><th scope=col>&lt;fct&gt;</th><th scope=col>&lt;fct&gt;</th><th scope=col>&lt;fct&gt;</th><th scope=col>&lt;int&gt;</th><th scope=col>&lt;fct&gt;</th></tr>\n</thead>\n<tbody>\n\t<tr><td>2019-05-16</td><td>08:00</td><td>유승현        </td><td> 1</td><td>전체</td></tr>\n\t<tr><td>2019-05-16</td><td>08:00</td><td>절대그이      </td><td> 2</td><td>전체</td></tr>\n\t<tr><td>2019-05-16</td><td>08:00</td><td>타다          </td><td> 3</td><td>전체</td></tr>\n\t<tr><td>2019-05-16</td><td>08:00</td><td>읶메뜨리넹    </td><td> 4</td><td>전체</td></tr>\n\t<tr><td>2019-05-16</td><td>08:00</td><td>공명          </td><td> 5</td><td>전체</td></tr>\n\t<tr><td>2019-05-16</td><td>08:00</td><td>오신환        </td><td> 6</td><td>전체</td></tr>\n\t<tr><td>2019-05-16</td><td>08:00</td><td>강신명        </td><td> 7</td><td>전체</td></tr>\n\t<tr><td>2019-05-16</td><td>08:00</td><td>정다은        </td><td> 8</td><td>전체</td></tr>\n\t<tr><td>2019-05-16</td><td>08:00</td><td>박한별        </td><td> 9</td><td>전체</td></tr>\n\t<tr><td>2019-05-16</td><td>08:00</td><td>이다지        </td><td>10</td><td>전체</td></tr>\n\t<tr><td>2019-05-16</td><td>08:00</td><td>악인전        </td><td>11</td><td>전체</td></tr>\n\t<tr><td>2019-05-16</td><td>08:00</td><td>방민아        </td><td>12</td><td>전체</td></tr>\n\t<tr><td>2019-05-16</td><td>08:00</td><td>연애혁명      </td><td>13</td><td>전체</td></tr>\n\t<tr><td>2019-05-16</td><td>08:00</td><td>라디오스타    </td><td>14</td><td>전체</td></tr>\n\t<tr><td>2019-05-16</td><td>08:00</td><td>안양교        </td><td>15</td><td>전체</td></tr>\n\t<tr><td>2019-05-16</td><td>08:00</td><td>타다 이용방법 </td><td>16</td><td>전체</td></tr>\n\t<tr><td>2019-05-16</td><td>08:00</td><td>유인석        </td><td>17</td><td>전체</td></tr>\n\t<tr><td>2019-05-16</td><td>08:00</td><td>황민현        </td><td>18</td><td>전체</td></tr>\n\t<tr><td>2019-05-16</td><td>08:00</td><td>한끼줍쇼      </td><td>19</td><td>전체</td></tr>\n\t<tr><td>2019-05-16</td><td>08:00</td><td>위너          </td><td>20</td><td>전체</td></tr>\n\t<tr><td>2019-05-16</td><td>08:00</td><td>연애혁명      </td><td> 1</td><td>10대</td></tr>\n\t<tr><td>2019-05-16</td><td>08:00</td><td>최고의 엔딩   </td><td> 2</td><td>10대</td></tr>\n\t<tr><td>2019-05-16</td><td>08:00</td><td>버스도착정보  </td><td> 3</td><td>10대</td></tr>\n\t<tr><td>2019-05-16</td><td>08:00</td><td>위너          </td><td> 4</td><td>10대</td></tr>\n\t<tr><td>2019-05-16</td><td>08:00</td><td>그리즈만      </td><td> 5</td><td>10대</td></tr>\n\t<tr><td>2019-05-16</td><td>08:00</td><td>아이유        </td><td> 6</td><td>10대</td></tr>\n\t<tr><td>2019-05-16</td><td>08:00</td><td>나락즈        </td><td> 7</td><td>10대</td></tr>\n\t<tr><td>2019-05-16</td><td>08:00</td><td>롤 모바일 상점</td><td> 8</td><td>10대</td></tr>\n\t<tr><td>2019-05-16</td><td>08:00</td><td>목요웹툰      </td><td> 9</td><td>10대</td></tr>\n\t<tr><td>2019-05-16</td><td>08:00</td><td>절대그이      </td><td>10</td><td>10대</td></tr>\n\t<tr><td>...</td><td>...</td><td>...</td><td>...</td><td>...</td></tr>\n\t<tr><td>2019-05-30</td><td>08:00</td><td>노소영           </td><td>11</td><td>40대     </td></tr>\n\t<tr><td>2019-05-30</td><td>08:00</td><td>희토류           </td><td>12</td><td>40대     </td></tr>\n\t<tr><td>2019-05-30</td><td>08:00</td><td>유로파 결승      </td><td>13</td><td>40대     </td></tr>\n\t<tr><td>2019-05-30</td><td>08:00</td><td>아스날 첼시      </td><td>14</td><td>40대     </td></tr>\n\t<tr><td>2019-05-30</td><td>08:00</td><td>라디오스타       </td><td>15</td><td>40대     </td></tr>\n\t<tr><td>2019-05-30</td><td>08:00</td><td>부다페스트       </td><td>16</td><td>40대     </td></tr>\n\t<tr><td>2019-05-30</td><td>08:00</td><td>600달러          </td><td>17</td><td>40대     </td></tr>\n\t<tr><td>2019-05-30</td><td>08:00</td><td>이수나           </td><td>18</td><td>40대     </td></tr>\n\t<tr><td>2019-05-30</td><td>08:00</td><td>송가인           </td><td>19</td><td>40대     </td></tr>\n\t<tr><td>2019-05-30</td><td>08:00</td><td>마데카커버크림   </td><td>20</td><td>40대     </td></tr>\n\t<tr><td>2019-05-30</td><td>08:00</td><td>김희영           </td><td> 1</td><td>50대 이상</td></tr>\n\t<tr><td>2019-05-30</td><td>08:00</td><td>첼시 아스날      </td><td> 2</td><td>50대 이상</td></tr>\n\t<tr><td>2019-05-30</td><td>08:00</td><td>티앤씨재단 김희영</td><td> 3</td><td>50대 이상</td></tr>\n\t<tr><td>2019-05-30</td><td>08:00</td><td>김현철 정신과의사</td><td> 4</td><td>50대 이상</td></tr>\n\t<tr><td>2019-05-30</td><td>08:00</td><td>희토류           </td><td> 5</td><td>50대 이상</td></tr>\n\t<tr><td>2019-05-30</td><td>08:00</td><td>조로우           </td><td> 6</td><td>50대 이상</td></tr>\n\t<tr><td>2019-05-30</td><td>08:00</td><td>송철호           </td><td> 7</td><td>50대 이상</td></tr>\n\t<tr><td>2019-05-30</td><td>08:00</td><td>헝가리           </td><td> 8</td><td>50대 이상</td></tr>\n\t<tr><td>2019-05-30</td><td>08:00</td><td>부다페스트       </td><td> 9</td><td>50대 이상</td></tr>\n\t<tr><td>2019-05-30</td><td>08:00</td><td>이우현           </td><td>10</td><td>50대 이상</td></tr>\n\t<tr><td>2019-05-30</td><td>08:00</td><td>최태원           </td><td>11</td><td>50대 이상</td></tr>\n\t<tr><td>2019-05-30</td><td>08:00</td><td>신림동 cctv      </td><td>12</td><td>50대 이상</td></tr>\n\t<tr><td>2019-05-30</td><td>08:00</td><td>라디오스타       </td><td>13</td><td>50대 이상</td></tr>\n\t<tr><td>2019-05-30</td><td>08:00</td><td>최상주           </td><td>14</td><td>50대 이상</td></tr>\n\t<tr><td>2019-05-30</td><td>08:00</td><td>노소영           </td><td>15</td><td>50대 이상</td></tr>\n\t<tr><td>2019-05-30</td><td>08:00</td><td>연금복권 당첨번호</td><td>16</td><td>50대 이상</td></tr>\n\t<tr><td>2019-05-30</td><td>08:00</td><td>울산시장         </td><td>17</td><td>50대 이상</td></tr>\n\t<tr><td>2019-05-30</td><td>08:00</td><td>싸이             </td><td>18</td><td>50대 이상</td></tr>\n\t<tr><td>2019-05-30</td><td>08:00</td><td>유로파 결승      </td><td>19</td><td>50대 이상</td></tr>\n\t<tr><td>2019-05-30</td><td>08:00</td><td>한상대           </td><td>20</td><td>50대 이상</td></tr>\n</tbody>\n</table>\n"
          },
          "metadata": {}
        }
      ]
    },
    {
      "metadata": {
        "ExecuteTime": {
          "start_time": "2019-07-03T06:01:53.24Z",
          "end_time": "2019-07-03T06:01:53.043518Z"
        },
        "trusted": true
      },
      "cell_type": "code",
      "source": "raw_data %>% filter(Category == \"10대\" | Category == \"20대\")",
      "execution_count": 86,
      "outputs": [
        {
          "output_type": "display_data",
          "data": {
            "text/plain": "     ID   Date       Time  Keyword             Rank Category Source\n1    21   2019-05-16 08:00 연애혁명             1   10대     Naver \n2    22   2019-05-16 08:00 최고의 엔딩          2   10대     Naver \n3    23   2019-05-16 08:00 버스도착정보         3   10대     Naver \n4    24   2019-05-16 08:00 위너                 4   10대     Naver \n5    25   2019-05-16 08:00 그리즈만             5   10대     Naver \n6    26   2019-05-16 08:00 아이유               6   10대     Naver \n7    27   2019-05-16 08:00 나락즈               7   10대     Naver \n8    28   2019-05-16 08:00 롤 모바일 상점       8   10대     Naver \n9    29   2019-05-16 08:00 목요웹툰             9   10대     Naver \n10   30   2019-05-16 08:00 절대그이            10   10대     Naver \n11   31   2019-05-16 08:00 판                  11   10대     Naver \n12   32   2019-05-16 08:00 토스 송금지원금     12   10대     Naver \n13   33   2019-05-16 08:00 페북                13   10대     Naver \n14   34   2019-05-16 08:00 네이트판            14   10대     Naver \n15   35   2019-05-16 08:00 메가스터디          15   10대     Naver \n16   36   2019-05-16 08:00 버스                16   10대     Naver \n17   37   2019-05-16 08:00 글자수세기          17   10대     Naver \n18   38   2019-05-16 08:00 대구버스            18   10대     Naver \n19   39   2019-05-16 08:00 멜론차트            19   10대     Naver \n20   40   2019-05-16 08:00 페이스북            20   10대     Naver \n21   41   2019-05-16 08:00 절대그이             1   20대     Naver \n22   42   2019-05-16 08:00 뉴질랜드 이민성      2   20대     Naver \n23   43   2019-05-16 08:00 나락즈               3   20대     Naver \n24   44   2019-05-16 08:00 악인전               4   20대     Naver \n25   45   2019-05-16 08:00 타다                 5   20대     Naver \n26   46   2019-05-16 08:00 유승현               6   20대     Naver \n27   47   2019-05-16 08:00 연애혁명             7   20대     Naver \n28   48   2019-05-16 08:00 라디오스타           8   20대     Naver \n29   49   2019-05-16 08:00 위너                 9   20대     Naver \n30   50   2019-05-16 08:00 exid                10   20대     Naver \n...  ...  ...        ...   ...                 ...  ...      ...   \n1131 3391 2019-05-30 08:00 버스도착정보        11   10대     Naver \n1132 3392 2019-05-30 08:00 버스                12   10대     Naver \n1133 3393 2019-05-30 08:00 목요웹툰            13   10대     Naver \n1134 3394 2019-05-30 08:00 메가스터디          14   10대     Naver \n1135 3395 2019-05-30 08:00 리버풀 토트넘       15   10대     Naver \n1136 3396 2019-05-30 08:00 싸이                16   10대     Naver \n1137 3397 2019-05-30 08:00 페북                17   10대     Naver \n1138 3398 2019-05-30 08:00 한국 아르헨티나     18   10대     Naver \n1139 3399 2019-05-30 08:00 글자수세기          19   10대     Naver \n1140 3400 2019-05-30 08:00 챔스                20   10대     Naver \n1141 3401 2019-05-30 08:00 첼시 아스날          1   20대     Naver \n1142 3402 2019-05-30 08:00 아스날 첼시          2   20대     Naver \n1143 3403 2019-05-30 08:00 유로파 결승          3   20대     Naver \n1144 3404 2019-05-30 08:00 헝가리               4   20대     Naver \n1145 3405 2019-05-30 08:00 첼시                 5   20대     Naver \n1146 3406 2019-05-30 08:00 아자르               6   20대     Naver \n1147 3407 2019-05-30 08:00 UEFA 유로파리그      7   20대     Naver \n1148 3408 2019-05-30 08:00 싸이                 8   20대     Naver \n1149 3409 2019-05-30 08:00 조로우               9   20대     Naver \n1150 3410 2019-05-30 08:00 검은사막            10   20대     Naver \n1151 3411 2019-05-30 08:00 부다페스트          11   20대     Naver \n1152 3412 2019-05-30 08:00 신림동 cctv         12   20대     Naver \n1153 3413 2019-05-30 08:00 김희영              13   20대     Naver \n1154 3414 2019-05-30 08:00 토트넘 리버풀       14   20대     Naver \n1155 3415 2019-05-30 08:00 롤                  15   20대     Naver \n1156 3416 2019-05-30 08:00 0.0mhz              16   20대     Naver \n1157 3417 2019-05-30 08:00 최태원              17   20대     Naver \n1158 3418 2019-05-30 08:00 마다가스카르 대통령 18   20대     Naver \n1159 3419 2019-05-30 08:00 노소영              19   20대     Naver \n1160 3420 2019-05-30 08:00 롤 점검             20   20대     Naver ",
            "text/latex": "A data.frame: 1160 x 7\n\\begin{tabular}{r|lllllll}\n ID & Date & Time & Keyword & Rank & Category & Source\\\\\n <int> & <fct> & <fct> & <fct> & <int> & <fct> & <fct>\\\\\n\\hline\n\t 21 & 2019-05-16 & 08:00 & 연애혁명        &  1 & 10대 & Naver\\\\\n\t 22 & 2019-05-16 & 08:00 & 최고의 엔딩     &  2 & 10대 & Naver\\\\\n\t 23 & 2019-05-16 & 08:00 & 버스도착정보    &  3 & 10대 & Naver\\\\\n\t 24 & 2019-05-16 & 08:00 & 위너            &  4 & 10대 & Naver\\\\\n\t 25 & 2019-05-16 & 08:00 & 그리즈만        &  5 & 10대 & Naver\\\\\n\t 26 & 2019-05-16 & 08:00 & 아이유          &  6 & 10대 & Naver\\\\\n\t 27 & 2019-05-16 & 08:00 & 나락즈          &  7 & 10대 & Naver\\\\\n\t 28 & 2019-05-16 & 08:00 & 롤 모바일 상점  &  8 & 10대 & Naver\\\\\n\t 29 & 2019-05-16 & 08:00 & 목요웹툰        &  9 & 10대 & Naver\\\\\n\t 30 & 2019-05-16 & 08:00 & 절대그이        & 10 & 10대 & Naver\\\\\n\t 31 & 2019-05-16 & 08:00 & 판              & 11 & 10대 & Naver\\\\\n\t 32 & 2019-05-16 & 08:00 & 토스 송금지원금 & 12 & 10대 & Naver\\\\\n\t 33 & 2019-05-16 & 08:00 & 페북            & 13 & 10대 & Naver\\\\\n\t 34 & 2019-05-16 & 08:00 & 네이트판        & 14 & 10대 & Naver\\\\\n\t 35 & 2019-05-16 & 08:00 & 메가스터디      & 15 & 10대 & Naver\\\\\n\t 36 & 2019-05-16 & 08:00 & 버스            & 16 & 10대 & Naver\\\\\n\t 37 & 2019-05-16 & 08:00 & 글자수세기      & 17 & 10대 & Naver\\\\\n\t 38 & 2019-05-16 & 08:00 & 대구버스        & 18 & 10대 & Naver\\\\\n\t 39 & 2019-05-16 & 08:00 & 멜론차트        & 19 & 10대 & Naver\\\\\n\t 40 & 2019-05-16 & 08:00 & 페이스북        & 20 & 10대 & Naver\\\\\n\t 41 & 2019-05-16 & 08:00 & 절대그이        &  1 & 20대 & Naver\\\\\n\t 42 & 2019-05-16 & 08:00 & 뉴질랜드 이민성 &  2 & 20대 & Naver\\\\\n\t 43 & 2019-05-16 & 08:00 & 나락즈          &  3 & 20대 & Naver\\\\\n\t 44 & 2019-05-16 & 08:00 & 악인전          &  4 & 20대 & Naver\\\\\n\t 45 & 2019-05-16 & 08:00 & 타다            &  5 & 20대 & Naver\\\\\n\t 46 & 2019-05-16 & 08:00 & 유승현          &  6 & 20대 & Naver\\\\\n\t 47 & 2019-05-16 & 08:00 & 연애혁명        &  7 & 20대 & Naver\\\\\n\t 48 & 2019-05-16 & 08:00 & 라디오스타      &  8 & 20대 & Naver\\\\\n\t 49 & 2019-05-16 & 08:00 & 위너            &  9 & 20대 & Naver\\\\\n\t 50 & 2019-05-16 & 08:00 & exid            & 10 & 20대 & Naver\\\\\n\t ... & ... & ... & ... & ... & ... & ...\\\\\n\t 3391 & 2019-05-30 & 08:00 & 버스도착정보        & 11 & 10대 & Naver\\\\\n\t 3392 & 2019-05-30 & 08:00 & 버스                & 12 & 10대 & Naver\\\\\n\t 3393 & 2019-05-30 & 08:00 & 목요웹툰            & 13 & 10대 & Naver\\\\\n\t 3394 & 2019-05-30 & 08:00 & 메가스터디          & 14 & 10대 & Naver\\\\\n\t 3395 & 2019-05-30 & 08:00 & 리버풀 토트넘       & 15 & 10대 & Naver\\\\\n\t 3396 & 2019-05-30 & 08:00 & 싸이                & 16 & 10대 & Naver\\\\\n\t 3397 & 2019-05-30 & 08:00 & 페북                & 17 & 10대 & Naver\\\\\n\t 3398 & 2019-05-30 & 08:00 & 한국 아르헨티나     & 18 & 10대 & Naver\\\\\n\t 3399 & 2019-05-30 & 08:00 & 글자수세기          & 19 & 10대 & Naver\\\\\n\t 3400 & 2019-05-30 & 08:00 & 챔스                & 20 & 10대 & Naver\\\\\n\t 3401 & 2019-05-30 & 08:00 & 첼시 아스날         &  1 & 20대 & Naver\\\\\n\t 3402 & 2019-05-30 & 08:00 & 아스날 첼시         &  2 & 20대 & Naver\\\\\n\t 3403 & 2019-05-30 & 08:00 & 유로파 결승         &  3 & 20대 & Naver\\\\\n\t 3404 & 2019-05-30 & 08:00 & 헝가리              &  4 & 20대 & Naver\\\\\n\t 3405 & 2019-05-30 & 08:00 & 첼시                &  5 & 20대 & Naver\\\\\n\t 3406 & 2019-05-30 & 08:00 & 아자르              &  6 & 20대 & Naver\\\\\n\t 3407 & 2019-05-30 & 08:00 & UEFA 유로파리그     &  7 & 20대 & Naver\\\\\n\t 3408 & 2019-05-30 & 08:00 & 싸이                &  8 & 20대 & Naver\\\\\n\t 3409 & 2019-05-30 & 08:00 & 조로우              &  9 & 20대 & Naver\\\\\n\t 3410 & 2019-05-30 & 08:00 & 검은사막            & 10 & 20대 & Naver\\\\\n\t 3411 & 2019-05-30 & 08:00 & 부다페스트          & 11 & 20대 & Naver\\\\\n\t 3412 & 2019-05-30 & 08:00 & 신림동 cctv         & 12 & 20대 & Naver\\\\\n\t 3413 & 2019-05-30 & 08:00 & 김희영              & 13 & 20대 & Naver\\\\\n\t 3414 & 2019-05-30 & 08:00 & 토트넘 리버풀       & 14 & 20대 & Naver\\\\\n\t 3415 & 2019-05-30 & 08:00 & 롤                  & 15 & 20대 & Naver\\\\\n\t 3416 & 2019-05-30 & 08:00 & 0.0mhz              & 16 & 20대 & Naver\\\\\n\t 3417 & 2019-05-30 & 08:00 & 최태원              & 17 & 20대 & Naver\\\\\n\t 3418 & 2019-05-30 & 08:00 & 마다가스카르 대통령 & 18 & 20대 & Naver\\\\\n\t 3419 & 2019-05-30 & 08:00 & 노소영              & 19 & 20대 & Naver\\\\\n\t 3420 & 2019-05-30 & 08:00 & 롤 점검             & 20 & 20대 & Naver\\\\\n\\end{tabular}\n",
            "text/markdown": "\nA data.frame: 1160 x 7\n\n| ID &lt;int&gt; | Date &lt;fct&gt; | Time &lt;fct&gt; | Keyword &lt;fct&gt; | Rank &lt;int&gt; | Category &lt;fct&gt; | Source &lt;fct&gt; |\n|---|---|---|---|---|---|---|\n| 21 | 2019-05-16 | 08:00 | 연애혁명        |  1 | 10대 | Naver |\n| 22 | 2019-05-16 | 08:00 | 최고의 엔딩     |  2 | 10대 | Naver |\n| 23 | 2019-05-16 | 08:00 | 버스도착정보    |  3 | 10대 | Naver |\n| 24 | 2019-05-16 | 08:00 | 위너            |  4 | 10대 | Naver |\n| 25 | 2019-05-16 | 08:00 | 그리즈만        |  5 | 10대 | Naver |\n| 26 | 2019-05-16 | 08:00 | 아이유          |  6 | 10대 | Naver |\n| 27 | 2019-05-16 | 08:00 | 나락즈          |  7 | 10대 | Naver |\n| 28 | 2019-05-16 | 08:00 | 롤 모바일 상점  |  8 | 10대 | Naver |\n| 29 | 2019-05-16 | 08:00 | 목요웹툰        |  9 | 10대 | Naver |\n| 30 | 2019-05-16 | 08:00 | 절대그이        | 10 | 10대 | Naver |\n| 31 | 2019-05-16 | 08:00 | 판              | 11 | 10대 | Naver |\n| 32 | 2019-05-16 | 08:00 | 토스 송금지원금 | 12 | 10대 | Naver |\n| 33 | 2019-05-16 | 08:00 | 페북            | 13 | 10대 | Naver |\n| 34 | 2019-05-16 | 08:00 | 네이트판        | 14 | 10대 | Naver |\n| 35 | 2019-05-16 | 08:00 | 메가스터디      | 15 | 10대 | Naver |\n| 36 | 2019-05-16 | 08:00 | 버스            | 16 | 10대 | Naver |\n| 37 | 2019-05-16 | 08:00 | 글자수세기      | 17 | 10대 | Naver |\n| 38 | 2019-05-16 | 08:00 | 대구버스        | 18 | 10대 | Naver |\n| 39 | 2019-05-16 | 08:00 | 멜론차트        | 19 | 10대 | Naver |\n| 40 | 2019-05-16 | 08:00 | 페이스북        | 20 | 10대 | Naver |\n| 41 | 2019-05-16 | 08:00 | 절대그이        |  1 | 20대 | Naver |\n| 42 | 2019-05-16 | 08:00 | 뉴질랜드 이민성 |  2 | 20대 | Naver |\n| 43 | 2019-05-16 | 08:00 | 나락즈          |  3 | 20대 | Naver |\n| 44 | 2019-05-16 | 08:00 | 악인전          |  4 | 20대 | Naver |\n| 45 | 2019-05-16 | 08:00 | 타다            |  5 | 20대 | Naver |\n| 46 | 2019-05-16 | 08:00 | 유승현          |  6 | 20대 | Naver |\n| 47 | 2019-05-16 | 08:00 | 연애혁명        |  7 | 20대 | Naver |\n| 48 | 2019-05-16 | 08:00 | 라디오스타      |  8 | 20대 | Naver |\n| 49 | 2019-05-16 | 08:00 | 위너            |  9 | 20대 | Naver |\n| 50 | 2019-05-16 | 08:00 | exid            | 10 | 20대 | Naver |\n| ... | ... | ... | ... | ... | ... | ... |\n| 3391 | 2019-05-30 | 08:00 | 버스도착정보        | 11 | 10대 | Naver |\n| 3392 | 2019-05-30 | 08:00 | 버스                | 12 | 10대 | Naver |\n| 3393 | 2019-05-30 | 08:00 | 목요웹툰            | 13 | 10대 | Naver |\n| 3394 | 2019-05-30 | 08:00 | 메가스터디          | 14 | 10대 | Naver |\n| 3395 | 2019-05-30 | 08:00 | 리버풀 토트넘       | 15 | 10대 | Naver |\n| 3396 | 2019-05-30 | 08:00 | 싸이                | 16 | 10대 | Naver |\n| 3397 | 2019-05-30 | 08:00 | 페북                | 17 | 10대 | Naver |\n| 3398 | 2019-05-30 | 08:00 | 한국 아르헨티나     | 18 | 10대 | Naver |\n| 3399 | 2019-05-30 | 08:00 | 글자수세기          | 19 | 10대 | Naver |\n| 3400 | 2019-05-30 | 08:00 | 챔스                | 20 | 10대 | Naver |\n| 3401 | 2019-05-30 | 08:00 | 첼시 아스날         |  1 | 20대 | Naver |\n| 3402 | 2019-05-30 | 08:00 | 아스날 첼시         |  2 | 20대 | Naver |\n| 3403 | 2019-05-30 | 08:00 | 유로파 결승         |  3 | 20대 | Naver |\n| 3404 | 2019-05-30 | 08:00 | 헝가리              |  4 | 20대 | Naver |\n| 3405 | 2019-05-30 | 08:00 | 첼시                |  5 | 20대 | Naver |\n| 3406 | 2019-05-30 | 08:00 | 아자르              |  6 | 20대 | Naver |\n| 3407 | 2019-05-30 | 08:00 | UEFA 유로파리그     |  7 | 20대 | Naver |\n| 3408 | 2019-05-30 | 08:00 | 싸이                |  8 | 20대 | Naver |\n| 3409 | 2019-05-30 | 08:00 | 조로우              |  9 | 20대 | Naver |\n| 3410 | 2019-05-30 | 08:00 | 검은사막            | 10 | 20대 | Naver |\n| 3411 | 2019-05-30 | 08:00 | 부다페스트          | 11 | 20대 | Naver |\n| 3412 | 2019-05-30 | 08:00 | 신림동 cctv         | 12 | 20대 | Naver |\n| 3413 | 2019-05-30 | 08:00 | 김희영              | 13 | 20대 | Naver |\n| 3414 | 2019-05-30 | 08:00 | 토트넘 리버풀       | 14 | 20대 | Naver |\n| 3415 | 2019-05-30 | 08:00 | 롤                  | 15 | 20대 | Naver |\n| 3416 | 2019-05-30 | 08:00 | 0.0mhz              | 16 | 20대 | Naver |\n| 3417 | 2019-05-30 | 08:00 | 최태원              | 17 | 20대 | Naver |\n| 3418 | 2019-05-30 | 08:00 | 마다가스카르 대통령 | 18 | 20대 | Naver |\n| 3419 | 2019-05-30 | 08:00 | 노소영              | 19 | 20대 | Naver |\n| 3420 | 2019-05-30 | 08:00 | 롤 점검             | 20 | 20대 | Naver |\n\n",
            "text/html": "<table>\n<caption>A data.frame: 1160 x 7</caption>\n<thead>\n\t<tr><th scope=col>ID</th><th scope=col>Date</th><th scope=col>Time</th><th scope=col>Keyword</th><th scope=col>Rank</th><th scope=col>Category</th><th scope=col>Source</th></tr>\n\t<tr><th scope=col>&lt;int&gt;</th><th scope=col>&lt;fct&gt;</th><th scope=col>&lt;fct&gt;</th><th scope=col>&lt;fct&gt;</th><th scope=col>&lt;int&gt;</th><th scope=col>&lt;fct&gt;</th><th scope=col>&lt;fct&gt;</th></tr>\n</thead>\n<tbody>\n\t<tr><td>21</td><td>2019-05-16</td><td>08:00</td><td>연애혁명       </td><td> 1</td><td>10대</td><td>Naver</td></tr>\n\t<tr><td>22</td><td>2019-05-16</td><td>08:00</td><td>최고의 엔딩    </td><td> 2</td><td>10대</td><td>Naver</td></tr>\n\t<tr><td>23</td><td>2019-05-16</td><td>08:00</td><td>버스도착정보   </td><td> 3</td><td>10대</td><td>Naver</td></tr>\n\t<tr><td>24</td><td>2019-05-16</td><td>08:00</td><td>위너           </td><td> 4</td><td>10대</td><td>Naver</td></tr>\n\t<tr><td>25</td><td>2019-05-16</td><td>08:00</td><td>그리즈만       </td><td> 5</td><td>10대</td><td>Naver</td></tr>\n\t<tr><td>26</td><td>2019-05-16</td><td>08:00</td><td>아이유         </td><td> 6</td><td>10대</td><td>Naver</td></tr>\n\t<tr><td>27</td><td>2019-05-16</td><td>08:00</td><td>나락즈         </td><td> 7</td><td>10대</td><td>Naver</td></tr>\n\t<tr><td>28</td><td>2019-05-16</td><td>08:00</td><td>롤 모바일 상점 </td><td> 8</td><td>10대</td><td>Naver</td></tr>\n\t<tr><td>29</td><td>2019-05-16</td><td>08:00</td><td>목요웹툰       </td><td> 9</td><td>10대</td><td>Naver</td></tr>\n\t<tr><td>30</td><td>2019-05-16</td><td>08:00</td><td>절대그이       </td><td>10</td><td>10대</td><td>Naver</td></tr>\n\t<tr><td>31</td><td>2019-05-16</td><td>08:00</td><td>판             </td><td>11</td><td>10대</td><td>Naver</td></tr>\n\t<tr><td>32</td><td>2019-05-16</td><td>08:00</td><td>토스 송금지원금</td><td>12</td><td>10대</td><td>Naver</td></tr>\n\t<tr><td>33</td><td>2019-05-16</td><td>08:00</td><td>페북           </td><td>13</td><td>10대</td><td>Naver</td></tr>\n\t<tr><td>34</td><td>2019-05-16</td><td>08:00</td><td>네이트판       </td><td>14</td><td>10대</td><td>Naver</td></tr>\n\t<tr><td>35</td><td>2019-05-16</td><td>08:00</td><td>메가스터디     </td><td>15</td><td>10대</td><td>Naver</td></tr>\n\t<tr><td>36</td><td>2019-05-16</td><td>08:00</td><td>버스           </td><td>16</td><td>10대</td><td>Naver</td></tr>\n\t<tr><td>37</td><td>2019-05-16</td><td>08:00</td><td>글자수세기     </td><td>17</td><td>10대</td><td>Naver</td></tr>\n\t<tr><td>38</td><td>2019-05-16</td><td>08:00</td><td>대구버스       </td><td>18</td><td>10대</td><td>Naver</td></tr>\n\t<tr><td>39</td><td>2019-05-16</td><td>08:00</td><td>멜론차트       </td><td>19</td><td>10대</td><td>Naver</td></tr>\n\t<tr><td>40</td><td>2019-05-16</td><td>08:00</td><td>페이스북       </td><td>20</td><td>10대</td><td>Naver</td></tr>\n\t<tr><td>41</td><td>2019-05-16</td><td>08:00</td><td>절대그이       </td><td> 1</td><td>20대</td><td>Naver</td></tr>\n\t<tr><td>42</td><td>2019-05-16</td><td>08:00</td><td>뉴질랜드 이민성</td><td> 2</td><td>20대</td><td>Naver</td></tr>\n\t<tr><td>43</td><td>2019-05-16</td><td>08:00</td><td>나락즈         </td><td> 3</td><td>20대</td><td>Naver</td></tr>\n\t<tr><td>44</td><td>2019-05-16</td><td>08:00</td><td>악인전         </td><td> 4</td><td>20대</td><td>Naver</td></tr>\n\t<tr><td>45</td><td>2019-05-16</td><td>08:00</td><td>타다           </td><td> 5</td><td>20대</td><td>Naver</td></tr>\n\t<tr><td>46</td><td>2019-05-16</td><td>08:00</td><td>유승현         </td><td> 6</td><td>20대</td><td>Naver</td></tr>\n\t<tr><td>47</td><td>2019-05-16</td><td>08:00</td><td>연애혁명       </td><td> 7</td><td>20대</td><td>Naver</td></tr>\n\t<tr><td>48</td><td>2019-05-16</td><td>08:00</td><td>라디오스타     </td><td> 8</td><td>20대</td><td>Naver</td></tr>\n\t<tr><td>49</td><td>2019-05-16</td><td>08:00</td><td>위너           </td><td> 9</td><td>20대</td><td>Naver</td></tr>\n\t<tr><td>50</td><td>2019-05-16</td><td>08:00</td><td>exid           </td><td>10</td><td>20대</td><td>Naver</td></tr>\n\t<tr><td>...</td><td>...</td><td>...</td><td>...</td><td>...</td><td>...</td><td>...</td></tr>\n\t<tr><td>3391</td><td>2019-05-30</td><td>08:00</td><td>버스도착정보       </td><td>11</td><td>10대</td><td>Naver</td></tr>\n\t<tr><td>3392</td><td>2019-05-30</td><td>08:00</td><td>버스               </td><td>12</td><td>10대</td><td>Naver</td></tr>\n\t<tr><td>3393</td><td>2019-05-30</td><td>08:00</td><td>목요웹툰           </td><td>13</td><td>10대</td><td>Naver</td></tr>\n\t<tr><td>3394</td><td>2019-05-30</td><td>08:00</td><td>메가스터디         </td><td>14</td><td>10대</td><td>Naver</td></tr>\n\t<tr><td>3395</td><td>2019-05-30</td><td>08:00</td><td>리버풀 토트넘      </td><td>15</td><td>10대</td><td>Naver</td></tr>\n\t<tr><td>3396</td><td>2019-05-30</td><td>08:00</td><td>싸이               </td><td>16</td><td>10대</td><td>Naver</td></tr>\n\t<tr><td>3397</td><td>2019-05-30</td><td>08:00</td><td>페북               </td><td>17</td><td>10대</td><td>Naver</td></tr>\n\t<tr><td>3398</td><td>2019-05-30</td><td>08:00</td><td>한국 아르헨티나    </td><td>18</td><td>10대</td><td>Naver</td></tr>\n\t<tr><td>3399</td><td>2019-05-30</td><td>08:00</td><td>글자수세기         </td><td>19</td><td>10대</td><td>Naver</td></tr>\n\t<tr><td>3400</td><td>2019-05-30</td><td>08:00</td><td>챔스               </td><td>20</td><td>10대</td><td>Naver</td></tr>\n\t<tr><td>3401</td><td>2019-05-30</td><td>08:00</td><td>첼시 아스날        </td><td> 1</td><td>20대</td><td>Naver</td></tr>\n\t<tr><td>3402</td><td>2019-05-30</td><td>08:00</td><td>아스날 첼시        </td><td> 2</td><td>20대</td><td>Naver</td></tr>\n\t<tr><td>3403</td><td>2019-05-30</td><td>08:00</td><td>유로파 결승        </td><td> 3</td><td>20대</td><td>Naver</td></tr>\n\t<tr><td>3404</td><td>2019-05-30</td><td>08:00</td><td>헝가리             </td><td> 4</td><td>20대</td><td>Naver</td></tr>\n\t<tr><td>3405</td><td>2019-05-30</td><td>08:00</td><td>첼시               </td><td> 5</td><td>20대</td><td>Naver</td></tr>\n\t<tr><td>3406</td><td>2019-05-30</td><td>08:00</td><td>아자르             </td><td> 6</td><td>20대</td><td>Naver</td></tr>\n\t<tr><td>3407</td><td>2019-05-30</td><td>08:00</td><td>UEFA 유로파리그    </td><td> 7</td><td>20대</td><td>Naver</td></tr>\n\t<tr><td>3408</td><td>2019-05-30</td><td>08:00</td><td>싸이               </td><td> 8</td><td>20대</td><td>Naver</td></tr>\n\t<tr><td>3409</td><td>2019-05-30</td><td>08:00</td><td>조로우             </td><td> 9</td><td>20대</td><td>Naver</td></tr>\n\t<tr><td>3410</td><td>2019-05-30</td><td>08:00</td><td>검은사막           </td><td>10</td><td>20대</td><td>Naver</td></tr>\n\t<tr><td>3411</td><td>2019-05-30</td><td>08:00</td><td>부다페스트         </td><td>11</td><td>20대</td><td>Naver</td></tr>\n\t<tr><td>3412</td><td>2019-05-30</td><td>08:00</td><td>신림동 cctv        </td><td>12</td><td>20대</td><td>Naver</td></tr>\n\t<tr><td>3413</td><td>2019-05-30</td><td>08:00</td><td>김희영             </td><td>13</td><td>20대</td><td>Naver</td></tr>\n\t<tr><td>3414</td><td>2019-05-30</td><td>08:00</td><td>토트넘 리버풀      </td><td>14</td><td>20대</td><td>Naver</td></tr>\n\t<tr><td>3415</td><td>2019-05-30</td><td>08:00</td><td>롤                 </td><td>15</td><td>20대</td><td>Naver</td></tr>\n\t<tr><td>3416</td><td>2019-05-30</td><td>08:00</td><td>0.0mhz             </td><td>16</td><td>20대</td><td>Naver</td></tr>\n\t<tr><td>3417</td><td>2019-05-30</td><td>08:00</td><td>최태원             </td><td>17</td><td>20대</td><td>Naver</td></tr>\n\t<tr><td>3418</td><td>2019-05-30</td><td>08:00</td><td>마다가스카르 대통령</td><td>18</td><td>20대</td><td>Naver</td></tr>\n\t<tr><td>3419</td><td>2019-05-30</td><td>08:00</td><td>노소영             </td><td>19</td><td>20대</td><td>Naver</td></tr>\n\t<tr><td>3420</td><td>2019-05-30</td><td>08:00</td><td>롤 점검            </td><td>20</td><td>20대</td><td>Naver</td></tr>\n</tbody>\n</table>\n"
          },
          "metadata": {}
        }
      ]
    },
    {
      "metadata": {
        "ExecuteTime": {
          "start_time": "2019-07-03T06:06:47.539Z",
          "end_time": "2019-07-03T06:06:47.097106Z"
        },
        "trusted": true
      },
      "cell_type": "code",
      "source": "kws_1020_0530 <- raw_data %>% filter((Category == \"10대\" | Category == \"20대\") & (Date == \"2019-05-30\"))\nkws_1020_0530 <- kws_1020_0530 %>% select(-ID, -Source)",
      "execution_count": 92,
      "outputs": []
    },
    {
      "metadata": {
        "ExecuteTime": {
          "start_time": "2019-07-03T06:07:36.656Z",
          "end_time": "2019-07-03T06:07:36.303562Z"
        },
        "trusted": true
      },
      "cell_type": "code",
      "source": "kws_1020_0530 %>% arrange(Rank)",
      "execution_count": 93,
      "outputs": [
        {
          "output_type": "display_data",
          "data": {
            "text/plain": "   Date       Time  Keyword             Rank Category\n1  2019-05-30 08:00 첼시 아스날          1   10대    \n2  2019-05-30 08:00 첼시 아스날          1   20대    \n3  2019-05-30 08:00 아스날 첼시          2   10대    \n4  2019-05-30 08:00 아스날 첼시          2   20대    \n5  2019-05-30 08:00 유로파 결승          3   10대    \n6  2019-05-30 08:00 유로파 결승          3   20대    \n7  2019-05-30 08:00 UEFA 유로파리그      4   10대    \n8  2019-05-30 08:00 헝가리               4   20대    \n9  2019-05-30 08:00 연애혁명             5   10대    \n10 2019-05-30 08:00 첼시                 5   20대    \n11 2019-05-30 08:00 첼시                 6   10대    \n12 2019-05-30 08:00 아자르               6   20대    \n13 2019-05-30 08:00 최고의 엔딩          7   10대    \n14 2019-05-30 08:00 UEFA 유로파리그      7   20대    \n15 2019-05-30 08:00 0.0mhz               8   10대    \n16 2019-05-30 08:00 싸이                 8   20대    \n17 2019-05-30 08:00 아자르               9   10대    \n18 2019-05-30 08:00 조로우               9   20대    \n19 2019-05-30 08:00 토트넘 리버풀       10   10대    \n20 2019-05-30 08:00 검은사막            10   20대    \n21 2019-05-30 08:00 버스도착정보        11   10대    \n22 2019-05-30 08:00 부다페스트          11   20대    \n23 2019-05-30 08:00 버스                12   10대    \n24 2019-05-30 08:00 신림동 cctv         12   20대    \n25 2019-05-30 08:00 목요웹툰            13   10대    \n26 2019-05-30 08:00 김희영              13   20대    \n27 2019-05-30 08:00 메가스터디          14   10대    \n28 2019-05-30 08:00 토트넘 리버풀       14   20대    \n29 2019-05-30 08:00 리버풀 토트넘       15   10대    \n30 2019-05-30 08:00 롤                  15   20대    \n31 2019-05-30 08:00 싸이                16   10대    \n32 2019-05-30 08:00 0.0mhz              16   20대    \n33 2019-05-30 08:00 페북                17   10대    \n34 2019-05-30 08:00 최태원              17   20대    \n35 2019-05-30 08:00 한국 아르헨티나     18   10대    \n36 2019-05-30 08:00 마다가스카르 대통령 18   20대    \n37 2019-05-30 08:00 글자수세기          19   10대    \n38 2019-05-30 08:00 노소영              19   20대    \n39 2019-05-30 08:00 챔스                20   10대    \n40 2019-05-30 08:00 롤 점검             20   20대    ",
            "text/latex": "A data.frame: 40 x 5\n\\begin{tabular}{r|lllll}\n Date & Time & Keyword & Rank & Category\\\\\n <fct> & <fct> & <fct> & <int> & <fct>\\\\\n\\hline\n\t 2019-05-30 & 08:00 & 첼시 아스날         &  1 & 10대\\\\\n\t 2019-05-30 & 08:00 & 첼시 아스날         &  1 & 20대\\\\\n\t 2019-05-30 & 08:00 & 아스날 첼시         &  2 & 10대\\\\\n\t 2019-05-30 & 08:00 & 아스날 첼시         &  2 & 20대\\\\\n\t 2019-05-30 & 08:00 & 유로파 결승         &  3 & 10대\\\\\n\t 2019-05-30 & 08:00 & 유로파 결승         &  3 & 20대\\\\\n\t 2019-05-30 & 08:00 & UEFA 유로파리그     &  4 & 10대\\\\\n\t 2019-05-30 & 08:00 & 헝가리              &  4 & 20대\\\\\n\t 2019-05-30 & 08:00 & 연애혁명            &  5 & 10대\\\\\n\t 2019-05-30 & 08:00 & 첼시                &  5 & 20대\\\\\n\t 2019-05-30 & 08:00 & 첼시                &  6 & 10대\\\\\n\t 2019-05-30 & 08:00 & 아자르              &  6 & 20대\\\\\n\t 2019-05-30 & 08:00 & 최고의 엔딩         &  7 & 10대\\\\\n\t 2019-05-30 & 08:00 & UEFA 유로파리그     &  7 & 20대\\\\\n\t 2019-05-30 & 08:00 & 0.0mhz              &  8 & 10대\\\\\n\t 2019-05-30 & 08:00 & 싸이                &  8 & 20대\\\\\n\t 2019-05-30 & 08:00 & 아자르              &  9 & 10대\\\\\n\t 2019-05-30 & 08:00 & 조로우              &  9 & 20대\\\\\n\t 2019-05-30 & 08:00 & 토트넘 리버풀       & 10 & 10대\\\\\n\t 2019-05-30 & 08:00 & 검은사막            & 10 & 20대\\\\\n\t 2019-05-30 & 08:00 & 버스도착정보        & 11 & 10대\\\\\n\t 2019-05-30 & 08:00 & 부다페스트          & 11 & 20대\\\\\n\t 2019-05-30 & 08:00 & 버스                & 12 & 10대\\\\\n\t 2019-05-30 & 08:00 & 신림동 cctv         & 12 & 20대\\\\\n\t 2019-05-30 & 08:00 & 목요웹툰            & 13 & 10대\\\\\n\t 2019-05-30 & 08:00 & 김희영              & 13 & 20대\\\\\n\t 2019-05-30 & 08:00 & 메가스터디          & 14 & 10대\\\\\n\t 2019-05-30 & 08:00 & 토트넘 리버풀       & 14 & 20대\\\\\n\t 2019-05-30 & 08:00 & 리버풀 토트넘       & 15 & 10대\\\\\n\t 2019-05-30 & 08:00 & 롤                  & 15 & 20대\\\\\n\t 2019-05-30 & 08:00 & 싸이                & 16 & 10대\\\\\n\t 2019-05-30 & 08:00 & 0.0mhz              & 16 & 20대\\\\\n\t 2019-05-30 & 08:00 & 페북                & 17 & 10대\\\\\n\t 2019-05-30 & 08:00 & 최태원              & 17 & 20대\\\\\n\t 2019-05-30 & 08:00 & 한국 아르헨티나     & 18 & 10대\\\\\n\t 2019-05-30 & 08:00 & 마다가스카르 대통령 & 18 & 20대\\\\\n\t 2019-05-30 & 08:00 & 글자수세기          & 19 & 10대\\\\\n\t 2019-05-30 & 08:00 & 노소영              & 19 & 20대\\\\\n\t 2019-05-30 & 08:00 & 챔스                & 20 & 10대\\\\\n\t 2019-05-30 & 08:00 & 롤 점검             & 20 & 20대\\\\\n\\end{tabular}\n",
            "text/markdown": "\nA data.frame: 40 x 5\n\n| Date &lt;fct&gt; | Time &lt;fct&gt; | Keyword &lt;fct&gt; | Rank &lt;int&gt; | Category &lt;fct&gt; |\n|---|---|---|---|---|\n| 2019-05-30 | 08:00 | 첼시 아스날         |  1 | 10대 |\n| 2019-05-30 | 08:00 | 첼시 아스날         |  1 | 20대 |\n| 2019-05-30 | 08:00 | 아스날 첼시         |  2 | 10대 |\n| 2019-05-30 | 08:00 | 아스날 첼시         |  2 | 20대 |\n| 2019-05-30 | 08:00 | 유로파 결승         |  3 | 10대 |\n| 2019-05-30 | 08:00 | 유로파 결승         |  3 | 20대 |\n| 2019-05-30 | 08:00 | UEFA 유로파리그     |  4 | 10대 |\n| 2019-05-30 | 08:00 | 헝가리              |  4 | 20대 |\n| 2019-05-30 | 08:00 | 연애혁명            |  5 | 10대 |\n| 2019-05-30 | 08:00 | 첼시                |  5 | 20대 |\n| 2019-05-30 | 08:00 | 첼시                |  6 | 10대 |\n| 2019-05-30 | 08:00 | 아자르              |  6 | 20대 |\n| 2019-05-30 | 08:00 | 최고의 엔딩         |  7 | 10대 |\n| 2019-05-30 | 08:00 | UEFA 유로파리그     |  7 | 20대 |\n| 2019-05-30 | 08:00 | 0.0mhz              |  8 | 10대 |\n| 2019-05-30 | 08:00 | 싸이                |  8 | 20대 |\n| 2019-05-30 | 08:00 | 아자르              |  9 | 10대 |\n| 2019-05-30 | 08:00 | 조로우              |  9 | 20대 |\n| 2019-05-30 | 08:00 | 토트넘 리버풀       | 10 | 10대 |\n| 2019-05-30 | 08:00 | 검은사막            | 10 | 20대 |\n| 2019-05-30 | 08:00 | 버스도착정보        | 11 | 10대 |\n| 2019-05-30 | 08:00 | 부다페스트          | 11 | 20대 |\n| 2019-05-30 | 08:00 | 버스                | 12 | 10대 |\n| 2019-05-30 | 08:00 | 신림동 cctv         | 12 | 20대 |\n| 2019-05-30 | 08:00 | 목요웹툰            | 13 | 10대 |\n| 2019-05-30 | 08:00 | 김희영              | 13 | 20대 |\n| 2019-05-30 | 08:00 | 메가스터디          | 14 | 10대 |\n| 2019-05-30 | 08:00 | 토트넘 리버풀       | 14 | 20대 |\n| 2019-05-30 | 08:00 | 리버풀 토트넘       | 15 | 10대 |\n| 2019-05-30 | 08:00 | 롤                  | 15 | 20대 |\n| 2019-05-30 | 08:00 | 싸이                | 16 | 10대 |\n| 2019-05-30 | 08:00 | 0.0mhz              | 16 | 20대 |\n| 2019-05-30 | 08:00 | 페북                | 17 | 10대 |\n| 2019-05-30 | 08:00 | 최태원              | 17 | 20대 |\n| 2019-05-30 | 08:00 | 한국 아르헨티나     | 18 | 10대 |\n| 2019-05-30 | 08:00 | 마다가스카르 대통령 | 18 | 20대 |\n| 2019-05-30 | 08:00 | 글자수세기          | 19 | 10대 |\n| 2019-05-30 | 08:00 | 노소영              | 19 | 20대 |\n| 2019-05-30 | 08:00 | 챔스                | 20 | 10대 |\n| 2019-05-30 | 08:00 | 롤 점검             | 20 | 20대 |\n\n",
            "text/html": "<table>\n<caption>A data.frame: 40 x 5</caption>\n<thead>\n\t<tr><th scope=col>Date</th><th scope=col>Time</th><th scope=col>Keyword</th><th scope=col>Rank</th><th scope=col>Category</th></tr>\n\t<tr><th scope=col>&lt;fct&gt;</th><th scope=col>&lt;fct&gt;</th><th scope=col>&lt;fct&gt;</th><th scope=col>&lt;int&gt;</th><th scope=col>&lt;fct&gt;</th></tr>\n</thead>\n<tbody>\n\t<tr><td>2019-05-30</td><td>08:00</td><td>첼시 아스날        </td><td> 1</td><td>10대</td></tr>\n\t<tr><td>2019-05-30</td><td>08:00</td><td>첼시 아스날        </td><td> 1</td><td>20대</td></tr>\n\t<tr><td>2019-05-30</td><td>08:00</td><td>아스날 첼시        </td><td> 2</td><td>10대</td></tr>\n\t<tr><td>2019-05-30</td><td>08:00</td><td>아스날 첼시        </td><td> 2</td><td>20대</td></tr>\n\t<tr><td>2019-05-30</td><td>08:00</td><td>유로파 결승        </td><td> 3</td><td>10대</td></tr>\n\t<tr><td>2019-05-30</td><td>08:00</td><td>유로파 결승        </td><td> 3</td><td>20대</td></tr>\n\t<tr><td>2019-05-30</td><td>08:00</td><td>UEFA 유로파리그    </td><td> 4</td><td>10대</td></tr>\n\t<tr><td>2019-05-30</td><td>08:00</td><td>헝가리             </td><td> 4</td><td>20대</td></tr>\n\t<tr><td>2019-05-30</td><td>08:00</td><td>연애혁명           </td><td> 5</td><td>10대</td></tr>\n\t<tr><td>2019-05-30</td><td>08:00</td><td>첼시               </td><td> 5</td><td>20대</td></tr>\n\t<tr><td>2019-05-30</td><td>08:00</td><td>첼시               </td><td> 6</td><td>10대</td></tr>\n\t<tr><td>2019-05-30</td><td>08:00</td><td>아자르             </td><td> 6</td><td>20대</td></tr>\n\t<tr><td>2019-05-30</td><td>08:00</td><td>최고의 엔딩        </td><td> 7</td><td>10대</td></tr>\n\t<tr><td>2019-05-30</td><td>08:00</td><td>UEFA 유로파리그    </td><td> 7</td><td>20대</td></tr>\n\t<tr><td>2019-05-30</td><td>08:00</td><td>0.0mhz             </td><td> 8</td><td>10대</td></tr>\n\t<tr><td>2019-05-30</td><td>08:00</td><td>싸이               </td><td> 8</td><td>20대</td></tr>\n\t<tr><td>2019-05-30</td><td>08:00</td><td>아자르             </td><td> 9</td><td>10대</td></tr>\n\t<tr><td>2019-05-30</td><td>08:00</td><td>조로우             </td><td> 9</td><td>20대</td></tr>\n\t<tr><td>2019-05-30</td><td>08:00</td><td>토트넘 리버풀      </td><td>10</td><td>10대</td></tr>\n\t<tr><td>2019-05-30</td><td>08:00</td><td>검은사막           </td><td>10</td><td>20대</td></tr>\n\t<tr><td>2019-05-30</td><td>08:00</td><td>버스도착정보       </td><td>11</td><td>10대</td></tr>\n\t<tr><td>2019-05-30</td><td>08:00</td><td>부다페스트         </td><td>11</td><td>20대</td></tr>\n\t<tr><td>2019-05-30</td><td>08:00</td><td>버스               </td><td>12</td><td>10대</td></tr>\n\t<tr><td>2019-05-30</td><td>08:00</td><td>신림동 cctv        </td><td>12</td><td>20대</td></tr>\n\t<tr><td>2019-05-30</td><td>08:00</td><td>목요웹툰           </td><td>13</td><td>10대</td></tr>\n\t<tr><td>2019-05-30</td><td>08:00</td><td>김희영             </td><td>13</td><td>20대</td></tr>\n\t<tr><td>2019-05-30</td><td>08:00</td><td>메가스터디         </td><td>14</td><td>10대</td></tr>\n\t<tr><td>2019-05-30</td><td>08:00</td><td>토트넘 리버풀      </td><td>14</td><td>20대</td></tr>\n\t<tr><td>2019-05-30</td><td>08:00</td><td>리버풀 토트넘      </td><td>15</td><td>10대</td></tr>\n\t<tr><td>2019-05-30</td><td>08:00</td><td>롤                 </td><td>15</td><td>20대</td></tr>\n\t<tr><td>2019-05-30</td><td>08:00</td><td>싸이               </td><td>16</td><td>10대</td></tr>\n\t<tr><td>2019-05-30</td><td>08:00</td><td>0.0mhz             </td><td>16</td><td>20대</td></tr>\n\t<tr><td>2019-05-30</td><td>08:00</td><td>페북               </td><td>17</td><td>10대</td></tr>\n\t<tr><td>2019-05-30</td><td>08:00</td><td>최태원             </td><td>17</td><td>20대</td></tr>\n\t<tr><td>2019-05-30</td><td>08:00</td><td>한국 아르헨티나    </td><td>18</td><td>10대</td></tr>\n\t<tr><td>2019-05-30</td><td>08:00</td><td>마다가스카르 대통령</td><td>18</td><td>20대</td></tr>\n\t<tr><td>2019-05-30</td><td>08:00</td><td>글자수세기         </td><td>19</td><td>10대</td></tr>\n\t<tr><td>2019-05-30</td><td>08:00</td><td>노소영             </td><td>19</td><td>20대</td></tr>\n\t<tr><td>2019-05-30</td><td>08:00</td><td>챔스               </td><td>20</td><td>10대</td></tr>\n\t<tr><td>2019-05-30</td><td>08:00</td><td>롤 점검            </td><td>20</td><td>20대</td></tr>\n</tbody>\n</table>\n"
          },
          "metadata": {}
        }
      ]
    },
    {
      "metadata": {
        "ExecuteTime": {
          "start_time": "2019-07-03T06:08:39.711Z",
          "end_time": "2019-07-03T06:08:39.372711Z"
        },
        "trusted": true
      },
      "cell_type": "code",
      "source": "kws_1020_0530 %>% arrange(desc(Rank))",
      "execution_count": 95,
      "outputs": [
        {
          "output_type": "display_data",
          "data": {
            "text/plain": "   Date       Time  Keyword             Rank Category\n1  2019-05-30 08:00 챔스                20   10대    \n2  2019-05-30 08:00 롤 점검             20   20대    \n3  2019-05-30 08:00 글자수세기          19   10대    \n4  2019-05-30 08:00 노소영              19   20대    \n5  2019-05-30 08:00 한국 아르헨티나     18   10대    \n6  2019-05-30 08:00 마다가스카르 대통령 18   20대    \n7  2019-05-30 08:00 페북                17   10대    \n8  2019-05-30 08:00 최태원              17   20대    \n9  2019-05-30 08:00 싸이                16   10대    \n10 2019-05-30 08:00 0.0mhz              16   20대    \n11 2019-05-30 08:00 리버풀 토트넘       15   10대    \n12 2019-05-30 08:00 롤                  15   20대    \n13 2019-05-30 08:00 메가스터디          14   10대    \n14 2019-05-30 08:00 토트넘 리버풀       14   20대    \n15 2019-05-30 08:00 목요웹툰            13   10대    \n16 2019-05-30 08:00 김희영              13   20대    \n17 2019-05-30 08:00 버스                12   10대    \n18 2019-05-30 08:00 신림동 cctv         12   20대    \n19 2019-05-30 08:00 버스도착정보        11   10대    \n20 2019-05-30 08:00 부다페스트          11   20대    \n21 2019-05-30 08:00 토트넘 리버풀       10   10대    \n22 2019-05-30 08:00 검은사막            10   20대    \n23 2019-05-30 08:00 아자르               9   10대    \n24 2019-05-30 08:00 조로우               9   20대    \n25 2019-05-30 08:00 0.0mhz               8   10대    \n26 2019-05-30 08:00 싸이                 8   20대    \n27 2019-05-30 08:00 최고의 엔딩          7   10대    \n28 2019-05-30 08:00 UEFA 유로파리그      7   20대    \n29 2019-05-30 08:00 첼시                 6   10대    \n30 2019-05-30 08:00 아자르               6   20대    \n31 2019-05-30 08:00 연애혁명             5   10대    \n32 2019-05-30 08:00 첼시                 5   20대    \n33 2019-05-30 08:00 UEFA 유로파리그      4   10대    \n34 2019-05-30 08:00 헝가리               4   20대    \n35 2019-05-30 08:00 유로파 결승          3   10대    \n36 2019-05-30 08:00 유로파 결승          3   20대    \n37 2019-05-30 08:00 아스날 첼시          2   10대    \n38 2019-05-30 08:00 아스날 첼시          2   20대    \n39 2019-05-30 08:00 첼시 아스날          1   10대    \n40 2019-05-30 08:00 첼시 아스날          1   20대    ",
            "text/latex": "A data.frame: 40 x 5\n\\begin{tabular}{r|lllll}\n Date & Time & Keyword & Rank & Category\\\\\n <fct> & <fct> & <fct> & <int> & <fct>\\\\\n\\hline\n\t 2019-05-30 & 08:00 & 챔스                & 20 & 10대\\\\\n\t 2019-05-30 & 08:00 & 롤 점검             & 20 & 20대\\\\\n\t 2019-05-30 & 08:00 & 글자수세기          & 19 & 10대\\\\\n\t 2019-05-30 & 08:00 & 노소영              & 19 & 20대\\\\\n\t 2019-05-30 & 08:00 & 한국 아르헨티나     & 18 & 10대\\\\\n\t 2019-05-30 & 08:00 & 마다가스카르 대통령 & 18 & 20대\\\\\n\t 2019-05-30 & 08:00 & 페북                & 17 & 10대\\\\\n\t 2019-05-30 & 08:00 & 최태원              & 17 & 20대\\\\\n\t 2019-05-30 & 08:00 & 싸이                & 16 & 10대\\\\\n\t 2019-05-30 & 08:00 & 0.0mhz              & 16 & 20대\\\\\n\t 2019-05-30 & 08:00 & 리버풀 토트넘       & 15 & 10대\\\\\n\t 2019-05-30 & 08:00 & 롤                  & 15 & 20대\\\\\n\t 2019-05-30 & 08:00 & 메가스터디          & 14 & 10대\\\\\n\t 2019-05-30 & 08:00 & 토트넘 리버풀       & 14 & 20대\\\\\n\t 2019-05-30 & 08:00 & 목요웹툰            & 13 & 10대\\\\\n\t 2019-05-30 & 08:00 & 김희영              & 13 & 20대\\\\\n\t 2019-05-30 & 08:00 & 버스                & 12 & 10대\\\\\n\t 2019-05-30 & 08:00 & 신림동 cctv         & 12 & 20대\\\\\n\t 2019-05-30 & 08:00 & 버스도착정보        & 11 & 10대\\\\\n\t 2019-05-30 & 08:00 & 부다페스트          & 11 & 20대\\\\\n\t 2019-05-30 & 08:00 & 토트넘 리버풀       & 10 & 10대\\\\\n\t 2019-05-30 & 08:00 & 검은사막            & 10 & 20대\\\\\n\t 2019-05-30 & 08:00 & 아자르              &  9 & 10대\\\\\n\t 2019-05-30 & 08:00 & 조로우              &  9 & 20대\\\\\n\t 2019-05-30 & 08:00 & 0.0mhz              &  8 & 10대\\\\\n\t 2019-05-30 & 08:00 & 싸이                &  8 & 20대\\\\\n\t 2019-05-30 & 08:00 & 최고의 엔딩         &  7 & 10대\\\\\n\t 2019-05-30 & 08:00 & UEFA 유로파리그     &  7 & 20대\\\\\n\t 2019-05-30 & 08:00 & 첼시                &  6 & 10대\\\\\n\t 2019-05-30 & 08:00 & 아자르              &  6 & 20대\\\\\n\t 2019-05-30 & 08:00 & 연애혁명            &  5 & 10대\\\\\n\t 2019-05-30 & 08:00 & 첼시                &  5 & 20대\\\\\n\t 2019-05-30 & 08:00 & UEFA 유로파리그     &  4 & 10대\\\\\n\t 2019-05-30 & 08:00 & 헝가리              &  4 & 20대\\\\\n\t 2019-05-30 & 08:00 & 유로파 결승         &  3 & 10대\\\\\n\t 2019-05-30 & 08:00 & 유로파 결승         &  3 & 20대\\\\\n\t 2019-05-30 & 08:00 & 아스날 첼시         &  2 & 10대\\\\\n\t 2019-05-30 & 08:00 & 아스날 첼시         &  2 & 20대\\\\\n\t 2019-05-30 & 08:00 & 첼시 아스날         &  1 & 10대\\\\\n\t 2019-05-30 & 08:00 & 첼시 아스날         &  1 & 20대\\\\\n\\end{tabular}\n",
            "text/markdown": "\nA data.frame: 40 x 5\n\n| Date &lt;fct&gt; | Time &lt;fct&gt; | Keyword &lt;fct&gt; | Rank &lt;int&gt; | Category &lt;fct&gt; |\n|---|---|---|---|---|\n| 2019-05-30 | 08:00 | 챔스                | 20 | 10대 |\n| 2019-05-30 | 08:00 | 롤 점검             | 20 | 20대 |\n| 2019-05-30 | 08:00 | 글자수세기          | 19 | 10대 |\n| 2019-05-30 | 08:00 | 노소영              | 19 | 20대 |\n| 2019-05-30 | 08:00 | 한국 아르헨티나     | 18 | 10대 |\n| 2019-05-30 | 08:00 | 마다가스카르 대통령 | 18 | 20대 |\n| 2019-05-30 | 08:00 | 페북                | 17 | 10대 |\n| 2019-05-30 | 08:00 | 최태원              | 17 | 20대 |\n| 2019-05-30 | 08:00 | 싸이                | 16 | 10대 |\n| 2019-05-30 | 08:00 | 0.0mhz              | 16 | 20대 |\n| 2019-05-30 | 08:00 | 리버풀 토트넘       | 15 | 10대 |\n| 2019-05-30 | 08:00 | 롤                  | 15 | 20대 |\n| 2019-05-30 | 08:00 | 메가스터디          | 14 | 10대 |\n| 2019-05-30 | 08:00 | 토트넘 리버풀       | 14 | 20대 |\n| 2019-05-30 | 08:00 | 목요웹툰            | 13 | 10대 |\n| 2019-05-30 | 08:00 | 김희영              | 13 | 20대 |\n| 2019-05-30 | 08:00 | 버스                | 12 | 10대 |\n| 2019-05-30 | 08:00 | 신림동 cctv         | 12 | 20대 |\n| 2019-05-30 | 08:00 | 버스도착정보        | 11 | 10대 |\n| 2019-05-30 | 08:00 | 부다페스트          | 11 | 20대 |\n| 2019-05-30 | 08:00 | 토트넘 리버풀       | 10 | 10대 |\n| 2019-05-30 | 08:00 | 검은사막            | 10 | 20대 |\n| 2019-05-30 | 08:00 | 아자르              |  9 | 10대 |\n| 2019-05-30 | 08:00 | 조로우              |  9 | 20대 |\n| 2019-05-30 | 08:00 | 0.0mhz              |  8 | 10대 |\n| 2019-05-30 | 08:00 | 싸이                |  8 | 20대 |\n| 2019-05-30 | 08:00 | 최고의 엔딩         |  7 | 10대 |\n| 2019-05-30 | 08:00 | UEFA 유로파리그     |  7 | 20대 |\n| 2019-05-30 | 08:00 | 첼시                |  6 | 10대 |\n| 2019-05-30 | 08:00 | 아자르              |  6 | 20대 |\n| 2019-05-30 | 08:00 | 연애혁명            |  5 | 10대 |\n| 2019-05-30 | 08:00 | 첼시                |  5 | 20대 |\n| 2019-05-30 | 08:00 | UEFA 유로파리그     |  4 | 10대 |\n| 2019-05-30 | 08:00 | 헝가리              |  4 | 20대 |\n| 2019-05-30 | 08:00 | 유로파 결승         |  3 | 10대 |\n| 2019-05-30 | 08:00 | 유로파 결승         |  3 | 20대 |\n| 2019-05-30 | 08:00 | 아스날 첼시         |  2 | 10대 |\n| 2019-05-30 | 08:00 | 아스날 첼시         |  2 | 20대 |\n| 2019-05-30 | 08:00 | 첼시 아스날         |  1 | 10대 |\n| 2019-05-30 | 08:00 | 첼시 아스날         |  1 | 20대 |\n\n",
            "text/html": "<table>\n<caption>A data.frame: 40 x 5</caption>\n<thead>\n\t<tr><th scope=col>Date</th><th scope=col>Time</th><th scope=col>Keyword</th><th scope=col>Rank</th><th scope=col>Category</th></tr>\n\t<tr><th scope=col>&lt;fct&gt;</th><th scope=col>&lt;fct&gt;</th><th scope=col>&lt;fct&gt;</th><th scope=col>&lt;int&gt;</th><th scope=col>&lt;fct&gt;</th></tr>\n</thead>\n<tbody>\n\t<tr><td>2019-05-30</td><td>08:00</td><td>챔스               </td><td>20</td><td>10대</td></tr>\n\t<tr><td>2019-05-30</td><td>08:00</td><td>롤 점검            </td><td>20</td><td>20대</td></tr>\n\t<tr><td>2019-05-30</td><td>08:00</td><td>글자수세기         </td><td>19</td><td>10대</td></tr>\n\t<tr><td>2019-05-30</td><td>08:00</td><td>노소영             </td><td>19</td><td>20대</td></tr>\n\t<tr><td>2019-05-30</td><td>08:00</td><td>한국 아르헨티나    </td><td>18</td><td>10대</td></tr>\n\t<tr><td>2019-05-30</td><td>08:00</td><td>마다가스카르 대통령</td><td>18</td><td>20대</td></tr>\n\t<tr><td>2019-05-30</td><td>08:00</td><td>페북               </td><td>17</td><td>10대</td></tr>\n\t<tr><td>2019-05-30</td><td>08:00</td><td>최태원             </td><td>17</td><td>20대</td></tr>\n\t<tr><td>2019-05-30</td><td>08:00</td><td>싸이               </td><td>16</td><td>10대</td></tr>\n\t<tr><td>2019-05-30</td><td>08:00</td><td>0.0mhz             </td><td>16</td><td>20대</td></tr>\n\t<tr><td>2019-05-30</td><td>08:00</td><td>리버풀 토트넘      </td><td>15</td><td>10대</td></tr>\n\t<tr><td>2019-05-30</td><td>08:00</td><td>롤                 </td><td>15</td><td>20대</td></tr>\n\t<tr><td>2019-05-30</td><td>08:00</td><td>메가스터디         </td><td>14</td><td>10대</td></tr>\n\t<tr><td>2019-05-30</td><td>08:00</td><td>토트넘 리버풀      </td><td>14</td><td>20대</td></tr>\n\t<tr><td>2019-05-30</td><td>08:00</td><td>목요웹툰           </td><td>13</td><td>10대</td></tr>\n\t<tr><td>2019-05-30</td><td>08:00</td><td>김희영             </td><td>13</td><td>20대</td></tr>\n\t<tr><td>2019-05-30</td><td>08:00</td><td>버스               </td><td>12</td><td>10대</td></tr>\n\t<tr><td>2019-05-30</td><td>08:00</td><td>신림동 cctv        </td><td>12</td><td>20대</td></tr>\n\t<tr><td>2019-05-30</td><td>08:00</td><td>버스도착정보       </td><td>11</td><td>10대</td></tr>\n\t<tr><td>2019-05-30</td><td>08:00</td><td>부다페스트         </td><td>11</td><td>20대</td></tr>\n\t<tr><td>2019-05-30</td><td>08:00</td><td>토트넘 리버풀      </td><td>10</td><td>10대</td></tr>\n\t<tr><td>2019-05-30</td><td>08:00</td><td>검은사막           </td><td>10</td><td>20대</td></tr>\n\t<tr><td>2019-05-30</td><td>08:00</td><td>아자르             </td><td> 9</td><td>10대</td></tr>\n\t<tr><td>2019-05-30</td><td>08:00</td><td>조로우             </td><td> 9</td><td>20대</td></tr>\n\t<tr><td>2019-05-30</td><td>08:00</td><td>0.0mhz             </td><td> 8</td><td>10대</td></tr>\n\t<tr><td>2019-05-30</td><td>08:00</td><td>싸이               </td><td> 8</td><td>20대</td></tr>\n\t<tr><td>2019-05-30</td><td>08:00</td><td>최고의 엔딩        </td><td> 7</td><td>10대</td></tr>\n\t<tr><td>2019-05-30</td><td>08:00</td><td>UEFA 유로파리그    </td><td> 7</td><td>20대</td></tr>\n\t<tr><td>2019-05-30</td><td>08:00</td><td>첼시               </td><td> 6</td><td>10대</td></tr>\n\t<tr><td>2019-05-30</td><td>08:00</td><td>아자르             </td><td> 6</td><td>20대</td></tr>\n\t<tr><td>2019-05-30</td><td>08:00</td><td>연애혁명           </td><td> 5</td><td>10대</td></tr>\n\t<tr><td>2019-05-30</td><td>08:00</td><td>첼시               </td><td> 5</td><td>20대</td></tr>\n\t<tr><td>2019-05-30</td><td>08:00</td><td>UEFA 유로파리그    </td><td> 4</td><td>10대</td></tr>\n\t<tr><td>2019-05-30</td><td>08:00</td><td>헝가리             </td><td> 4</td><td>20대</td></tr>\n\t<tr><td>2019-05-30</td><td>08:00</td><td>유로파 결승        </td><td> 3</td><td>10대</td></tr>\n\t<tr><td>2019-05-30</td><td>08:00</td><td>유로파 결승        </td><td> 3</td><td>20대</td></tr>\n\t<tr><td>2019-05-30</td><td>08:00</td><td>아스날 첼시        </td><td> 2</td><td>10대</td></tr>\n\t<tr><td>2019-05-30</td><td>08:00</td><td>아스날 첼시        </td><td> 2</td><td>20대</td></tr>\n\t<tr><td>2019-05-30</td><td>08:00</td><td>첼시 아스날        </td><td> 1</td><td>10대</td></tr>\n\t<tr><td>2019-05-30</td><td>08:00</td><td>첼시 아스날        </td><td> 1</td><td>20대</td></tr>\n</tbody>\n</table>\n"
          },
          "metadata": {}
        }
      ]
    },
    {
      "metadata": {
        "trusted": true
      },
      "cell_type": "code",
      "source": "",
      "execution_count": null,
      "outputs": []
    }
  ],
  "metadata": {
    "kernelspec": {
      "name": "r",
      "display_name": "R",
      "language": "R"
    },
    "language_info": {
      "mimetype": "text/x-r-source",
      "name": "R",
      "pygments_lexer": "r",
      "version": "3.5.3",
      "file_extension": ".r",
      "codemirror_mode": "r"
    }
  },
  "nbformat": 4,
  "nbformat_minor": 2
}