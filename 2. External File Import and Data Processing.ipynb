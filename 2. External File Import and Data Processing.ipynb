{
  "cells": [
    {
      "metadata": {
        "ExecuteTime": {
          "start_time": "2019-07-08T10:16:54.988Z",
          "end_time": "2019-07-08T10:16:54.804134Z"
        },
        "trusted": true
      },
      "cell_type": "code",
      "source": "library(\"readxl\")",
      "execution_count": 2,
      "outputs": []
    },
    {
      "metadata": {
        "ExecuteTime": {
          "start_time": "2019-07-08T10:19:08.074Z",
          "end_time": "2019-07-08T10:19:08.657019Z"
        },
        "trusted": true
      },
      "cell_type": "code",
      "source": "raw <- read_excel(\"./Data_Examples/Sample1.xlsx\")\nraw",
      "execution_count": 7,
      "outputs": [
        {
          "output_type": "display_data",
          "data": {
            "text/plain": "   ID SEX AGE AREA AMT17   Y17_CNT AMT16  Y16_CNT\n1   1 F   50  서울 1300000 50      100000 40     \n2   2 M   40  경기  450000 25      700000 30     \n3   3 F   28  제주  275000 10       50000  5     \n4   4 M   50  서울  400000  8      125000  3     \n5   5 M   27  서울  845000 30      760000 28     \n6   6 F   23  서울   42900  1      300000  6     \n7   7 F   56  경기  150000  2      130000  2     \n8   8 F   47  서울  570000 10      400000  7     \n9   9 M   20  인천  930000  4      250000  2     \n10 10 F   38  경기  520000 17      550000 16     ",
            "text/latex": "A tibble: 10 x 8\n\\begin{tabular}{r|llllllll}\n ID & SEX & AGE & AREA & AMT17 & Y17\\_CNT & AMT16 & Y16\\_CNT\\\\\n <dbl> & <chr> & <dbl> & <chr> & <dbl> & <dbl> & <dbl> & <dbl>\\\\\n\\hline\n\t  1 & F & 50 & 서울 & 1300000 & 50 & 100000 & 40\\\\\n\t  2 & M & 40 & 경기 &  450000 & 25 & 700000 & 30\\\\\n\t  3 & F & 28 & 제주 &  275000 & 10 &  50000 &  5\\\\\n\t  4 & M & 50 & 서울 &  400000 &  8 & 125000 &  3\\\\\n\t  5 & M & 27 & 서울 &  845000 & 30 & 760000 & 28\\\\\n\t  6 & F & 23 & 서울 &   42900 &  1 & 300000 &  6\\\\\n\t  7 & F & 56 & 경기 &  150000 &  2 & 130000 &  2\\\\\n\t  8 & F & 47 & 서울 &  570000 & 10 & 400000 &  7\\\\\n\t  9 & M & 20 & 인천 &  930000 &  4 & 250000 &  2\\\\\n\t 10 & F & 38 & 경기 &  520000 & 17 & 550000 & 16\\\\\n\\end{tabular}\n",
            "text/markdown": "\nA tibble: 10 x 8\n\n| ID &lt;dbl&gt; | SEX &lt;chr&gt; | AGE &lt;dbl&gt; | AREA &lt;chr&gt; | AMT17 &lt;dbl&gt; | Y17_CNT &lt;dbl&gt; | AMT16 &lt;dbl&gt; | Y16_CNT &lt;dbl&gt; |\n|---|---|---|---|---|---|---|---|\n|  1 | F | 50 | 서울 | 1300000 | 50 | 100000 | 40 |\n|  2 | M | 40 | 경기 |  450000 | 25 | 700000 | 30 |\n|  3 | F | 28 | 제주 |  275000 | 10 |  50000 |  5 |\n|  4 | M | 50 | 서울 |  400000 |  8 | 125000 |  3 |\n|  5 | M | 27 | 서울 |  845000 | 30 | 760000 | 28 |\n|  6 | F | 23 | 서울 |   42900 |  1 | 300000 |  6 |\n|  7 | F | 56 | 경기 |  150000 |  2 | 130000 |  2 |\n|  8 | F | 47 | 서울 |  570000 | 10 | 400000 |  7 |\n|  9 | M | 20 | 인천 |  930000 |  4 | 250000 |  2 |\n| 10 | F | 38 | 경기 |  520000 | 17 | 550000 | 16 |\n\n",
            "text/html": "<table>\n<caption>A tibble: 10 x 8</caption>\n<thead>\n\t<tr><th scope=col>ID</th><th scope=col>SEX</th><th scope=col>AGE</th><th scope=col>AREA</th><th scope=col>AMT17</th><th scope=col>Y17_CNT</th><th scope=col>AMT16</th><th scope=col>Y16_CNT</th></tr>\n\t<tr><th scope=col>&lt;dbl&gt;</th><th scope=col>&lt;chr&gt;</th><th scope=col>&lt;dbl&gt;</th><th scope=col>&lt;chr&gt;</th><th scope=col>&lt;dbl&gt;</th><th scope=col>&lt;dbl&gt;</th><th scope=col>&lt;dbl&gt;</th><th scope=col>&lt;dbl&gt;</th></tr>\n</thead>\n<tbody>\n\t<tr><td> 1</td><td>F</td><td>50</td><td>서울</td><td>1300000</td><td>50</td><td>100000</td><td>40</td></tr>\n\t<tr><td> 2</td><td>M</td><td>40</td><td>경기</td><td> 450000</td><td>25</td><td>700000</td><td>30</td></tr>\n\t<tr><td> 3</td><td>F</td><td>28</td><td>제주</td><td> 275000</td><td>10</td><td> 50000</td><td> 5</td></tr>\n\t<tr><td> 4</td><td>M</td><td>50</td><td>서울</td><td> 400000</td><td> 8</td><td>125000</td><td> 3</td></tr>\n\t<tr><td> 5</td><td>M</td><td>27</td><td>서울</td><td> 845000</td><td>30</td><td>760000</td><td>28</td></tr>\n\t<tr><td> 6</td><td>F</td><td>23</td><td>서울</td><td>  42900</td><td> 1</td><td>300000</td><td> 6</td></tr>\n\t<tr><td> 7</td><td>F</td><td>56</td><td>경기</td><td> 150000</td><td> 2</td><td>130000</td><td> 2</td></tr>\n\t<tr><td> 8</td><td>F</td><td>47</td><td>서울</td><td> 570000</td><td>10</td><td>400000</td><td> 7</td></tr>\n\t<tr><td> 9</td><td>M</td><td>20</td><td>인천</td><td> 930000</td><td> 4</td><td>250000</td><td> 2</td></tr>\n\t<tr><td>10</td><td>F</td><td>38</td><td>경기</td><td> 520000</td><td>17</td><td>550000</td><td>16</td></tr>\n</tbody>\n</table>\n"
          },
          "metadata": {}
        }
      ]
    },
    {
      "metadata": {
        "ExecuteTime": {
          "start_time": "2019-07-08T10:21:54.532Z",
          "end_time": "2019-07-08T10:21:53.932698Z"
        },
        "trusted": true
      },
      "cell_type": "code",
      "source": "raw %>% select(\"ID\", \"SEX\", \"AGE\")",
      "execution_count": 11,
      "outputs": [
        {
          "output_type": "display_data",
          "data": {
            "text/plain": "   ID SEX AGE\n1   1 F   50 \n2   2 M   40 \n3   3 F   28 \n4   4 M   50 \n5   5 M   27 \n6   6 F   23 \n7   7 F   56 \n8   8 F   47 \n9   9 M   20 \n10 10 F   38 ",
            "text/latex": "A tibble: 10 x 3\n\\begin{tabular}{r|lll}\n ID & SEX & AGE\\\\\n <dbl> & <chr> & <dbl>\\\\\n\\hline\n\t  1 & F & 50\\\\\n\t  2 & M & 40\\\\\n\t  3 & F & 28\\\\\n\t  4 & M & 50\\\\\n\t  5 & M & 27\\\\\n\t  6 & F & 23\\\\\n\t  7 & F & 56\\\\\n\t  8 & F & 47\\\\\n\t  9 & M & 20\\\\\n\t 10 & F & 38\\\\\n\\end{tabular}\n",
            "text/markdown": "\nA tibble: 10 x 3\n\n| ID &lt;dbl&gt; | SEX &lt;chr&gt; | AGE &lt;dbl&gt; |\n|---|---|---|\n|  1 | F | 50 |\n|  2 | M | 40 |\n|  3 | F | 28 |\n|  4 | M | 50 |\n|  5 | M | 27 |\n|  6 | F | 23 |\n|  7 | F | 56 |\n|  8 | F | 47 |\n|  9 | M | 20 |\n| 10 | F | 38 |\n\n",
            "text/html": "<table>\n<caption>A tibble: 10 x 3</caption>\n<thead>\n\t<tr><th scope=col>ID</th><th scope=col>SEX</th><th scope=col>AGE</th></tr>\n\t<tr><th scope=col>&lt;dbl&gt;</th><th scope=col>&lt;chr&gt;</th><th scope=col>&lt;dbl&gt;</th></tr>\n</thead>\n<tbody>\n\t<tr><td> 1</td><td>F</td><td>50</td></tr>\n\t<tr><td> 2</td><td>M</td><td>40</td></tr>\n\t<tr><td> 3</td><td>F</td><td>28</td></tr>\n\t<tr><td> 4</td><td>M</td><td>50</td></tr>\n\t<tr><td> 5</td><td>M</td><td>27</td></tr>\n\t<tr><td> 6</td><td>F</td><td>23</td></tr>\n\t<tr><td> 7</td><td>F</td><td>56</td></tr>\n\t<tr><td> 8</td><td>F</td><td>47</td></tr>\n\t<tr><td> 9</td><td>M</td><td>20</td></tr>\n\t<tr><td>10</td><td>F</td><td>38</td></tr>\n</tbody>\n</table>\n"
          },
          "metadata": {}
        }
      ]
    },
    {
      "metadata": {},
      "cell_type": "markdown",
      "source": "------"
    },
    {
      "metadata": {
        "ExecuteTime": {
          "start_time": "2019-07-08T10:20:20.78Z",
          "end_time": "2019-07-08T10:20:20.780065Z"
        },
        "trusted": true
      },
      "cell_type": "code",
      "source": "library(\"dplyr\")",
      "execution_count": 9,
      "outputs": [
        {
          "output_type": "stream",
          "text": "\nAttaching package: ‘dplyr’\n\nThe following objects are masked from ‘package:stats’:\n\n    filter, lag\n\nThe following objects are masked from ‘package:base’:\n\n    intersect, setdiff, setequal, union\n\n",
          "name": "stderr"
        }
      ]
    },
    {
      "metadata": {
        "ExecuteTime": {
          "start_time": "2019-07-08T10:32:56.34Z",
          "end_time": "2019-07-08T10:32:55.734042Z"
        },
        "trusted": true
      },
      "cell_type": "code",
      "source": "raw_re <- rename(raw, Y17_AMT = AMT17, Y16_AMT = AMT16)\nraw_re",
      "execution_count": 23,
      "outputs": [
        {
          "output_type": "display_data",
          "data": {
            "text/plain": "   ID SEX AGE AREA Y17_AMT Y17_CNT Y16_AMT Y16_CNT\n1   1 F   50  서울 1300000 50      100000  40     \n2   2 M   40  경기  450000 25      700000  30     \n3   3 F   28  제주  275000 10       50000   5     \n4   4 M   50  서울  400000  8      125000   3     \n5   5 M   27  서울  845000 30      760000  28     \n6   6 F   23  서울   42900  1      300000   6     \n7   7 F   56  경기  150000  2      130000   2     \n8   8 F   47  서울  570000 10      400000   7     \n9   9 M   20  인천  930000  4      250000   2     \n10 10 F   38  경기  520000 17      550000  16     ",
            "text/latex": "A tibble: 10 x 8\n\\begin{tabular}{r|llllllll}\n ID & SEX & AGE & AREA & Y17\\_AMT & Y17\\_CNT & Y16\\_AMT & Y16\\_CNT\\\\\n <dbl> & <chr> & <dbl> & <chr> & <dbl> & <dbl> & <dbl> & <dbl>\\\\\n\\hline\n\t  1 & F & 50 & 서울 & 1300000 & 50 & 100000 & 40\\\\\n\t  2 & M & 40 & 경기 &  450000 & 25 & 700000 & 30\\\\\n\t  3 & F & 28 & 제주 &  275000 & 10 &  50000 &  5\\\\\n\t  4 & M & 50 & 서울 &  400000 &  8 & 125000 &  3\\\\\n\t  5 & M & 27 & 서울 &  845000 & 30 & 760000 & 28\\\\\n\t  6 & F & 23 & 서울 &   42900 &  1 & 300000 &  6\\\\\n\t  7 & F & 56 & 경기 &  150000 &  2 & 130000 &  2\\\\\n\t  8 & F & 47 & 서울 &  570000 & 10 & 400000 &  7\\\\\n\t  9 & M & 20 & 인천 &  930000 &  4 & 250000 &  2\\\\\n\t 10 & F & 38 & 경기 &  520000 & 17 & 550000 & 16\\\\\n\\end{tabular}\n",
            "text/markdown": "\nA tibble: 10 x 8\n\n| ID &lt;dbl&gt; | SEX &lt;chr&gt; | AGE &lt;dbl&gt; | AREA &lt;chr&gt; | Y17_AMT &lt;dbl&gt; | Y17_CNT &lt;dbl&gt; | Y16_AMT &lt;dbl&gt; | Y16_CNT &lt;dbl&gt; |\n|---|---|---|---|---|---|---|---|\n|  1 | F | 50 | 서울 | 1300000 | 50 | 100000 | 40 |\n|  2 | M | 40 | 경기 |  450000 | 25 | 700000 | 30 |\n|  3 | F | 28 | 제주 |  275000 | 10 |  50000 |  5 |\n|  4 | M | 50 | 서울 |  400000 |  8 | 125000 |  3 |\n|  5 | M | 27 | 서울 |  845000 | 30 | 760000 | 28 |\n|  6 | F | 23 | 서울 |   42900 |  1 | 300000 |  6 |\n|  7 | F | 56 | 경기 |  150000 |  2 | 130000 |  2 |\n|  8 | F | 47 | 서울 |  570000 | 10 | 400000 |  7 |\n|  9 | M | 20 | 인천 |  930000 |  4 | 250000 |  2 |\n| 10 | F | 38 | 경기 |  520000 | 17 | 550000 | 16 |\n\n",
            "text/html": "<table>\n<caption>A tibble: 10 x 8</caption>\n<thead>\n\t<tr><th scope=col>ID</th><th scope=col>SEX</th><th scope=col>AGE</th><th scope=col>AREA</th><th scope=col>Y17_AMT</th><th scope=col>Y17_CNT</th><th scope=col>Y16_AMT</th><th scope=col>Y16_CNT</th></tr>\n\t<tr><th scope=col>&lt;dbl&gt;</th><th scope=col>&lt;chr&gt;</th><th scope=col>&lt;dbl&gt;</th><th scope=col>&lt;chr&gt;</th><th scope=col>&lt;dbl&gt;</th><th scope=col>&lt;dbl&gt;</th><th scope=col>&lt;dbl&gt;</th><th scope=col>&lt;dbl&gt;</th></tr>\n</thead>\n<tbody>\n\t<tr><td> 1</td><td>F</td><td>50</td><td>서울</td><td>1300000</td><td>50</td><td>100000</td><td>40</td></tr>\n\t<tr><td> 2</td><td>M</td><td>40</td><td>경기</td><td> 450000</td><td>25</td><td>700000</td><td>30</td></tr>\n\t<tr><td> 3</td><td>F</td><td>28</td><td>제주</td><td> 275000</td><td>10</td><td> 50000</td><td> 5</td></tr>\n\t<tr><td> 4</td><td>M</td><td>50</td><td>서울</td><td> 400000</td><td> 8</td><td>125000</td><td> 3</td></tr>\n\t<tr><td> 5</td><td>M</td><td>27</td><td>서울</td><td> 845000</td><td>30</td><td>760000</td><td>28</td></tr>\n\t<tr><td> 6</td><td>F</td><td>23</td><td>서울</td><td>  42900</td><td> 1</td><td>300000</td><td> 6</td></tr>\n\t<tr><td> 7</td><td>F</td><td>56</td><td>경기</td><td> 150000</td><td> 2</td><td>130000</td><td> 2</td></tr>\n\t<tr><td> 8</td><td>F</td><td>47</td><td>서울</td><td> 570000</td><td>10</td><td>400000</td><td> 7</td></tr>\n\t<tr><td> 9</td><td>M</td><td>20</td><td>인천</td><td> 930000</td><td> 4</td><td>250000</td><td> 2</td></tr>\n\t<tr><td>10</td><td>F</td><td>38</td><td>경기</td><td> 520000</td><td>17</td><td>550000</td><td>16</td></tr>\n</tbody>\n</table>\n"
          },
          "metadata": {}
        }
      ]
    },
    {
      "metadata": {},
      "cell_type": "markdown",
      "source": "------"
    },
    {
      "metadata": {
        "ExecuteTime": {
          "start_time": "2019-07-08T10:32:58.964Z",
          "end_time": "2019-07-08T10:32:58.403658Z"
        },
        "trusted": true
      },
      "cell_type": "code",
      "source": "raw_re$Total_AMT <- raw_re$Y17_AMT + raw_re$Y16_AMT \nraw_re",
      "execution_count": 24,
      "outputs": [
        {
          "output_type": "display_data",
          "data": {
            "text/plain": "   ID SEX AGE AREA Y17_AMT Y17_CNT Y16_AMT Y16_CNT Total_AMT\n1   1 F   50  서울 1300000 50      100000  40      1400000  \n2   2 M   40  경기  450000 25      700000  30      1150000  \n3   3 F   28  제주  275000 10       50000   5       325000  \n4   4 M   50  서울  400000  8      125000   3       525000  \n5   5 M   27  서울  845000 30      760000  28      1605000  \n6   6 F   23  서울   42900  1      300000   6       342900  \n7   7 F   56  경기  150000  2      130000   2       280000  \n8   8 F   47  서울  570000 10      400000   7       970000  \n9   9 M   20  인천  930000  4      250000   2      1180000  \n10 10 F   38  경기  520000 17      550000  16      1070000  ",
            "text/latex": "A tibble: 10 x 9\n\\begin{tabular}{r|lllllllll}\n ID & SEX & AGE & AREA & Y17\\_AMT & Y17\\_CNT & Y16\\_AMT & Y16\\_CNT & Total\\_AMT\\\\\n <dbl> & <chr> & <dbl> & <chr> & <dbl> & <dbl> & <dbl> & <dbl> & <dbl>\\\\\n\\hline\n\t  1 & F & 50 & 서울 & 1300000 & 50 & 100000 & 40 & 1400000\\\\\n\t  2 & M & 40 & 경기 &  450000 & 25 & 700000 & 30 & 1150000\\\\\n\t  3 & F & 28 & 제주 &  275000 & 10 &  50000 &  5 &  325000\\\\\n\t  4 & M & 50 & 서울 &  400000 &  8 & 125000 &  3 &  525000\\\\\n\t  5 & M & 27 & 서울 &  845000 & 30 & 760000 & 28 & 1605000\\\\\n\t  6 & F & 23 & 서울 &   42900 &  1 & 300000 &  6 &  342900\\\\\n\t  7 & F & 56 & 경기 &  150000 &  2 & 130000 &  2 &  280000\\\\\n\t  8 & F & 47 & 서울 &  570000 & 10 & 400000 &  7 &  970000\\\\\n\t  9 & M & 20 & 인천 &  930000 &  4 & 250000 &  2 & 1180000\\\\\n\t 10 & F & 38 & 경기 &  520000 & 17 & 550000 & 16 & 1070000\\\\\n\\end{tabular}\n",
            "text/markdown": "\nA tibble: 10 x 9\n\n| ID &lt;dbl&gt; | SEX &lt;chr&gt; | AGE &lt;dbl&gt; | AREA &lt;chr&gt; | Y17_AMT &lt;dbl&gt; | Y17_CNT &lt;dbl&gt; | Y16_AMT &lt;dbl&gt; | Y16_CNT &lt;dbl&gt; | Total_AMT &lt;dbl&gt; |\n|---|---|---|---|---|---|---|---|---|\n|  1 | F | 50 | 서울 | 1300000 | 50 | 100000 | 40 | 1400000 |\n|  2 | M | 40 | 경기 |  450000 | 25 | 700000 | 30 | 1150000 |\n|  3 | F | 28 | 제주 |  275000 | 10 |  50000 |  5 |  325000 |\n|  4 | M | 50 | 서울 |  400000 |  8 | 125000 |  3 |  525000 |\n|  5 | M | 27 | 서울 |  845000 | 30 | 760000 | 28 | 1605000 |\n|  6 | F | 23 | 서울 |   42900 |  1 | 300000 |  6 |  342900 |\n|  7 | F | 56 | 경기 |  150000 |  2 | 130000 |  2 |  280000 |\n|  8 | F | 47 | 서울 |  570000 | 10 | 400000 |  7 |  970000 |\n|  9 | M | 20 | 인천 |  930000 |  4 | 250000 |  2 | 1180000 |\n| 10 | F | 38 | 경기 |  520000 | 17 | 550000 | 16 | 1070000 |\n\n",
            "text/html": "<table>\n<caption>A tibble: 10 x 9</caption>\n<thead>\n\t<tr><th scope=col>ID</th><th scope=col>SEX</th><th scope=col>AGE</th><th scope=col>AREA</th><th scope=col>Y17_AMT</th><th scope=col>Y17_CNT</th><th scope=col>Y16_AMT</th><th scope=col>Y16_CNT</th><th scope=col>Total_AMT</th></tr>\n\t<tr><th scope=col>&lt;dbl&gt;</th><th scope=col>&lt;chr&gt;</th><th scope=col>&lt;dbl&gt;</th><th scope=col>&lt;chr&gt;</th><th scope=col>&lt;dbl&gt;</th><th scope=col>&lt;dbl&gt;</th><th scope=col>&lt;dbl&gt;</th><th scope=col>&lt;dbl&gt;</th><th scope=col>&lt;dbl&gt;</th></tr>\n</thead>\n<tbody>\n\t<tr><td> 1</td><td>F</td><td>50</td><td>서울</td><td>1300000</td><td>50</td><td>100000</td><td>40</td><td>1400000</td></tr>\n\t<tr><td> 2</td><td>M</td><td>40</td><td>경기</td><td> 450000</td><td>25</td><td>700000</td><td>30</td><td>1150000</td></tr>\n\t<tr><td> 3</td><td>F</td><td>28</td><td>제주</td><td> 275000</td><td>10</td><td> 50000</td><td> 5</td><td> 325000</td></tr>\n\t<tr><td> 4</td><td>M</td><td>50</td><td>서울</td><td> 400000</td><td> 8</td><td>125000</td><td> 3</td><td> 525000</td></tr>\n\t<tr><td> 5</td><td>M</td><td>27</td><td>서울</td><td> 845000</td><td>30</td><td>760000</td><td>28</td><td>1605000</td></tr>\n\t<tr><td> 6</td><td>F</td><td>23</td><td>서울</td><td>  42900</td><td> 1</td><td>300000</td><td> 6</td><td> 342900</td></tr>\n\t<tr><td> 7</td><td>F</td><td>56</td><td>경기</td><td> 150000</td><td> 2</td><td>130000</td><td> 2</td><td> 280000</td></tr>\n\t<tr><td> 8</td><td>F</td><td>47</td><td>서울</td><td> 570000</td><td>10</td><td>400000</td><td> 7</td><td> 970000</td></tr>\n\t<tr><td> 9</td><td>M</td><td>20</td><td>인천</td><td> 930000</td><td> 4</td><td>250000</td><td> 2</td><td>1180000</td></tr>\n\t<tr><td>10</td><td>F</td><td>38</td><td>경기</td><td> 520000</td><td>17</td><td>550000</td><td>16</td><td>1070000</td></tr>\n</tbody>\n</table>\n"
          },
          "metadata": {}
        }
      ]
    },
    {
      "metadata": {
        "ExecuteTime": {
          "start_time": "2019-07-08T10:33:01.06Z",
          "end_time": "2019-07-08T10:33:00.428537Z"
        },
        "trusted": true
      },
      "cell_type": "code",
      "source": "raw_re$Total_CNT <- raw_re$Y17_CNT + raw_re$Y16_CNT \nraw_re",
      "execution_count": 25,
      "outputs": [
        {
          "output_type": "display_data",
          "data": {
            "text/plain": "   ID SEX AGE AREA Y17_AMT Y17_CNT Y16_AMT Y16_CNT Total_AMT Total_CNT\n1   1 F   50  서울 1300000 50      100000  40      1400000   90       \n2   2 M   40  경기  450000 25      700000  30      1150000   55       \n3   3 F   28  제주  275000 10       50000   5       325000   15       \n4   4 M   50  서울  400000  8      125000   3       525000   11       \n5   5 M   27  서울  845000 30      760000  28      1605000   58       \n6   6 F   23  서울   42900  1      300000   6       342900    7       \n7   7 F   56  경기  150000  2      130000   2       280000    4       \n8   8 F   47  서울  570000 10      400000   7       970000   17       \n9   9 M   20  인천  930000  4      250000   2      1180000    6       \n10 10 F   38  경기  520000 17      550000  16      1070000   33       ",
            "text/latex": "A tibble: 10 x 10\n\\begin{tabular}{r|llllllllll}\n ID & SEX & AGE & AREA & Y17\\_AMT & Y17\\_CNT & Y16\\_AMT & Y16\\_CNT & Total\\_AMT & Total\\_CNT\\\\\n <dbl> & <chr> & <dbl> & <chr> & <dbl> & <dbl> & <dbl> & <dbl> & <dbl> & <dbl>\\\\\n\\hline\n\t  1 & F & 50 & 서울 & 1300000 & 50 & 100000 & 40 & 1400000 & 90\\\\\n\t  2 & M & 40 & 경기 &  450000 & 25 & 700000 & 30 & 1150000 & 55\\\\\n\t  3 & F & 28 & 제주 &  275000 & 10 &  50000 &  5 &  325000 & 15\\\\\n\t  4 & M & 50 & 서울 &  400000 &  8 & 125000 &  3 &  525000 & 11\\\\\n\t  5 & M & 27 & 서울 &  845000 & 30 & 760000 & 28 & 1605000 & 58\\\\\n\t  6 & F & 23 & 서울 &   42900 &  1 & 300000 &  6 &  342900 &  7\\\\\n\t  7 & F & 56 & 경기 &  150000 &  2 & 130000 &  2 &  280000 &  4\\\\\n\t  8 & F & 47 & 서울 &  570000 & 10 & 400000 &  7 &  970000 & 17\\\\\n\t  9 & M & 20 & 인천 &  930000 &  4 & 250000 &  2 & 1180000 &  6\\\\\n\t 10 & F & 38 & 경기 &  520000 & 17 & 550000 & 16 & 1070000 & 33\\\\\n\\end{tabular}\n",
            "text/markdown": "\nA tibble: 10 x 10\n\n| ID &lt;dbl&gt; | SEX &lt;chr&gt; | AGE &lt;dbl&gt; | AREA &lt;chr&gt; | Y17_AMT &lt;dbl&gt; | Y17_CNT &lt;dbl&gt; | Y16_AMT &lt;dbl&gt; | Y16_CNT &lt;dbl&gt; | Total_AMT &lt;dbl&gt; | Total_CNT &lt;dbl&gt; |\n|---|---|---|---|---|---|---|---|---|---|\n|  1 | F | 50 | 서울 | 1300000 | 50 | 100000 | 40 | 1400000 | 90 |\n|  2 | M | 40 | 경기 |  450000 | 25 | 700000 | 30 | 1150000 | 55 |\n|  3 | F | 28 | 제주 |  275000 | 10 |  50000 |  5 |  325000 | 15 |\n|  4 | M | 50 | 서울 |  400000 |  8 | 125000 |  3 |  525000 | 11 |\n|  5 | M | 27 | 서울 |  845000 | 30 | 760000 | 28 | 1605000 | 58 |\n|  6 | F | 23 | 서울 |   42900 |  1 | 300000 |  6 |  342900 |  7 |\n|  7 | F | 56 | 경기 |  150000 |  2 | 130000 |  2 |  280000 |  4 |\n|  8 | F | 47 | 서울 |  570000 | 10 | 400000 |  7 |  970000 | 17 |\n|  9 | M | 20 | 인천 |  930000 |  4 | 250000 |  2 | 1180000 |  6 |\n| 10 | F | 38 | 경기 |  520000 | 17 | 550000 | 16 | 1070000 | 33 |\n\n",
            "text/html": "<table>\n<caption>A tibble: 10 x 10</caption>\n<thead>\n\t<tr><th scope=col>ID</th><th scope=col>SEX</th><th scope=col>AGE</th><th scope=col>AREA</th><th scope=col>Y17_AMT</th><th scope=col>Y17_CNT</th><th scope=col>Y16_AMT</th><th scope=col>Y16_CNT</th><th scope=col>Total_AMT</th><th scope=col>Total_CNT</th></tr>\n\t<tr><th scope=col>&lt;dbl&gt;</th><th scope=col>&lt;chr&gt;</th><th scope=col>&lt;dbl&gt;</th><th scope=col>&lt;chr&gt;</th><th scope=col>&lt;dbl&gt;</th><th scope=col>&lt;dbl&gt;</th><th scope=col>&lt;dbl&gt;</th><th scope=col>&lt;dbl&gt;</th><th scope=col>&lt;dbl&gt;</th><th scope=col>&lt;dbl&gt;</th></tr>\n</thead>\n<tbody>\n\t<tr><td> 1</td><td>F</td><td>50</td><td>서울</td><td>1300000</td><td>50</td><td>100000</td><td>40</td><td>1400000</td><td>90</td></tr>\n\t<tr><td> 2</td><td>M</td><td>40</td><td>경기</td><td> 450000</td><td>25</td><td>700000</td><td>30</td><td>1150000</td><td>55</td></tr>\n\t<tr><td> 3</td><td>F</td><td>28</td><td>제주</td><td> 275000</td><td>10</td><td> 50000</td><td> 5</td><td> 325000</td><td>15</td></tr>\n\t<tr><td> 4</td><td>M</td><td>50</td><td>서울</td><td> 400000</td><td> 8</td><td>125000</td><td> 3</td><td> 525000</td><td>11</td></tr>\n\t<tr><td> 5</td><td>M</td><td>27</td><td>서울</td><td> 845000</td><td>30</td><td>760000</td><td>28</td><td>1605000</td><td>58</td></tr>\n\t<tr><td> 6</td><td>F</td><td>23</td><td>서울</td><td>  42900</td><td> 1</td><td>300000</td><td> 6</td><td> 342900</td><td> 7</td></tr>\n\t<tr><td> 7</td><td>F</td><td>56</td><td>경기</td><td> 150000</td><td> 2</td><td>130000</td><td> 2</td><td> 280000</td><td> 4</td></tr>\n\t<tr><td> 8</td><td>F</td><td>47</td><td>서울</td><td> 570000</td><td>10</td><td>400000</td><td> 7</td><td> 970000</td><td>17</td></tr>\n\t<tr><td> 9</td><td>M</td><td>20</td><td>인천</td><td> 930000</td><td> 4</td><td>250000</td><td> 2</td><td>1180000</td><td> 6</td></tr>\n\t<tr><td>10</td><td>F</td><td>38</td><td>경기</td><td> 520000</td><td>17</td><td>550000</td><td>16</td><td>1070000</td><td>33</td></tr>\n</tbody>\n</table>\n"
          },
          "metadata": {}
        }
      ]
    },
    {
      "metadata": {
        "ExecuteTime": {
          "start_time": "2019-07-08T10:33:13.541Z",
          "end_time": "2019-07-08T10:33:12.956917Z"
        },
        "trusted": true
      },
      "cell_type": "code",
      "source": "raw_re$AMT_Avg. <- raw_re$Total_AMT / raw_re$Total_CNT \nraw_re",
      "execution_count": 26,
      "outputs": [
        {
          "output_type": "display_data",
          "data": {
            "text/plain": "   ID SEX AGE AREA Y17_AMT Y17_CNT Y16_AMT Y16_CNT Total_AMT Total_CNT\n1   1 F   50  서울 1300000 50      100000  40      1400000   90       \n2   2 M   40  경기  450000 25      700000  30      1150000   55       \n3   3 F   28  제주  275000 10       50000   5       325000   15       \n4   4 M   50  서울  400000  8      125000   3       525000   11       \n5   5 M   27  서울  845000 30      760000  28      1605000   58       \n6   6 F   23  서울   42900  1      300000   6       342900    7       \n7   7 F   56  경기  150000  2      130000   2       280000    4       \n8   8 F   47  서울  570000 10      400000   7       970000   17       \n9   9 M   20  인천  930000  4      250000   2      1180000    6       \n10 10 F   38  경기  520000 17      550000  16      1070000   33       \n   AMT_Avg. \n1   15555.56\n2   20909.09\n3   21666.67\n4   47727.27\n5   27672.41\n6   48985.71\n7   70000.00\n8   57058.82\n9  196666.67\n10  32424.24",
            "text/latex": "A tibble: 10 x 11\n\\begin{tabular}{r|lllllllllll}\n ID & SEX & AGE & AREA & Y17\\_AMT & Y17\\_CNT & Y16\\_AMT & Y16\\_CNT & Total\\_AMT & Total\\_CNT & AMT\\_Avg.\\\\\n <dbl> & <chr> & <dbl> & <chr> & <dbl> & <dbl> & <dbl> & <dbl> & <dbl> & <dbl> & <dbl>\\\\\n\\hline\n\t  1 & F & 50 & 서울 & 1300000 & 50 & 100000 & 40 & 1400000 & 90 &  15555.56\\\\\n\t  2 & M & 40 & 경기 &  450000 & 25 & 700000 & 30 & 1150000 & 55 &  20909.09\\\\\n\t  3 & F & 28 & 제주 &  275000 & 10 &  50000 &  5 &  325000 & 15 &  21666.67\\\\\n\t  4 & M & 50 & 서울 &  400000 &  8 & 125000 &  3 &  525000 & 11 &  47727.27\\\\\n\t  5 & M & 27 & 서울 &  845000 & 30 & 760000 & 28 & 1605000 & 58 &  27672.41\\\\\n\t  6 & F & 23 & 서울 &   42900 &  1 & 300000 &  6 &  342900 &  7 &  48985.71\\\\\n\t  7 & F & 56 & 경기 &  150000 &  2 & 130000 &  2 &  280000 &  4 &  70000.00\\\\\n\t  8 & F & 47 & 서울 &  570000 & 10 & 400000 &  7 &  970000 & 17 &  57058.82\\\\\n\t  9 & M & 20 & 인천 &  930000 &  4 & 250000 &  2 & 1180000 &  6 & 196666.67\\\\\n\t 10 & F & 38 & 경기 &  520000 & 17 & 550000 & 16 & 1070000 & 33 &  32424.24\\\\\n\\end{tabular}\n",
            "text/markdown": "\nA tibble: 10 x 11\n\n| ID &lt;dbl&gt; | SEX &lt;chr&gt; | AGE &lt;dbl&gt; | AREA &lt;chr&gt; | Y17_AMT &lt;dbl&gt; | Y17_CNT &lt;dbl&gt; | Y16_AMT &lt;dbl&gt; | Y16_CNT &lt;dbl&gt; | Total_AMT &lt;dbl&gt; | Total_CNT &lt;dbl&gt; | AMT_Avg. &lt;dbl&gt; |\n|---|---|---|---|---|---|---|---|---|---|---|\n|  1 | F | 50 | 서울 | 1300000 | 50 | 100000 | 40 | 1400000 | 90 |  15555.56 |\n|  2 | M | 40 | 경기 |  450000 | 25 | 700000 | 30 | 1150000 | 55 |  20909.09 |\n|  3 | F | 28 | 제주 |  275000 | 10 |  50000 |  5 |  325000 | 15 |  21666.67 |\n|  4 | M | 50 | 서울 |  400000 |  8 | 125000 |  3 |  525000 | 11 |  47727.27 |\n|  5 | M | 27 | 서울 |  845000 | 30 | 760000 | 28 | 1605000 | 58 |  27672.41 |\n|  6 | F | 23 | 서울 |   42900 |  1 | 300000 |  6 |  342900 |  7 |  48985.71 |\n|  7 | F | 56 | 경기 |  150000 |  2 | 130000 |  2 |  280000 |  4 |  70000.00 |\n|  8 | F | 47 | 서울 |  570000 | 10 | 400000 |  7 |  970000 | 17 |  57058.82 |\n|  9 | M | 20 | 인천 |  930000 |  4 | 250000 |  2 | 1180000 |  6 | 196666.67 |\n| 10 | F | 38 | 경기 |  520000 | 17 | 550000 | 16 | 1070000 | 33 |  32424.24 |\n\n",
            "text/html": "<table>\n<caption>A tibble: 10 x 11</caption>\n<thead>\n\t<tr><th scope=col>ID</th><th scope=col>SEX</th><th scope=col>AGE</th><th scope=col>AREA</th><th scope=col>Y17_AMT</th><th scope=col>Y17_CNT</th><th scope=col>Y16_AMT</th><th scope=col>Y16_CNT</th><th scope=col>Total_AMT</th><th scope=col>Total_CNT</th><th scope=col>AMT_Avg.</th></tr>\n\t<tr><th scope=col>&lt;dbl&gt;</th><th scope=col>&lt;chr&gt;</th><th scope=col>&lt;dbl&gt;</th><th scope=col>&lt;chr&gt;</th><th scope=col>&lt;dbl&gt;</th><th scope=col>&lt;dbl&gt;</th><th scope=col>&lt;dbl&gt;</th><th scope=col>&lt;dbl&gt;</th><th scope=col>&lt;dbl&gt;</th><th scope=col>&lt;dbl&gt;</th><th scope=col>&lt;dbl&gt;</th></tr>\n</thead>\n<tbody>\n\t<tr><td> 1</td><td>F</td><td>50</td><td>서울</td><td>1300000</td><td>50</td><td>100000</td><td>40</td><td>1400000</td><td>90</td><td> 15555.56</td></tr>\n\t<tr><td> 2</td><td>M</td><td>40</td><td>경기</td><td> 450000</td><td>25</td><td>700000</td><td>30</td><td>1150000</td><td>55</td><td> 20909.09</td></tr>\n\t<tr><td> 3</td><td>F</td><td>28</td><td>제주</td><td> 275000</td><td>10</td><td> 50000</td><td> 5</td><td> 325000</td><td>15</td><td> 21666.67</td></tr>\n\t<tr><td> 4</td><td>M</td><td>50</td><td>서울</td><td> 400000</td><td> 8</td><td>125000</td><td> 3</td><td> 525000</td><td>11</td><td> 47727.27</td></tr>\n\t<tr><td> 5</td><td>M</td><td>27</td><td>서울</td><td> 845000</td><td>30</td><td>760000</td><td>28</td><td>1605000</td><td>58</td><td> 27672.41</td></tr>\n\t<tr><td> 6</td><td>F</td><td>23</td><td>서울</td><td>  42900</td><td> 1</td><td>300000</td><td> 6</td><td> 342900</td><td> 7</td><td> 48985.71</td></tr>\n\t<tr><td> 7</td><td>F</td><td>56</td><td>경기</td><td> 150000</td><td> 2</td><td>130000</td><td> 2</td><td> 280000</td><td> 4</td><td> 70000.00</td></tr>\n\t<tr><td> 8</td><td>F</td><td>47</td><td>서울</td><td> 570000</td><td>10</td><td>400000</td><td> 7</td><td> 970000</td><td>17</td><td> 57058.82</td></tr>\n\t<tr><td> 9</td><td>M</td><td>20</td><td>인천</td><td> 930000</td><td> 4</td><td>250000</td><td> 2</td><td>1180000</td><td> 6</td><td>196666.67</td></tr>\n\t<tr><td>10</td><td>F</td><td>38</td><td>경기</td><td> 520000</td><td>17</td><td>550000</td><td>16</td><td>1070000</td><td>33</td><td> 32424.24</td></tr>\n</tbody>\n</table>\n"
          },
          "metadata": {}
        }
      ]
    },
    {
      "metadata": {},
      "cell_type": "markdown",
      "source": "------"
    },
    {
      "metadata": {
        "ExecuteTime": {
          "start_time": "2019-07-08T10:38:40.006Z",
          "end_time": "2019-07-08T10:38:39.405707Z"
        },
        "trusted": true
      },
      "cell_type": "code",
      "source": "raw_re$Over_50yrs <- ifelse(raw_re$AGE >= 50, \"Yes\", \"No\")\nraw_re",
      "execution_count": 28,
      "outputs": [
        {
          "output_type": "display_data",
          "data": {
            "text/plain": "   ID SEX AGE AREA Y17_AMT Y17_CNT Y16_AMT Y16_CNT Total_AMT Total_CNT\n1   1 F   50  서울 1300000 50      100000  40      1400000   90       \n2   2 M   40  경기  450000 25      700000  30      1150000   55       \n3   3 F   28  제주  275000 10       50000   5       325000   15       \n4   4 M   50  서울  400000  8      125000   3       525000   11       \n5   5 M   27  서울  845000 30      760000  28      1605000   58       \n6   6 F   23  서울   42900  1      300000   6       342900    7       \n7   7 F   56  경기  150000  2      130000   2       280000    4       \n8   8 F   47  서울  570000 10      400000   7       970000   17       \n9   9 M   20  인천  930000  4      250000   2      1180000    6       \n10 10 F   38  경기  520000 17      550000  16      1070000   33       \n   AMT_Avg.  Over_50yrs\n1   15555.56 Yes       \n2   20909.09 No        \n3   21666.67 No        \n4   47727.27 Yes       \n5   27672.41 No        \n6   48985.71 No        \n7   70000.00 Yes       \n8   57058.82 No        \n9  196666.67 No        \n10  32424.24 No        ",
            "text/latex": "A tibble: 10 x 12\n\\begin{tabular}{r|llllllllllll}\n ID & SEX & AGE & AREA & Y17\\_AMT & Y17\\_CNT & Y16\\_AMT & Y16\\_CNT & Total\\_AMT & Total\\_CNT & AMT\\_Avg. & Over\\_50yrs\\\\\n <dbl> & <chr> & <dbl> & <chr> & <dbl> & <dbl> & <dbl> & <dbl> & <dbl> & <dbl> & <dbl> & <chr>\\\\\n\\hline\n\t  1 & F & 50 & 서울 & 1300000 & 50 & 100000 & 40 & 1400000 & 90 &  15555.56 & Yes\\\\\n\t  2 & M & 40 & 경기 &  450000 & 25 & 700000 & 30 & 1150000 & 55 &  20909.09 & No \\\\\n\t  3 & F & 28 & 제주 &  275000 & 10 &  50000 &  5 &  325000 & 15 &  21666.67 & No \\\\\n\t  4 & M & 50 & 서울 &  400000 &  8 & 125000 &  3 &  525000 & 11 &  47727.27 & Yes\\\\\n\t  5 & M & 27 & 서울 &  845000 & 30 & 760000 & 28 & 1605000 & 58 &  27672.41 & No \\\\\n\t  6 & F & 23 & 서울 &   42900 &  1 & 300000 &  6 &  342900 &  7 &  48985.71 & No \\\\\n\t  7 & F & 56 & 경기 &  150000 &  2 & 130000 &  2 &  280000 &  4 &  70000.00 & Yes\\\\\n\t  8 & F & 47 & 서울 &  570000 & 10 & 400000 &  7 &  970000 & 17 &  57058.82 & No \\\\\n\t  9 & M & 20 & 인천 &  930000 &  4 & 250000 &  2 & 1180000 &  6 & 196666.67 & No \\\\\n\t 10 & F & 38 & 경기 &  520000 & 17 & 550000 & 16 & 1070000 & 33 &  32424.24 & No \\\\\n\\end{tabular}\n",
            "text/markdown": "\nA tibble: 10 x 12\n\n| ID &lt;dbl&gt; | SEX &lt;chr&gt; | AGE &lt;dbl&gt; | AREA &lt;chr&gt; | Y17_AMT &lt;dbl&gt; | Y17_CNT &lt;dbl&gt; | Y16_AMT &lt;dbl&gt; | Y16_CNT &lt;dbl&gt; | Total_AMT &lt;dbl&gt; | Total_CNT &lt;dbl&gt; | AMT_Avg. &lt;dbl&gt; | Over_50yrs &lt;chr&gt; |\n|---|---|---|---|---|---|---|---|---|---|---|---|\n|  1 | F | 50 | 서울 | 1300000 | 50 | 100000 | 40 | 1400000 | 90 |  15555.56 | Yes |\n|  2 | M | 40 | 경기 |  450000 | 25 | 700000 | 30 | 1150000 | 55 |  20909.09 | No  |\n|  3 | F | 28 | 제주 |  275000 | 10 |  50000 |  5 |  325000 | 15 |  21666.67 | No  |\n|  4 | M | 50 | 서울 |  400000 |  8 | 125000 |  3 |  525000 | 11 |  47727.27 | Yes |\n|  5 | M | 27 | 서울 |  845000 | 30 | 760000 | 28 | 1605000 | 58 |  27672.41 | No  |\n|  6 | F | 23 | 서울 |   42900 |  1 | 300000 |  6 |  342900 |  7 |  48985.71 | No  |\n|  7 | F | 56 | 경기 |  150000 |  2 | 130000 |  2 |  280000 |  4 |  70000.00 | Yes |\n|  8 | F | 47 | 서울 |  570000 | 10 | 400000 |  7 |  970000 | 17 |  57058.82 | No  |\n|  9 | M | 20 | 인천 |  930000 |  4 | 250000 |  2 | 1180000 |  6 | 196666.67 | No  |\n| 10 | F | 38 | 경기 |  520000 | 17 | 550000 | 16 | 1070000 | 33 |  32424.24 | No  |\n\n",
            "text/html": "<table>\n<caption>A tibble: 10 x 12</caption>\n<thead>\n\t<tr><th scope=col>ID</th><th scope=col>SEX</th><th scope=col>AGE</th><th scope=col>AREA</th><th scope=col>Y17_AMT</th><th scope=col>Y17_CNT</th><th scope=col>Y16_AMT</th><th scope=col>Y16_CNT</th><th scope=col>Total_AMT</th><th scope=col>Total_CNT</th><th scope=col>AMT_Avg.</th><th scope=col>Over_50yrs</th></tr>\n\t<tr><th scope=col>&lt;dbl&gt;</th><th scope=col>&lt;chr&gt;</th><th scope=col>&lt;dbl&gt;</th><th scope=col>&lt;chr&gt;</th><th scope=col>&lt;dbl&gt;</th><th scope=col>&lt;dbl&gt;</th><th scope=col>&lt;dbl&gt;</th><th scope=col>&lt;dbl&gt;</th><th scope=col>&lt;dbl&gt;</th><th scope=col>&lt;dbl&gt;</th><th scope=col>&lt;dbl&gt;</th><th scope=col>&lt;chr&gt;</th></tr>\n</thead>\n<tbody>\n\t<tr><td> 1</td><td>F</td><td>50</td><td>서울</td><td>1300000</td><td>50</td><td>100000</td><td>40</td><td>1400000</td><td>90</td><td> 15555.56</td><td>Yes</td></tr>\n\t<tr><td> 2</td><td>M</td><td>40</td><td>경기</td><td> 450000</td><td>25</td><td>700000</td><td>30</td><td>1150000</td><td>55</td><td> 20909.09</td><td>No </td></tr>\n\t<tr><td> 3</td><td>F</td><td>28</td><td>제주</td><td> 275000</td><td>10</td><td> 50000</td><td> 5</td><td> 325000</td><td>15</td><td> 21666.67</td><td>No </td></tr>\n\t<tr><td> 4</td><td>M</td><td>50</td><td>서울</td><td> 400000</td><td> 8</td><td>125000</td><td> 3</td><td> 525000</td><td>11</td><td> 47727.27</td><td>Yes</td></tr>\n\t<tr><td> 5</td><td>M</td><td>27</td><td>서울</td><td> 845000</td><td>30</td><td>760000</td><td>28</td><td>1605000</td><td>58</td><td> 27672.41</td><td>No </td></tr>\n\t<tr><td> 6</td><td>F</td><td>23</td><td>서울</td><td>  42900</td><td> 1</td><td>300000</td><td> 6</td><td> 342900</td><td> 7</td><td> 48985.71</td><td>No </td></tr>\n\t<tr><td> 7</td><td>F</td><td>56</td><td>경기</td><td> 150000</td><td> 2</td><td>130000</td><td> 2</td><td> 280000</td><td> 4</td><td> 70000.00</td><td>Yes</td></tr>\n\t<tr><td> 8</td><td>F</td><td>47</td><td>서울</td><td> 570000</td><td>10</td><td>400000</td><td> 7</td><td> 970000</td><td>17</td><td> 57058.82</td><td>No </td></tr>\n\t<tr><td> 9</td><td>M</td><td>20</td><td>인천</td><td> 930000</td><td> 4</td><td>250000</td><td> 2</td><td>1180000</td><td> 6</td><td>196666.67</td><td>No </td></tr>\n\t<tr><td>10</td><td>F</td><td>38</td><td>경기</td><td> 520000</td><td>17</td><td>550000</td><td>16</td><td>1070000</td><td>33</td><td> 32424.24</td><td>No </td></tr>\n</tbody>\n</table>\n"
          },
          "metadata": {}
        }
      ]
    },
    {
      "metadata": {
        "ExecuteTime": {
          "start_time": "2019-07-08T10:46:03.855Z",
          "end_time": "2019-07-08T10:46:03.262048Z"
        },
        "trusted": true
      },
      "cell_type": "code",
      "source": "raw_re$Age_range <- ifelse(raw_re$AGE >= 50, \"50+\",\n                           ifelse(raw_re$AGE >= 40, \"40+\",\n                                 ifelse(raw_re$AGE >= 30, \"30+\",\n                                       ifelse(raw_re$AGE >= 20, \"20+\", \"20--\"))))\nraw_re",
      "execution_count": 31,
      "outputs": [
        {
          "output_type": "display_data",
          "data": {
            "text/plain": "   ID SEX AGE AREA Y17_AMT Y17_CNT Y16_AMT Y16_CNT Total_AMT Total_CNT\n1   1 F   50  서울 1300000 50      100000  40      1400000   90       \n2   2 M   40  경기  450000 25      700000  30      1150000   55       \n3   3 F   28  제주  275000 10       50000   5       325000   15       \n4   4 M   50  서울  400000  8      125000   3       525000   11       \n5   5 M   27  서울  845000 30      760000  28      1605000   58       \n6   6 F   23  서울   42900  1      300000   6       342900    7       \n7   7 F   56  경기  150000  2      130000   2       280000    4       \n8   8 F   47  서울  570000 10      400000   7       970000   17       \n9   9 M   20  인천  930000  4      250000   2      1180000    6       \n10 10 F   38  경기  520000 17      550000  16      1070000   33       \n   AMT_Avg.  Over_50yrs Age_range\n1   15555.56 Yes        50+      \n2   20909.09 No         40+      \n3   21666.67 No         20+      \n4   47727.27 Yes        50+      \n5   27672.41 No         20+      \n6   48985.71 No         20+      \n7   70000.00 Yes        50+      \n8   57058.82 No         40+      \n9  196666.67 No         20+      \n10  32424.24 No         30+      ",
            "text/latex": "A tibble: 10 x 13\n\\begin{tabular}{r|lllllllllllll}\n ID & SEX & AGE & AREA & Y17\\_AMT & Y17\\_CNT & Y16\\_AMT & Y16\\_CNT & Total\\_AMT & Total\\_CNT & AMT\\_Avg. & Over\\_50yrs & Age\\_range\\\\\n <dbl> & <chr> & <dbl> & <chr> & <dbl> & <dbl> & <dbl> & <dbl> & <dbl> & <dbl> & <dbl> & <chr> & <chr>\\\\\n\\hline\n\t  1 & F & 50 & 서울 & 1300000 & 50 & 100000 & 40 & 1400000 & 90 &  15555.56 & Yes & 50+\\\\\n\t  2 & M & 40 & 경기 &  450000 & 25 & 700000 & 30 & 1150000 & 55 &  20909.09 & No  & 40+\\\\\n\t  3 & F & 28 & 제주 &  275000 & 10 &  50000 &  5 &  325000 & 15 &  21666.67 & No  & 20+\\\\\n\t  4 & M & 50 & 서울 &  400000 &  8 & 125000 &  3 &  525000 & 11 &  47727.27 & Yes & 50+\\\\\n\t  5 & M & 27 & 서울 &  845000 & 30 & 760000 & 28 & 1605000 & 58 &  27672.41 & No  & 20+\\\\\n\t  6 & F & 23 & 서울 &   42900 &  1 & 300000 &  6 &  342900 &  7 &  48985.71 & No  & 20+\\\\\n\t  7 & F & 56 & 경기 &  150000 &  2 & 130000 &  2 &  280000 &  4 &  70000.00 & Yes & 50+\\\\\n\t  8 & F & 47 & 서울 &  570000 & 10 & 400000 &  7 &  970000 & 17 &  57058.82 & No  & 40+\\\\\n\t  9 & M & 20 & 인천 &  930000 &  4 & 250000 &  2 & 1180000 &  6 & 196666.67 & No  & 20+\\\\\n\t 10 & F & 38 & 경기 &  520000 & 17 & 550000 & 16 & 1070000 & 33 &  32424.24 & No  & 30+\\\\\n\\end{tabular}\n",
            "text/markdown": "\nA tibble: 10 x 13\n\n| ID &lt;dbl&gt; | SEX &lt;chr&gt; | AGE &lt;dbl&gt; | AREA &lt;chr&gt; | Y17_AMT &lt;dbl&gt; | Y17_CNT &lt;dbl&gt; | Y16_AMT &lt;dbl&gt; | Y16_CNT &lt;dbl&gt; | Total_AMT &lt;dbl&gt; | Total_CNT &lt;dbl&gt; | AMT_Avg. &lt;dbl&gt; | Over_50yrs &lt;chr&gt; | Age_range &lt;chr&gt; |\n|---|---|---|---|---|---|---|---|---|---|---|---|---|\n|  1 | F | 50 | 서울 | 1300000 | 50 | 100000 | 40 | 1400000 | 90 |  15555.56 | Yes | 50+ |\n|  2 | M | 40 | 경기 |  450000 | 25 | 700000 | 30 | 1150000 | 55 |  20909.09 | No  | 40+ |\n|  3 | F | 28 | 제주 |  275000 | 10 |  50000 |  5 |  325000 | 15 |  21666.67 | No  | 20+ |\n|  4 | M | 50 | 서울 |  400000 |  8 | 125000 |  3 |  525000 | 11 |  47727.27 | Yes | 50+ |\n|  5 | M | 27 | 서울 |  845000 | 30 | 760000 | 28 | 1605000 | 58 |  27672.41 | No  | 20+ |\n|  6 | F | 23 | 서울 |   42900 |  1 | 300000 |  6 |  342900 |  7 |  48985.71 | No  | 20+ |\n|  7 | F | 56 | 경기 |  150000 |  2 | 130000 |  2 |  280000 |  4 |  70000.00 | Yes | 50+ |\n|  8 | F | 47 | 서울 |  570000 | 10 | 400000 |  7 |  970000 | 17 |  57058.82 | No  | 40+ |\n|  9 | M | 20 | 인천 |  930000 |  4 | 250000 |  2 | 1180000 |  6 | 196666.67 | No  | 20+ |\n| 10 | F | 38 | 경기 |  520000 | 17 | 550000 | 16 | 1070000 | 33 |  32424.24 | No  | 30+ |\n\n",
            "text/html": "<table>\n<caption>A tibble: 10 x 13</caption>\n<thead>\n\t<tr><th scope=col>ID</th><th scope=col>SEX</th><th scope=col>AGE</th><th scope=col>AREA</th><th scope=col>Y17_AMT</th><th scope=col>Y17_CNT</th><th scope=col>Y16_AMT</th><th scope=col>Y16_CNT</th><th scope=col>Total_AMT</th><th scope=col>Total_CNT</th><th scope=col>AMT_Avg.</th><th scope=col>Over_50yrs</th><th scope=col>Age_range</th></tr>\n\t<tr><th scope=col>&lt;dbl&gt;</th><th scope=col>&lt;chr&gt;</th><th scope=col>&lt;dbl&gt;</th><th scope=col>&lt;chr&gt;</th><th scope=col>&lt;dbl&gt;</th><th scope=col>&lt;dbl&gt;</th><th scope=col>&lt;dbl&gt;</th><th scope=col>&lt;dbl&gt;</th><th scope=col>&lt;dbl&gt;</th><th scope=col>&lt;dbl&gt;</th><th scope=col>&lt;dbl&gt;</th><th scope=col>&lt;chr&gt;</th><th scope=col>&lt;chr&gt;</th></tr>\n</thead>\n<tbody>\n\t<tr><td> 1</td><td>F</td><td>50</td><td>서울</td><td>1300000</td><td>50</td><td>100000</td><td>40</td><td>1400000</td><td>90</td><td> 15555.56</td><td>Yes</td><td>50+</td></tr>\n\t<tr><td> 2</td><td>M</td><td>40</td><td>경기</td><td> 450000</td><td>25</td><td>700000</td><td>30</td><td>1150000</td><td>55</td><td> 20909.09</td><td>No </td><td>40+</td></tr>\n\t<tr><td> 3</td><td>F</td><td>28</td><td>제주</td><td> 275000</td><td>10</td><td> 50000</td><td> 5</td><td> 325000</td><td>15</td><td> 21666.67</td><td>No </td><td>20+</td></tr>\n\t<tr><td> 4</td><td>M</td><td>50</td><td>서울</td><td> 400000</td><td> 8</td><td>125000</td><td> 3</td><td> 525000</td><td>11</td><td> 47727.27</td><td>Yes</td><td>50+</td></tr>\n\t<tr><td> 5</td><td>M</td><td>27</td><td>서울</td><td> 845000</td><td>30</td><td>760000</td><td>28</td><td>1605000</td><td>58</td><td> 27672.41</td><td>No </td><td>20+</td></tr>\n\t<tr><td> 6</td><td>F</td><td>23</td><td>서울</td><td>  42900</td><td> 1</td><td>300000</td><td> 6</td><td> 342900</td><td> 7</td><td> 48985.71</td><td>No </td><td>20+</td></tr>\n\t<tr><td> 7</td><td>F</td><td>56</td><td>경기</td><td> 150000</td><td> 2</td><td>130000</td><td> 2</td><td> 280000</td><td> 4</td><td> 70000.00</td><td>Yes</td><td>50+</td></tr>\n\t<tr><td> 8</td><td>F</td><td>47</td><td>서울</td><td> 570000</td><td>10</td><td>400000</td><td> 7</td><td> 970000</td><td>17</td><td> 57058.82</td><td>No </td><td>40+</td></tr>\n\t<tr><td> 9</td><td>M</td><td>20</td><td>인천</td><td> 930000</td><td> 4</td><td>250000</td><td> 2</td><td>1180000</td><td> 6</td><td>196666.67</td><td>No </td><td>20+</td></tr>\n\t<tr><td>10</td><td>F</td><td>38</td><td>경기</td><td> 520000</td><td>17</td><td>550000</td><td>16</td><td>1070000</td><td>33</td><td> 32424.24</td><td>No </td><td>30+</td></tr>\n</tbody>\n</table>\n"
          },
          "metadata": {}
        }
      ]
    },
    {
      "metadata": {},
      "cell_type": "markdown",
      "source": "------"
    },
    {
      "metadata": {
        "ExecuteTime": {
          "start_time": "2019-07-08T11:05:17.988Z",
          "end_time": "2019-07-08T11:05:17.36586Z"
        },
        "trusted": true
      },
      "cell_type": "code",
      "source": "raw_re %>% filter((AREA == \"서울\" | AREA == \"경기\") & Y17_CNT >= 5) %>% arrange(desc(SEX), AGE) %>% select(-Y16_AMT, -Y16_CNT, -Over_50yrs) ",
      "execution_count": 48,
      "outputs": [
        {
          "output_type": "display_data",
          "data": {
            "text/plain": "  ID SEX AGE AREA Y17_AMT Y17_CNT Total_AMT Total_CNT AMT_Avg. Age_range\n1  5 M   27  서울  845000 30      1605000   58        27672.41 20+      \n2  2 M   40  경기  450000 25      1150000   55        20909.09 40+      \n3  4 M   50  서울  400000  8       525000   11        47727.27 50+      \n4 10 F   38  경기  520000 17      1070000   33        32424.24 30+      \n5  8 F   47  서울  570000 10       970000   17        57058.82 40+      \n6  1 F   50  서울 1300000 50      1400000   90        15555.56 50+      ",
            "text/latex": "A tibble: 6 x 10\n\\begin{tabular}{r|llllllllll}\n ID & SEX & AGE & AREA & Y17\\_AMT & Y17\\_CNT & Total\\_AMT & Total\\_CNT & AMT\\_Avg. & Age\\_range\\\\\n <dbl> & <chr> & <dbl> & <chr> & <dbl> & <dbl> & <dbl> & <dbl> & <dbl> & <chr>\\\\\n\\hline\n\t  5 & M & 27 & 서울 &  845000 & 30 & 1605000 & 58 & 27672.41 & 20+\\\\\n\t  2 & M & 40 & 경기 &  450000 & 25 & 1150000 & 55 & 20909.09 & 40+\\\\\n\t  4 & M & 50 & 서울 &  400000 &  8 &  525000 & 11 & 47727.27 & 50+\\\\\n\t 10 & F & 38 & 경기 &  520000 & 17 & 1070000 & 33 & 32424.24 & 30+\\\\\n\t  8 & F & 47 & 서울 &  570000 & 10 &  970000 & 17 & 57058.82 & 40+\\\\\n\t  1 & F & 50 & 서울 & 1300000 & 50 & 1400000 & 90 & 15555.56 & 50+\\\\\n\\end{tabular}\n",
            "text/markdown": "\nA tibble: 6 x 10\n\n| ID &lt;dbl&gt; | SEX &lt;chr&gt; | AGE &lt;dbl&gt; | AREA &lt;chr&gt; | Y17_AMT &lt;dbl&gt; | Y17_CNT &lt;dbl&gt; | Total_AMT &lt;dbl&gt; | Total_CNT &lt;dbl&gt; | AMT_Avg. &lt;dbl&gt; | Age_range &lt;chr&gt; |\n|---|---|---|---|---|---|---|---|---|---|\n|  5 | M | 27 | 서울 |  845000 | 30 | 1605000 | 58 | 27672.41 | 20+ |\n|  2 | M | 40 | 경기 |  450000 | 25 | 1150000 | 55 | 20909.09 | 40+ |\n|  4 | M | 50 | 서울 |  400000 |  8 |  525000 | 11 | 47727.27 | 50+ |\n| 10 | F | 38 | 경기 |  520000 | 17 | 1070000 | 33 | 32424.24 | 30+ |\n|  8 | F | 47 | 서울 |  570000 | 10 |  970000 | 17 | 57058.82 | 40+ |\n|  1 | F | 50 | 서울 | 1300000 | 50 | 1400000 | 90 | 15555.56 | 50+ |\n\n",
            "text/html": "<table>\n<caption>A tibble: 6 x 10</caption>\n<thead>\n\t<tr><th scope=col>ID</th><th scope=col>SEX</th><th scope=col>AGE</th><th scope=col>AREA</th><th scope=col>Y17_AMT</th><th scope=col>Y17_CNT</th><th scope=col>Total_AMT</th><th scope=col>Total_CNT</th><th scope=col>AMT_Avg.</th><th scope=col>Age_range</th></tr>\n\t<tr><th scope=col>&lt;dbl&gt;</th><th scope=col>&lt;chr&gt;</th><th scope=col>&lt;dbl&gt;</th><th scope=col>&lt;chr&gt;</th><th scope=col>&lt;dbl&gt;</th><th scope=col>&lt;dbl&gt;</th><th scope=col>&lt;dbl&gt;</th><th scope=col>&lt;dbl&gt;</th><th scope=col>&lt;dbl&gt;</th><th scope=col>&lt;chr&gt;</th></tr>\n</thead>\n<tbody>\n\t<tr><td> 5</td><td>M</td><td>27</td><td>서울</td><td> 845000</td><td>30</td><td>1605000</td><td>58</td><td>27672.41</td><td>20+</td></tr>\n\t<tr><td> 2</td><td>M</td><td>40</td><td>경기</td><td> 450000</td><td>25</td><td>1150000</td><td>55</td><td>20909.09</td><td>40+</td></tr>\n\t<tr><td> 4</td><td>M</td><td>50</td><td>서울</td><td> 400000</td><td> 8</td><td> 525000</td><td>11</td><td>47727.27</td><td>50+</td></tr>\n\t<tr><td>10</td><td>F</td><td>38</td><td>경기</td><td> 520000</td><td>17</td><td>1070000</td><td>33</td><td>32424.24</td><td>30+</td></tr>\n\t<tr><td> 8</td><td>F</td><td>47</td><td>서울</td><td> 570000</td><td>10</td><td> 970000</td><td>17</td><td>57058.82</td><td>40+</td></tr>\n\t<tr><td> 1</td><td>F</td><td>50</td><td>서울</td><td>1300000</td><td>50</td><td>1400000</td><td>90</td><td>15555.56</td><td>50+</td></tr>\n</tbody>\n</table>\n"
          },
          "metadata": {}
        }
      ]
    },
    {
      "metadata": {},
      "cell_type": "markdown",
      "source": "------"
    },
    {
      "metadata": {
        "ExecuteTime": {
          "start_time": "2019-07-08T11:12:23.061Z",
          "end_time": "2019-07-08T11:12:22.40868Z"
        },
        "trusted": true
      },
      "cell_type": "code",
      "source": "total_amt <- raw_re %>% summarise(Total_Y17_AMT = sum(Y17_AMT))\ntotal_amt",
      "execution_count": 54,
      "outputs": [
        {
          "output_type": "display_data",
          "data": {
            "text/plain": "  Total_Y17_AMT\n1 5482900      ",
            "text/latex": "A tibble: 1 x 1\n\\begin{tabular}{r|l}\n Total\\_Y17\\_AMT\\\\\n <dbl>\\\\\n\\hline\n\t 5482900\\\\\n\\end{tabular}\n",
            "text/markdown": "\nA tibble: 1 x 1\n\n| Total_Y17_AMT &lt;dbl&gt; |\n|---|\n| 5482900 |\n\n",
            "text/html": "<table>\n<caption>A tibble: 1 x 1</caption>\n<thead>\n\t<tr><th scope=col>Total_Y17_AMT</th></tr>\n\t<tr><th scope=col>&lt;dbl&gt;</th></tr>\n</thead>\n<tbody>\n\t<tr><td>5482900</td></tr>\n</tbody>\n</table>\n"
          },
          "metadata": {}
        }
      ]
    },
    {
      "metadata": {
        "ExecuteTime": {
          "start_time": "2019-07-08T11:18:29.236Z",
          "end_time": "2019-07-08T11:18:28.567728Z"
        },
        "trusted": true
      },
      "cell_type": "code",
      "source": "arial_amt <- raw_re %>% group_by(AREA) %>% summarise(Total_Y17_AMT = sum(Y17_AMT))\narial_amt",
      "execution_count": 58,
      "outputs": [
        {
          "output_type": "display_data",
          "data": {
            "text/plain": "  AREA Total_Y17_AMT\n1 경기 1120000      \n2 서울 3157900      \n3 인천  930000      \n4 제주  275000      ",
            "text/latex": "A tibble: 4 x 2\n\\begin{tabular}{r|ll}\n AREA & Total\\_Y17\\_AMT\\\\\n <chr> & <dbl>\\\\\n\\hline\n\t 경기 & 1120000\\\\\n\t 서울 & 3157900\\\\\n\t 인천 &  930000\\\\\n\t 제주 &  275000\\\\\n\\end{tabular}\n",
            "text/markdown": "\nA tibble: 4 x 2\n\n| AREA &lt;chr&gt; | Total_Y17_AMT &lt;dbl&gt; |\n|---|---|\n| 경기 | 1120000 |\n| 서울 | 3157900 |\n| 인천 |  930000 |\n| 제주 |  275000 |\n\n",
            "text/html": "<table>\n<caption>A tibble: 4 x 2</caption>\n<thead>\n\t<tr><th scope=col>AREA</th><th scope=col>Total_Y17_AMT</th></tr>\n\t<tr><th scope=col>&lt;chr&gt;</th><th scope=col>&lt;dbl&gt;</th></tr>\n</thead>\n<tbody>\n\t<tr><td>경기</td><td>1120000</td></tr>\n\t<tr><td>서울</td><td>3157900</td></tr>\n\t<tr><td>인천</td><td> 930000</td></tr>\n\t<tr><td>제주</td><td> 275000</td></tr>\n</tbody>\n</table>\n"
          },
          "metadata": {}
        }
      ]
    },
    {
      "metadata": {
        "ExecuteTime": {
          "start_time": "2019-07-08T11:19:43.598Z",
          "end_time": "2019-07-08T11:19:42.933999Z"
        },
        "trusted": true
      },
      "cell_type": "code",
      "source": "amt <- bind_rows(arial_amt, total_amt)\namt",
      "execution_count": 62,
      "outputs": [
        {
          "output_type": "display_data",
          "data": {
            "text/plain": "  AREA Total_Y17_AMT\n1 경기 1120000      \n2 서울 3157900      \n3 인천  930000      \n4 제주  275000      \n5 NA   5482900      ",
            "text/latex": "A tibble: 5 x 2\n\\begin{tabular}{r|ll}\n AREA & Total\\_Y17\\_AMT\\\\\n <chr> & <dbl>\\\\\n\\hline\n\t 경기 & 1120000\\\\\n\t 서울 & 3157900\\\\\n\t 인천 &  930000\\\\\n\t 제주 &  275000\\\\\n\t NA   & 5482900\\\\\n\\end{tabular}\n",
            "text/markdown": "\nA tibble: 5 x 2\n\n| AREA &lt;chr&gt; | Total_Y17_AMT &lt;dbl&gt; |\n|---|---|\n| 경기 | 1120000 |\n| 서울 | 3157900 |\n| 인천 |  930000 |\n| 제주 |  275000 |\n| NA   | 5482900 |\n\n",
            "text/html": "<table>\n<caption>A tibble: 5 x 2</caption>\n<thead>\n\t<tr><th scope=col>AREA</th><th scope=col>Total_Y17_AMT</th></tr>\n\t<tr><th scope=col>&lt;chr&gt;</th><th scope=col>&lt;dbl&gt;</th></tr>\n</thead>\n<tbody>\n\t<tr><td>경기</td><td>1120000</td></tr>\n\t<tr><td>서울</td><td>3157900</td></tr>\n\t<tr><td>인천</td><td> 930000</td></tr>\n\t<tr><td>제주</td><td> 275000</td></tr>\n\t<tr><td>NA  </td><td>5482900</td></tr>\n</tbody>\n</table>\n"
          },
          "metadata": {}
        }
      ]
    },
    {
      "metadata": {},
      "cell_type": "markdown",
      "source": "------"
    },
    {
      "metadata": {
        "ExecuteTime": {
          "start_time": "2019-07-08T11:17:39.635Z",
          "end_time": "2019-07-08T11:17:38.960557Z"
        },
        "trusted": true
      },
      "cell_type": "code",
      "source": "total_cnt <- raw_re %>% summarise(Total_Y17_CNT = sum(Y17_CNT))\ntotal_cnt",
      "execution_count": 57,
      "outputs": [
        {
          "output_type": "display_data",
          "data": {
            "text/plain": "  Total_Y17_CNT\n1 157          ",
            "text/latex": "A tibble: 1 x 1\n\\begin{tabular}{r|l}\n Total\\_Y17\\_CNT\\\\\n <dbl>\\\\\n\\hline\n\t 157\\\\\n\\end{tabular}\n",
            "text/markdown": "\nA tibble: 1 x 1\n\n| Total_Y17_CNT &lt;dbl&gt; |\n|---|\n| 157 |\n\n",
            "text/html": "<table>\n<caption>A tibble: 1 x 1</caption>\n<thead>\n\t<tr><th scope=col>Total_Y17_CNT</th></tr>\n\t<tr><th scope=col>&lt;dbl&gt;</th></tr>\n</thead>\n<tbody>\n\t<tr><td>157</td></tr>\n</tbody>\n</table>\n"
          },
          "metadata": {}
        }
      ]
    },
    {
      "metadata": {
        "ExecuteTime": {
          "start_time": "2019-07-08T11:18:32.62Z",
          "end_time": "2019-07-08T11:18:31.948761Z"
        },
        "trusted": true
      },
      "cell_type": "code",
      "source": "arial_cnt <- raw_re %>% group_by(AREA) %>% summarise(Total_Y17_CNT = sum(Y17_CNT))\narial_cnt",
      "execution_count": 59,
      "outputs": [
        {
          "output_type": "display_data",
          "data": {
            "text/plain": "  AREA Total_Y17_CNT\n1 경기 44           \n2 서울 99           \n3 인천  4           \n4 제주 10           ",
            "text/latex": "A tibble: 4 x 2\n\\begin{tabular}{r|ll}\n AREA & Total\\_Y17\\_CNT\\\\\n <chr> & <dbl>\\\\\n\\hline\n\t 경기 & 44\\\\\n\t 서울 & 99\\\\\n\t 인천 &  4\\\\\n\t 제주 & 10\\\\\n\\end{tabular}\n",
            "text/markdown": "\nA tibble: 4 x 2\n\n| AREA &lt;chr&gt; | Total_Y17_CNT &lt;dbl&gt; |\n|---|---|\n| 경기 | 44 |\n| 서울 | 99 |\n| 인천 |  4 |\n| 제주 | 10 |\n\n",
            "text/html": "<table>\n<caption>A tibble: 4 x 2</caption>\n<thead>\n\t<tr><th scope=col>AREA</th><th scope=col>Total_Y17_CNT</th></tr>\n\t<tr><th scope=col>&lt;chr&gt;</th><th scope=col>&lt;dbl&gt;</th></tr>\n</thead>\n<tbody>\n\t<tr><td>경기</td><td>44</td></tr>\n\t<tr><td>서울</td><td>99</td></tr>\n\t<tr><td>인천</td><td> 4</td></tr>\n\t<tr><td>제주</td><td>10</td></tr>\n</tbody>\n</table>\n"
          },
          "metadata": {}
        }
      ]
    },
    {
      "metadata": {
        "ExecuteTime": {
          "start_time": "2019-07-08T11:20:13.108Z",
          "end_time": "2019-07-08T11:20:12.456572Z"
        },
        "trusted": true
      },
      "cell_type": "code",
      "source": "cnt <- bind_rows(arial_cnt, total_cnt)\ncnt",
      "execution_count": 63,
      "outputs": [
        {
          "output_type": "display_data",
          "data": {
            "text/plain": "  AREA Total_Y17_CNT\n1 경기  44          \n2 서울  99          \n3 인천   4          \n4 제주  10          \n5 NA   157          ",
            "text/latex": "A tibble: 5 x 2\n\\begin{tabular}{r|ll}\n AREA & Total\\_Y17\\_CNT\\\\\n <chr> & <dbl>\\\\\n\\hline\n\t 경기 &  44\\\\\n\t 서울 &  99\\\\\n\t 인천 &   4\\\\\n\t 제주 &  10\\\\\n\t NA   & 157\\\\\n\\end{tabular}\n",
            "text/markdown": "\nA tibble: 5 x 2\n\n| AREA &lt;chr&gt; | Total_Y17_CNT &lt;dbl&gt; |\n|---|---|\n| 경기 |  44 |\n| 서울 |  99 |\n| 인천 |   4 |\n| 제주 |  10 |\n| NA   | 157 |\n\n",
            "text/html": "<table>\n<caption>A tibble: 5 x 2</caption>\n<thead>\n\t<tr><th scope=col>AREA</th><th scope=col>Total_Y17_CNT</th></tr>\n\t<tr><th scope=col>&lt;chr&gt;</th><th scope=col>&lt;dbl&gt;</th></tr>\n</thead>\n<tbody>\n\t<tr><td>경기</td><td> 44</td></tr>\n\t<tr><td>서울</td><td> 99</td></tr>\n\t<tr><td>인천</td><td>  4</td></tr>\n\t<tr><td>제주</td><td> 10</td></tr>\n\t<tr><td>NA  </td><td>157</td></tr>\n</tbody>\n</table>\n"
          },
          "metadata": {}
        }
      ]
    },
    {
      "metadata": {},
      "cell_type": "markdown",
      "source": "------"
    },
    {
      "metadata": {
        "ExecuteTime": {
          "start_time": "2019-07-08T11:42:41.405Z",
          "end_time": "2019-07-08T11:42:40.751962Z"
        },
        "trusted": true
      },
      "cell_type": "code",
      "source": "ac <- full_join(amt, cnt, by = \"AREA\")\nac",
      "execution_count": 79,
      "outputs": [
        {
          "output_type": "display_data",
          "data": {
            "text/plain": "  AREA Total_Y17_AMT Total_Y17_CNT\n1 경기 1120000        44          \n2 서울 3157900        99          \n3 인천  930000         4          \n4 제주  275000        10          \n5 NA   5482900       157          ",
            "text/latex": "A tibble: 5 x 3\n\\begin{tabular}{r|lll}\n AREA & Total\\_Y17\\_AMT & Total\\_Y17\\_CNT\\\\\n <chr> & <dbl> & <dbl>\\\\\n\\hline\n\t 경기 & 1120000 &  44\\\\\n\t 서울 & 3157900 &  99\\\\\n\t 인천 &  930000 &   4\\\\\n\t 제주 &  275000 &  10\\\\\n\t NA   & 5482900 & 157\\\\\n\\end{tabular}\n",
            "text/markdown": "\nA tibble: 5 x 3\n\n| AREA &lt;chr&gt; | Total_Y17_AMT &lt;dbl&gt; | Total_Y17_CNT &lt;dbl&gt; |\n|---|---|---|\n| 경기 | 1120000 |  44 |\n| 서울 | 3157900 |  99 |\n| 인천 |  930000 |   4 |\n| 제주 |  275000 |  10 |\n| NA   | 5482900 | 157 |\n\n",
            "text/html": "<table>\n<caption>A tibble: 5 x 3</caption>\n<thead>\n\t<tr><th scope=col>AREA</th><th scope=col>Total_Y17_AMT</th><th scope=col>Total_Y17_CNT</th></tr>\n\t<tr><th scope=col>&lt;chr&gt;</th><th scope=col>&lt;dbl&gt;</th><th scope=col>&lt;dbl&gt;</th></tr>\n</thead>\n<tbody>\n\t<tr><td>경기</td><td>1120000</td><td> 44</td></tr>\n\t<tr><td>서울</td><td>3157900</td><td> 99</td></tr>\n\t<tr><td>인천</td><td> 930000</td><td>  4</td></tr>\n\t<tr><td>제주</td><td> 275000</td><td> 10</td></tr>\n\t<tr><td>NA  </td><td>5482900</td><td>157</td></tr>\n</tbody>\n</table>\n"
          },
          "metadata": {}
        }
      ]
    },
    {
      "metadata": {},
      "cell_type": "markdown",
      "source": "------"
    },
    {
      "metadata": {},
      "cell_type": "markdown",
      "source": "<table style=\"display: inline-block; align: center\">\n    <caption style=\"text-align: center;\">병합 전: A</caption>\n    <tr>\n        <th>ID</th>\n        <th>거주지</th>\n    </tr>\n    <tr>\n        <td>1</td>\n        <td>서울</td>\n    </tr>\n    <tr>\n        <td>2</td>\n        <td>부산</td>\n    </tr>\n    <tr style=\"color: red\">\n        <td style=\"color: red\">3</td>\n        <td>경주</td>\n    </tr>\n</table>\n\n<table style=\"display: inline-block;\">\n    <caption style=\"text-align: center;\">병합 전: B</caption>\n    <tr>\n        <th>ID</th>\n        <th>성별</th>\n    </tr>\n    <tr>\n        <td>1</td>\n        <td>남</td>\n    </tr>\n    <tr>\n        <td>2</td>\n        <td>여</td>\n    </tr>\n    <tr style=\"color: red\">\n        <td>4</td>\n        <td>남</td>\n    </tr>\n</table>\n\n\n1. <code>left_join(A, B, by = \"ID\")</code>\n    - A ∩ B<sup>c</sup>\n    \n    <table style=\"display: inline-block;\">\n        <caption style=\"text-align: center;\">병합 후</caption>\n        <tr>\n            <th>ID</th>\n            <th>거주지</th>\n            <th>성별</th>\n        </tr>\n        <tr>\n            <td>1</td>\n            <td>서울</td>\n            <td>남</td>\n        </tr>\n        <tr>\n            <td>2</td>\n            <td>부산</td>\n            <td>여</td>\n        </tr>\n        <tr style=\"color: red\">\n            <td>3</td>\n            <td>경주</td>\n            <td>NA</td>\n        </tr>\n    </table>\n    \n    \n2. <code>inner_join(A, B, by = \"ID\")</code>\n    - A ∩ B\n    \n    <table style=\"display: inline-block;\">\n        <caption style=\"text-align: center;\">병합 후</caption>\n        <tr>\n            <th>ID</th>\n            <th>거주지</th>\n            <th>성별</th>\n        </tr>\n        <tr>\n            <td>1</td>\n            <td>서울</td>\n            <td>남</td>\n        </tr>\n        <tr>\n            <td>2</td>\n            <td>부산</td>\n            <td>여</td>\n        </tr>\n    </table>\n    \n    \n3. <code>full_join(A, B, by = \"ID\")</code>\n    - A ∪ B\n    \n    <table style=\"display: inline-block;\">\n        <caption style=\"text-align: center;\">병합 후</caption>\n        <tr>\n            <th>ID</th>\n            <th>거주지</th>\n            <th>성별</th>\n        </tr>\n        <tr>\n            <td>1</td>\n            <td>서울</td>\n            <td>남</td>\n        </tr>\n        <tr>\n            <td>2</td>\n            <td>부산</td>\n            <td>여</td>\n        </tr>\n        <tr style=\"color: red\">\n            <td>3</td>\n            <td>경주</td>\n            <td>NA</td>\n        </tr>\n        <tr style=\"color: red\">\n            <td>4</td>\n            <td>NA</td>\n            <td>남</td>\n        </tr>\n    </table>"
    },
    {
      "metadata": {
        "ExecuteTime": {
          "start_time": "2019-07-08T11:43:09.622Z",
          "end_time": "2019-07-08T11:43:09.03025Z"
        },
        "trusted": true
      },
      "cell_type": "code",
      "source": "amtcnt_lj <- left_join(raw_re, ac, by = \"AREA\")  # AREA 행을 기준으로 cnt를 amt에 결합\namtcnt_lj",
      "execution_count": 80,
      "outputs": [
        {
          "output_type": "display_data",
          "data": {
            "text/plain": "   ID SEX AGE AREA Y17_AMT Y17_CNT Y16_AMT Y16_CNT Total_AMT Total_CNT\n1   1 F   50  서울 1300000 50      100000  40      1400000   90       \n2   2 M   40  경기  450000 25      700000  30      1150000   55       \n3   3 F   28  제주  275000 10       50000   5       325000   15       \n4   4 M   50  서울  400000  8      125000   3       525000   11       \n5   5 M   27  서울  845000 30      760000  28      1605000   58       \n6   6 F   23  서울   42900  1      300000   6       342900    7       \n7   7 F   56  경기  150000  2      130000   2       280000    4       \n8   8 F   47  서울  570000 10      400000   7       970000   17       \n9   9 M   20  인천  930000  4      250000   2      1180000    6       \n10 10 F   38  경기  520000 17      550000  16      1070000   33       \n   AMT_Avg.  Over_50yrs Age_range Total_Y17_AMT Total_Y17_CNT\n1   15555.56 Yes        50+       3157900       99           \n2   20909.09 No         40+       1120000       44           \n3   21666.67 No         20+        275000       10           \n4   47727.27 Yes        50+       3157900       99           \n5   27672.41 No         20+       3157900       99           \n6   48985.71 No         20+       3157900       99           \n7   70000.00 Yes        50+       1120000       44           \n8   57058.82 No         40+       3157900       99           \n9  196666.67 No         20+        930000        4           \n10  32424.24 No         30+       1120000       44           ",
            "text/latex": "A tibble: 10 x 15\n\\begin{tabular}{r|lllllllllllllll}\n ID & SEX & AGE & AREA & Y17\\_AMT & Y17\\_CNT & Y16\\_AMT & Y16\\_CNT & Total\\_AMT & Total\\_CNT & AMT\\_Avg. & Over\\_50yrs & Age\\_range & Total\\_Y17\\_AMT & Total\\_Y17\\_CNT\\\\\n <dbl> & <chr> & <dbl> & <chr> & <dbl> & <dbl> & <dbl> & <dbl> & <dbl> & <dbl> & <dbl> & <chr> & <chr> & <dbl> & <dbl>\\\\\n\\hline\n\t  1 & F & 50 & 서울 & 1300000 & 50 & 100000 & 40 & 1400000 & 90 &  15555.56 & Yes & 50+ & 3157900 & 99\\\\\n\t  2 & M & 40 & 경기 &  450000 & 25 & 700000 & 30 & 1150000 & 55 &  20909.09 & No  & 40+ & 1120000 & 44\\\\\n\t  3 & F & 28 & 제주 &  275000 & 10 &  50000 &  5 &  325000 & 15 &  21666.67 & No  & 20+ &  275000 & 10\\\\\n\t  4 & M & 50 & 서울 &  400000 &  8 & 125000 &  3 &  525000 & 11 &  47727.27 & Yes & 50+ & 3157900 & 99\\\\\n\t  5 & M & 27 & 서울 &  845000 & 30 & 760000 & 28 & 1605000 & 58 &  27672.41 & No  & 20+ & 3157900 & 99\\\\\n\t  6 & F & 23 & 서울 &   42900 &  1 & 300000 &  6 &  342900 &  7 &  48985.71 & No  & 20+ & 3157900 & 99\\\\\n\t  7 & F & 56 & 경기 &  150000 &  2 & 130000 &  2 &  280000 &  4 &  70000.00 & Yes & 50+ & 1120000 & 44\\\\\n\t  8 & F & 47 & 서울 &  570000 & 10 & 400000 &  7 &  970000 & 17 &  57058.82 & No  & 40+ & 3157900 & 99\\\\\n\t  9 & M & 20 & 인천 &  930000 &  4 & 250000 &  2 & 1180000 &  6 & 196666.67 & No  & 20+ &  930000 &  4\\\\\n\t 10 & F & 38 & 경기 &  520000 & 17 & 550000 & 16 & 1070000 & 33 &  32424.24 & No  & 30+ & 1120000 & 44\\\\\n\\end{tabular}\n",
            "text/markdown": "\nA tibble: 10 x 15\n\n| ID &lt;dbl&gt; | SEX &lt;chr&gt; | AGE &lt;dbl&gt; | AREA &lt;chr&gt; | Y17_AMT &lt;dbl&gt; | Y17_CNT &lt;dbl&gt; | Y16_AMT &lt;dbl&gt; | Y16_CNT &lt;dbl&gt; | Total_AMT &lt;dbl&gt; | Total_CNT &lt;dbl&gt; | AMT_Avg. &lt;dbl&gt; | Over_50yrs &lt;chr&gt; | Age_range &lt;chr&gt; | Total_Y17_AMT &lt;dbl&gt; | Total_Y17_CNT &lt;dbl&gt; |\n|---|---|---|---|---|---|---|---|---|---|---|---|---|---|---|\n|  1 | F | 50 | 서울 | 1300000 | 50 | 100000 | 40 | 1400000 | 90 |  15555.56 | Yes | 50+ | 3157900 | 99 |\n|  2 | M | 40 | 경기 |  450000 | 25 | 700000 | 30 | 1150000 | 55 |  20909.09 | No  | 40+ | 1120000 | 44 |\n|  3 | F | 28 | 제주 |  275000 | 10 |  50000 |  5 |  325000 | 15 |  21666.67 | No  | 20+ |  275000 | 10 |\n|  4 | M | 50 | 서울 |  400000 |  8 | 125000 |  3 |  525000 | 11 |  47727.27 | Yes | 50+ | 3157900 | 99 |\n|  5 | M | 27 | 서울 |  845000 | 30 | 760000 | 28 | 1605000 | 58 |  27672.41 | No  | 20+ | 3157900 | 99 |\n|  6 | F | 23 | 서울 |   42900 |  1 | 300000 |  6 |  342900 |  7 |  48985.71 | No  | 20+ | 3157900 | 99 |\n|  7 | F | 56 | 경기 |  150000 |  2 | 130000 |  2 |  280000 |  4 |  70000.00 | Yes | 50+ | 1120000 | 44 |\n|  8 | F | 47 | 서울 |  570000 | 10 | 400000 |  7 |  970000 | 17 |  57058.82 | No  | 40+ | 3157900 | 99 |\n|  9 | M | 20 | 인천 |  930000 |  4 | 250000 |  2 | 1180000 |  6 | 196666.67 | No  | 20+ |  930000 |  4 |\n| 10 | F | 38 | 경기 |  520000 | 17 | 550000 | 16 | 1070000 | 33 |  32424.24 | No  | 30+ | 1120000 | 44 |\n\n",
            "text/html": "<table>\n<caption>A tibble: 10 x 15</caption>\n<thead>\n\t<tr><th scope=col>ID</th><th scope=col>SEX</th><th scope=col>AGE</th><th scope=col>AREA</th><th scope=col>Y17_AMT</th><th scope=col>Y17_CNT</th><th scope=col>Y16_AMT</th><th scope=col>Y16_CNT</th><th scope=col>Total_AMT</th><th scope=col>Total_CNT</th><th scope=col>AMT_Avg.</th><th scope=col>Over_50yrs</th><th scope=col>Age_range</th><th scope=col>Total_Y17_AMT</th><th scope=col>Total_Y17_CNT</th></tr>\n\t<tr><th scope=col>&lt;dbl&gt;</th><th scope=col>&lt;chr&gt;</th><th scope=col>&lt;dbl&gt;</th><th scope=col>&lt;chr&gt;</th><th scope=col>&lt;dbl&gt;</th><th scope=col>&lt;dbl&gt;</th><th scope=col>&lt;dbl&gt;</th><th scope=col>&lt;dbl&gt;</th><th scope=col>&lt;dbl&gt;</th><th scope=col>&lt;dbl&gt;</th><th scope=col>&lt;dbl&gt;</th><th scope=col>&lt;chr&gt;</th><th scope=col>&lt;chr&gt;</th><th scope=col>&lt;dbl&gt;</th><th scope=col>&lt;dbl&gt;</th></tr>\n</thead>\n<tbody>\n\t<tr><td> 1</td><td>F</td><td>50</td><td>서울</td><td>1300000</td><td>50</td><td>100000</td><td>40</td><td>1400000</td><td>90</td><td> 15555.56</td><td>Yes</td><td>50+</td><td>3157900</td><td>99</td></tr>\n\t<tr><td> 2</td><td>M</td><td>40</td><td>경기</td><td> 450000</td><td>25</td><td>700000</td><td>30</td><td>1150000</td><td>55</td><td> 20909.09</td><td>No </td><td>40+</td><td>1120000</td><td>44</td></tr>\n\t<tr><td> 3</td><td>F</td><td>28</td><td>제주</td><td> 275000</td><td>10</td><td> 50000</td><td> 5</td><td> 325000</td><td>15</td><td> 21666.67</td><td>No </td><td>20+</td><td> 275000</td><td>10</td></tr>\n\t<tr><td> 4</td><td>M</td><td>50</td><td>서울</td><td> 400000</td><td> 8</td><td>125000</td><td> 3</td><td> 525000</td><td>11</td><td> 47727.27</td><td>Yes</td><td>50+</td><td>3157900</td><td>99</td></tr>\n\t<tr><td> 5</td><td>M</td><td>27</td><td>서울</td><td> 845000</td><td>30</td><td>760000</td><td>28</td><td>1605000</td><td>58</td><td> 27672.41</td><td>No </td><td>20+</td><td>3157900</td><td>99</td></tr>\n\t<tr><td> 6</td><td>F</td><td>23</td><td>서울</td><td>  42900</td><td> 1</td><td>300000</td><td> 6</td><td> 342900</td><td> 7</td><td> 48985.71</td><td>No </td><td>20+</td><td>3157900</td><td>99</td></tr>\n\t<tr><td> 7</td><td>F</td><td>56</td><td>경기</td><td> 150000</td><td> 2</td><td>130000</td><td> 2</td><td> 280000</td><td> 4</td><td> 70000.00</td><td>Yes</td><td>50+</td><td>1120000</td><td>44</td></tr>\n\t<tr><td> 8</td><td>F</td><td>47</td><td>서울</td><td> 570000</td><td>10</td><td>400000</td><td> 7</td><td> 970000</td><td>17</td><td> 57058.82</td><td>No </td><td>40+</td><td>3157900</td><td>99</td></tr>\n\t<tr><td> 9</td><td>M</td><td>20</td><td>인천</td><td> 930000</td><td> 4</td><td>250000</td><td> 2</td><td>1180000</td><td> 6</td><td>196666.67</td><td>No </td><td>20+</td><td> 930000</td><td> 4</td></tr>\n\t<tr><td>10</td><td>F</td><td>38</td><td>경기</td><td> 520000</td><td>17</td><td>550000</td><td>16</td><td>1070000</td><td>33</td><td> 32424.24</td><td>No </td><td>30+</td><td>1120000</td><td>44</td></tr>\n</tbody>\n</table>\n"
          },
          "metadata": {}
        }
      ]
    },
    {
      "metadata": {
        "ExecuteTime": {
          "start_time": "2019-07-08T11:43:24.278Z",
          "end_time": "2019-07-08T11:43:23.651811Z"
        },
        "trusted": true
      },
      "cell_type": "code",
      "source": "amtcnt_lj <- inner_join(raw_re, ac, by = \"AREA\")  # AREA 행을 기준으로 cnt를 amt에 결합\namtcnt_lj",
      "execution_count": 81,
      "outputs": [
        {
          "output_type": "display_data",
          "data": {
            "text/plain": "   ID SEX AGE AREA Y17_AMT Y17_CNT Y16_AMT Y16_CNT Total_AMT Total_CNT\n1   1 F   50  서울 1300000 50      100000  40      1400000   90       \n2   2 M   40  경기  450000 25      700000  30      1150000   55       \n3   3 F   28  제주  275000 10       50000   5       325000   15       \n4   4 M   50  서울  400000  8      125000   3       525000   11       \n5   5 M   27  서울  845000 30      760000  28      1605000   58       \n6   6 F   23  서울   42900  1      300000   6       342900    7       \n7   7 F   56  경기  150000  2      130000   2       280000    4       \n8   8 F   47  서울  570000 10      400000   7       970000   17       \n9   9 M   20  인천  930000  4      250000   2      1180000    6       \n10 10 F   38  경기  520000 17      550000  16      1070000   33       \n   AMT_Avg.  Over_50yrs Age_range Total_Y17_AMT Total_Y17_CNT\n1   15555.56 Yes        50+       3157900       99           \n2   20909.09 No         40+       1120000       44           \n3   21666.67 No         20+        275000       10           \n4   47727.27 Yes        50+       3157900       99           \n5   27672.41 No         20+       3157900       99           \n6   48985.71 No         20+       3157900       99           \n7   70000.00 Yes        50+       1120000       44           \n8   57058.82 No         40+       3157900       99           \n9  196666.67 No         20+        930000        4           \n10  32424.24 No         30+       1120000       44           ",
            "text/latex": "A tibble: 10 x 15\n\\begin{tabular}{r|lllllllllllllll}\n ID & SEX & AGE & AREA & Y17\\_AMT & Y17\\_CNT & Y16\\_AMT & Y16\\_CNT & Total\\_AMT & Total\\_CNT & AMT\\_Avg. & Over\\_50yrs & Age\\_range & Total\\_Y17\\_AMT & Total\\_Y17\\_CNT\\\\\n <dbl> & <chr> & <dbl> & <chr> & <dbl> & <dbl> & <dbl> & <dbl> & <dbl> & <dbl> & <dbl> & <chr> & <chr> & <dbl> & <dbl>\\\\\n\\hline\n\t  1 & F & 50 & 서울 & 1300000 & 50 & 100000 & 40 & 1400000 & 90 &  15555.56 & Yes & 50+ & 3157900 & 99\\\\\n\t  2 & M & 40 & 경기 &  450000 & 25 & 700000 & 30 & 1150000 & 55 &  20909.09 & No  & 40+ & 1120000 & 44\\\\\n\t  3 & F & 28 & 제주 &  275000 & 10 &  50000 &  5 &  325000 & 15 &  21666.67 & No  & 20+ &  275000 & 10\\\\\n\t  4 & M & 50 & 서울 &  400000 &  8 & 125000 &  3 &  525000 & 11 &  47727.27 & Yes & 50+ & 3157900 & 99\\\\\n\t  5 & M & 27 & 서울 &  845000 & 30 & 760000 & 28 & 1605000 & 58 &  27672.41 & No  & 20+ & 3157900 & 99\\\\\n\t  6 & F & 23 & 서울 &   42900 &  1 & 300000 &  6 &  342900 &  7 &  48985.71 & No  & 20+ & 3157900 & 99\\\\\n\t  7 & F & 56 & 경기 &  150000 &  2 & 130000 &  2 &  280000 &  4 &  70000.00 & Yes & 50+ & 1120000 & 44\\\\\n\t  8 & F & 47 & 서울 &  570000 & 10 & 400000 &  7 &  970000 & 17 &  57058.82 & No  & 40+ & 3157900 & 99\\\\\n\t  9 & M & 20 & 인천 &  930000 &  4 & 250000 &  2 & 1180000 &  6 & 196666.67 & No  & 20+ &  930000 &  4\\\\\n\t 10 & F & 38 & 경기 &  520000 & 17 & 550000 & 16 & 1070000 & 33 &  32424.24 & No  & 30+ & 1120000 & 44\\\\\n\\end{tabular}\n",
            "text/markdown": "\nA tibble: 10 x 15\n\n| ID &lt;dbl&gt; | SEX &lt;chr&gt; | AGE &lt;dbl&gt; | AREA &lt;chr&gt; | Y17_AMT &lt;dbl&gt; | Y17_CNT &lt;dbl&gt; | Y16_AMT &lt;dbl&gt; | Y16_CNT &lt;dbl&gt; | Total_AMT &lt;dbl&gt; | Total_CNT &lt;dbl&gt; | AMT_Avg. &lt;dbl&gt; | Over_50yrs &lt;chr&gt; | Age_range &lt;chr&gt; | Total_Y17_AMT &lt;dbl&gt; | Total_Y17_CNT &lt;dbl&gt; |\n|---|---|---|---|---|---|---|---|---|---|---|---|---|---|---|\n|  1 | F | 50 | 서울 | 1300000 | 50 | 100000 | 40 | 1400000 | 90 |  15555.56 | Yes | 50+ | 3157900 | 99 |\n|  2 | M | 40 | 경기 |  450000 | 25 | 700000 | 30 | 1150000 | 55 |  20909.09 | No  | 40+ | 1120000 | 44 |\n|  3 | F | 28 | 제주 |  275000 | 10 |  50000 |  5 |  325000 | 15 |  21666.67 | No  | 20+ |  275000 | 10 |\n|  4 | M | 50 | 서울 |  400000 |  8 | 125000 |  3 |  525000 | 11 |  47727.27 | Yes | 50+ | 3157900 | 99 |\n|  5 | M | 27 | 서울 |  845000 | 30 | 760000 | 28 | 1605000 | 58 |  27672.41 | No  | 20+ | 3157900 | 99 |\n|  6 | F | 23 | 서울 |   42900 |  1 | 300000 |  6 |  342900 |  7 |  48985.71 | No  | 20+ | 3157900 | 99 |\n|  7 | F | 56 | 경기 |  150000 |  2 | 130000 |  2 |  280000 |  4 |  70000.00 | Yes | 50+ | 1120000 | 44 |\n|  8 | F | 47 | 서울 |  570000 | 10 | 400000 |  7 |  970000 | 17 |  57058.82 | No  | 40+ | 3157900 | 99 |\n|  9 | M | 20 | 인천 |  930000 |  4 | 250000 |  2 | 1180000 |  6 | 196666.67 | No  | 20+ |  930000 |  4 |\n| 10 | F | 38 | 경기 |  520000 | 17 | 550000 | 16 | 1070000 | 33 |  32424.24 | No  | 30+ | 1120000 | 44 |\n\n",
            "text/html": "<table>\n<caption>A tibble: 10 x 15</caption>\n<thead>\n\t<tr><th scope=col>ID</th><th scope=col>SEX</th><th scope=col>AGE</th><th scope=col>AREA</th><th scope=col>Y17_AMT</th><th scope=col>Y17_CNT</th><th scope=col>Y16_AMT</th><th scope=col>Y16_CNT</th><th scope=col>Total_AMT</th><th scope=col>Total_CNT</th><th scope=col>AMT_Avg.</th><th scope=col>Over_50yrs</th><th scope=col>Age_range</th><th scope=col>Total_Y17_AMT</th><th scope=col>Total_Y17_CNT</th></tr>\n\t<tr><th scope=col>&lt;dbl&gt;</th><th scope=col>&lt;chr&gt;</th><th scope=col>&lt;dbl&gt;</th><th scope=col>&lt;chr&gt;</th><th scope=col>&lt;dbl&gt;</th><th scope=col>&lt;dbl&gt;</th><th scope=col>&lt;dbl&gt;</th><th scope=col>&lt;dbl&gt;</th><th scope=col>&lt;dbl&gt;</th><th scope=col>&lt;dbl&gt;</th><th scope=col>&lt;dbl&gt;</th><th scope=col>&lt;chr&gt;</th><th scope=col>&lt;chr&gt;</th><th scope=col>&lt;dbl&gt;</th><th scope=col>&lt;dbl&gt;</th></tr>\n</thead>\n<tbody>\n\t<tr><td> 1</td><td>F</td><td>50</td><td>서울</td><td>1300000</td><td>50</td><td>100000</td><td>40</td><td>1400000</td><td>90</td><td> 15555.56</td><td>Yes</td><td>50+</td><td>3157900</td><td>99</td></tr>\n\t<tr><td> 2</td><td>M</td><td>40</td><td>경기</td><td> 450000</td><td>25</td><td>700000</td><td>30</td><td>1150000</td><td>55</td><td> 20909.09</td><td>No </td><td>40+</td><td>1120000</td><td>44</td></tr>\n\t<tr><td> 3</td><td>F</td><td>28</td><td>제주</td><td> 275000</td><td>10</td><td> 50000</td><td> 5</td><td> 325000</td><td>15</td><td> 21666.67</td><td>No </td><td>20+</td><td> 275000</td><td>10</td></tr>\n\t<tr><td> 4</td><td>M</td><td>50</td><td>서울</td><td> 400000</td><td> 8</td><td>125000</td><td> 3</td><td> 525000</td><td>11</td><td> 47727.27</td><td>Yes</td><td>50+</td><td>3157900</td><td>99</td></tr>\n\t<tr><td> 5</td><td>M</td><td>27</td><td>서울</td><td> 845000</td><td>30</td><td>760000</td><td>28</td><td>1605000</td><td>58</td><td> 27672.41</td><td>No </td><td>20+</td><td>3157900</td><td>99</td></tr>\n\t<tr><td> 6</td><td>F</td><td>23</td><td>서울</td><td>  42900</td><td> 1</td><td>300000</td><td> 6</td><td> 342900</td><td> 7</td><td> 48985.71</td><td>No </td><td>20+</td><td>3157900</td><td>99</td></tr>\n\t<tr><td> 7</td><td>F</td><td>56</td><td>경기</td><td> 150000</td><td> 2</td><td>130000</td><td> 2</td><td> 280000</td><td> 4</td><td> 70000.00</td><td>Yes</td><td>50+</td><td>1120000</td><td>44</td></tr>\n\t<tr><td> 8</td><td>F</td><td>47</td><td>서울</td><td> 570000</td><td>10</td><td>400000</td><td> 7</td><td> 970000</td><td>17</td><td> 57058.82</td><td>No </td><td>40+</td><td>3157900</td><td>99</td></tr>\n\t<tr><td> 9</td><td>M</td><td>20</td><td>인천</td><td> 930000</td><td> 4</td><td>250000</td><td> 2</td><td>1180000</td><td> 6</td><td>196666.67</td><td>No </td><td>20+</td><td> 930000</td><td> 4</td></tr>\n\t<tr><td>10</td><td>F</td><td>38</td><td>경기</td><td> 520000</td><td>17</td><td>550000</td><td>16</td><td>1070000</td><td>33</td><td> 32424.24</td><td>No </td><td>30+</td><td>1120000</td><td>44</td></tr>\n</tbody>\n</table>\n"
          },
          "metadata": {}
        }
      ]
    },
    {
      "metadata": {
        "ExecuteTime": {
          "start_time": "2019-07-08T11:43:38.207Z",
          "end_time": "2019-07-08T11:43:37.56916Z"
        },
        "trusted": true
      },
      "cell_type": "code",
      "source": "amtcnt_fj <- full_join(raw_re, ac, by = \"AREA\")  # AREA 행을 기준으로 모든 값을 결합\namtcnt_fj",
      "execution_count": 82,
      "outputs": [
        {
          "output_type": "display_data",
          "data": {
            "text/plain": "   ID SEX AGE AREA Y17_AMT Y17_CNT Y16_AMT Y16_CNT Total_AMT Total_CNT\n1   1 F   50  서울 1300000 50      100000  40      1400000   90       \n2   2 M   40  경기  450000 25      700000  30      1150000   55       \n3   3 F   28  제주  275000 10       50000   5       325000   15       \n4   4 M   50  서울  400000  8      125000   3       525000   11       \n5   5 M   27  서울  845000 30      760000  28      1605000   58       \n6   6 F   23  서울   42900  1      300000   6       342900    7       \n7   7 F   56  경기  150000  2      130000   2       280000    4       \n8   8 F   47  서울  570000 10      400000   7       970000   17       \n9   9 M   20  인천  930000  4      250000   2      1180000    6       \n10 10 F   38  경기  520000 17      550000  16      1070000   33       \n11 NA NA  NA  NA        NA NA          NA  NA           NA   NA       \n   AMT_Avg.  Over_50yrs Age_range Total_Y17_AMT Total_Y17_CNT\n1   15555.56 Yes        50+       3157900        99          \n2   20909.09 No         40+       1120000        44          \n3   21666.67 No         20+        275000        10          \n4   47727.27 Yes        50+       3157900        99          \n5   27672.41 No         20+       3157900        99          \n6   48985.71 No         20+       3157900        99          \n7   70000.00 Yes        50+       1120000        44          \n8   57058.82 No         40+       3157900        99          \n9  196666.67 No         20+        930000         4          \n10  32424.24 No         30+       1120000        44          \n11        NA NA         NA        5482900       157          ",
            "text/latex": "A tibble: 11 x 15\n\\begin{tabular}{r|lllllllllllllll}\n ID & SEX & AGE & AREA & Y17\\_AMT & Y17\\_CNT & Y16\\_AMT & Y16\\_CNT & Total\\_AMT & Total\\_CNT & AMT\\_Avg. & Over\\_50yrs & Age\\_range & Total\\_Y17\\_AMT & Total\\_Y17\\_CNT\\\\\n <dbl> & <chr> & <dbl> & <chr> & <dbl> & <dbl> & <dbl> & <dbl> & <dbl> & <dbl> & <dbl> & <chr> & <chr> & <dbl> & <dbl>\\\\\n\\hline\n\t  1 & F  & 50 & 서울 & 1300000 & 50 & 100000 & 40 & 1400000 & 90 &  15555.56 & Yes & 50+ & 3157900 &  99\\\\\n\t  2 & M  & 40 & 경기 &  450000 & 25 & 700000 & 30 & 1150000 & 55 &  20909.09 & No  & 40+ & 1120000 &  44\\\\\n\t  3 & F  & 28 & 제주 &  275000 & 10 &  50000 &  5 &  325000 & 15 &  21666.67 & No  & 20+ &  275000 &  10\\\\\n\t  4 & M  & 50 & 서울 &  400000 &  8 & 125000 &  3 &  525000 & 11 &  47727.27 & Yes & 50+ & 3157900 &  99\\\\\n\t  5 & M  & 27 & 서울 &  845000 & 30 & 760000 & 28 & 1605000 & 58 &  27672.41 & No  & 20+ & 3157900 &  99\\\\\n\t  6 & F  & 23 & 서울 &   42900 &  1 & 300000 &  6 &  342900 &  7 &  48985.71 & No  & 20+ & 3157900 &  99\\\\\n\t  7 & F  & 56 & 경기 &  150000 &  2 & 130000 &  2 &  280000 &  4 &  70000.00 & Yes & 50+ & 1120000 &  44\\\\\n\t  8 & F  & 47 & 서울 &  570000 & 10 & 400000 &  7 &  970000 & 17 &  57058.82 & No  & 40+ & 3157900 &  99\\\\\n\t  9 & M  & 20 & 인천 &  930000 &  4 & 250000 &  2 & 1180000 &  6 & 196666.67 & No  & 20+ &  930000 &   4\\\\\n\t 10 & F  & 38 & 경기 &  520000 & 17 & 550000 & 16 & 1070000 & 33 &  32424.24 & No  & 30+ & 1120000 &  44\\\\\n\t NA & NA & NA & NA   &      NA & NA &     NA & NA &      NA & NA &        NA & NA  & NA  & 5482900 & 157\\\\\n\\end{tabular}\n",
            "text/markdown": "\nA tibble: 11 x 15\n\n| ID &lt;dbl&gt; | SEX &lt;chr&gt; | AGE &lt;dbl&gt; | AREA &lt;chr&gt; | Y17_AMT &lt;dbl&gt; | Y17_CNT &lt;dbl&gt; | Y16_AMT &lt;dbl&gt; | Y16_CNT &lt;dbl&gt; | Total_AMT &lt;dbl&gt; | Total_CNT &lt;dbl&gt; | AMT_Avg. &lt;dbl&gt; | Over_50yrs &lt;chr&gt; | Age_range &lt;chr&gt; | Total_Y17_AMT &lt;dbl&gt; | Total_Y17_CNT &lt;dbl&gt; |\n|---|---|---|---|---|---|---|---|---|---|---|---|---|---|---|\n|  1 | F  | 50 | 서울 | 1300000 | 50 | 100000 | 40 | 1400000 | 90 |  15555.56 | Yes | 50+ | 3157900 |  99 |\n|  2 | M  | 40 | 경기 |  450000 | 25 | 700000 | 30 | 1150000 | 55 |  20909.09 | No  | 40+ | 1120000 |  44 |\n|  3 | F  | 28 | 제주 |  275000 | 10 |  50000 |  5 |  325000 | 15 |  21666.67 | No  | 20+ |  275000 |  10 |\n|  4 | M  | 50 | 서울 |  400000 |  8 | 125000 |  3 |  525000 | 11 |  47727.27 | Yes | 50+ | 3157900 |  99 |\n|  5 | M  | 27 | 서울 |  845000 | 30 | 760000 | 28 | 1605000 | 58 |  27672.41 | No  | 20+ | 3157900 |  99 |\n|  6 | F  | 23 | 서울 |   42900 |  1 | 300000 |  6 |  342900 |  7 |  48985.71 | No  | 20+ | 3157900 |  99 |\n|  7 | F  | 56 | 경기 |  150000 |  2 | 130000 |  2 |  280000 |  4 |  70000.00 | Yes | 50+ | 1120000 |  44 |\n|  8 | F  | 47 | 서울 |  570000 | 10 | 400000 |  7 |  970000 | 17 |  57058.82 | No  | 40+ | 3157900 |  99 |\n|  9 | M  | 20 | 인천 |  930000 |  4 | 250000 |  2 | 1180000 |  6 | 196666.67 | No  | 20+ |  930000 |   4 |\n| 10 | F  | 38 | 경기 |  520000 | 17 | 550000 | 16 | 1070000 | 33 |  32424.24 | No  | 30+ | 1120000 |  44 |\n| NA | NA | NA | NA   |      NA | NA |     NA | NA |      NA | NA |        NA | NA  | NA  | 5482900 | 157 |\n\n",
            "text/html": "<table>\n<caption>A tibble: 11 x 15</caption>\n<thead>\n\t<tr><th scope=col>ID</th><th scope=col>SEX</th><th scope=col>AGE</th><th scope=col>AREA</th><th scope=col>Y17_AMT</th><th scope=col>Y17_CNT</th><th scope=col>Y16_AMT</th><th scope=col>Y16_CNT</th><th scope=col>Total_AMT</th><th scope=col>Total_CNT</th><th scope=col>AMT_Avg.</th><th scope=col>Over_50yrs</th><th scope=col>Age_range</th><th scope=col>Total_Y17_AMT</th><th scope=col>Total_Y17_CNT</th></tr>\n\t<tr><th scope=col>&lt;dbl&gt;</th><th scope=col>&lt;chr&gt;</th><th scope=col>&lt;dbl&gt;</th><th scope=col>&lt;chr&gt;</th><th scope=col>&lt;dbl&gt;</th><th scope=col>&lt;dbl&gt;</th><th scope=col>&lt;dbl&gt;</th><th scope=col>&lt;dbl&gt;</th><th scope=col>&lt;dbl&gt;</th><th scope=col>&lt;dbl&gt;</th><th scope=col>&lt;dbl&gt;</th><th scope=col>&lt;chr&gt;</th><th scope=col>&lt;chr&gt;</th><th scope=col>&lt;dbl&gt;</th><th scope=col>&lt;dbl&gt;</th></tr>\n</thead>\n<tbody>\n\t<tr><td> 1</td><td>F </td><td>50</td><td>서울</td><td>1300000</td><td>50</td><td>100000</td><td>40</td><td>1400000</td><td>90</td><td> 15555.56</td><td>Yes</td><td>50+</td><td>3157900</td><td> 99</td></tr>\n\t<tr><td> 2</td><td>M </td><td>40</td><td>경기</td><td> 450000</td><td>25</td><td>700000</td><td>30</td><td>1150000</td><td>55</td><td> 20909.09</td><td>No </td><td>40+</td><td>1120000</td><td> 44</td></tr>\n\t<tr><td> 3</td><td>F </td><td>28</td><td>제주</td><td> 275000</td><td>10</td><td> 50000</td><td> 5</td><td> 325000</td><td>15</td><td> 21666.67</td><td>No </td><td>20+</td><td> 275000</td><td> 10</td></tr>\n\t<tr><td> 4</td><td>M </td><td>50</td><td>서울</td><td> 400000</td><td> 8</td><td>125000</td><td> 3</td><td> 525000</td><td>11</td><td> 47727.27</td><td>Yes</td><td>50+</td><td>3157900</td><td> 99</td></tr>\n\t<tr><td> 5</td><td>M </td><td>27</td><td>서울</td><td> 845000</td><td>30</td><td>760000</td><td>28</td><td>1605000</td><td>58</td><td> 27672.41</td><td>No </td><td>20+</td><td>3157900</td><td> 99</td></tr>\n\t<tr><td> 6</td><td>F </td><td>23</td><td>서울</td><td>  42900</td><td> 1</td><td>300000</td><td> 6</td><td> 342900</td><td> 7</td><td> 48985.71</td><td>No </td><td>20+</td><td>3157900</td><td> 99</td></tr>\n\t<tr><td> 7</td><td>F </td><td>56</td><td>경기</td><td> 150000</td><td> 2</td><td>130000</td><td> 2</td><td> 280000</td><td> 4</td><td> 70000.00</td><td>Yes</td><td>50+</td><td>1120000</td><td> 44</td></tr>\n\t<tr><td> 8</td><td>F </td><td>47</td><td>서울</td><td> 570000</td><td>10</td><td>400000</td><td> 7</td><td> 970000</td><td>17</td><td> 57058.82</td><td>No </td><td>40+</td><td>3157900</td><td> 99</td></tr>\n\t<tr><td> 9</td><td>M </td><td>20</td><td>인천</td><td> 930000</td><td> 4</td><td>250000</td><td> 2</td><td>1180000</td><td> 6</td><td>196666.67</td><td>No </td><td>20+</td><td> 930000</td><td>  4</td></tr>\n\t<tr><td>10</td><td>F </td><td>38</td><td>경기</td><td> 520000</td><td>17</td><td>550000</td><td>16</td><td>1070000</td><td>33</td><td> 32424.24</td><td>No </td><td>30+</td><td>1120000</td><td> 44</td></tr>\n\t<tr><td>NA</td><td>NA</td><td>NA</td><td>NA  </td><td>     NA</td><td>NA</td><td>    NA</td><td>NA</td><td>     NA</td><td>NA</td><td>       NA</td><td>NA </td><td>NA </td><td>5482900</td><td>157</td></tr>\n</tbody>\n</table>\n"
          },
          "metadata": {}
        }
      ]
    },
    {
      "metadata": {
        "ExecuteTime": {
          "start_time": "2019-07-08T12:43:02.862Z",
          "end_time": "2019-07-08T12:43:02.100703Z"
        },
        "trusted": true
      },
      "cell_type": "code",
      "source": "amtcnt_fj %>% summarise(SUM_AMT = sum(Total_AMT))  # 결측값(NA) 때문에 합계가 NA로 나옴.",
      "execution_count": 89,
      "outputs": [
        {
          "output_type": "display_data",
          "data": {
            "text/plain": "  SUM_AMT\n1 NA     ",
            "text/latex": "A tibble: 1 x 1\n\\begin{tabular}{r|l}\n SUM\\_AMT\\\\\n <dbl>\\\\\n\\hline\n\t NA\\\\\n\\end{tabular}\n",
            "text/markdown": "\nA tibble: 1 x 1\n\n| SUM_AMT &lt;dbl&gt; |\n|---|\n| NA |\n\n",
            "text/html": "<table>\n<caption>A tibble: 1 x 1</caption>\n<thead>\n\t<tr><th scope=col>SUM_AMT</th></tr>\n\t<tr><th scope=col>&lt;dbl&gt;</th></tr>\n</thead>\n<tbody>\n\t<tr><td>NA</td></tr>\n</tbody>\n</table>\n"
          },
          "metadata": {}
        }
      ]
    },
    {
      "metadata": {
        "ExecuteTime": {
          "start_time": "2019-07-08T12:41:19.318Z",
          "end_time": "2019-07-08T12:41:18.571446Z"
        },
        "trusted": true
      },
      "cell_type": "code",
      "source": "amtcnt_fj %>% summarise(SUM_AMT = sum(Total_AMT, na.rm = TRUE))  # 해결법(na.rm(remove) = TRUE)",
      "execution_count": 91,
      "outputs": [
        {
          "output_type": "display_data",
          "data": {
            "text/plain": "  SUM_AMT\n1 8847900",
            "text/latex": "A tibble: 1 x 1\n\\begin{tabular}{r|l}\n SUM\\_AMT\\\\\n <dbl>\\\\\n\\hline\n\t 8847900\\\\\n\\end{tabular}\n",
            "text/markdown": "\nA tibble: 1 x 1\n\n| SUM_AMT &lt;dbl&gt; |\n|---|\n| 8847900 |\n\n",
            "text/html": "<table>\n<caption>A tibble: 1 x 1</caption>\n<thead>\n\t<tr><th scope=col>SUM_AMT</th></tr>\n\t<tr><th scope=col>&lt;dbl&gt;</th></tr>\n</thead>\n<tbody>\n\t<tr><td>8847900</td></tr>\n</tbody>\n</table>\n"
          },
          "metadata": {}
        }
      ]
    },
    {
      "metadata": {},
      "cell_type": "markdown",
      "source": "------"
    },
    {
      "metadata": {},
      "cell_type": "markdown",
      "source": "<html>\n    <head>\n        <style type=\"text/css\">\n            #table_header{\n                text-align: center;\n                color: crimson;\n            }\n            #table_data{\n                text-align: left;\n            }\n        </style>\n    </head>\n    <body>\n        <table>\n            <caption style=\"text-align: center\">기술통계함수의 종류</caption>\n            <thead>\n                <th id=table_header style=\"text-align: center;\">기술통계함수</th>\n                <th id=table_header style=\"text-align: center;\">기능</th>\n                <th id=table_header style=\"text-align: center;\">설명</th>\n            </thead>\n            <tbody>\n                <tr>\n                    <td style=\"text-align: left;\"><code>mean()</code></td>\n                    <td style=\"text-align: center;\">평균</td>\n                    <td style=\"text-align: left;\">데이터를 모두 더한 후 개수로 나눈 값</td>\n                </tr>\n                <tr>\n                    <td style=\"text-align: left;\"><code>median()</code></td>\n                    <td style=\"text-align: center;\">중앙값(중위수)</td>\n                    <td style=\"text-align: left;\">데이터를 크기 순으로 정렬했을 때 가운데에 위치하는 값<br>만약 데이터의 개수가 짝수이면 2개의 중앙값의 평균을 중앙값으로 사용한다.</td>\n                </tr>\n                <tr>\n                    <td style=\"text-align: left;\"><code>max()</code></td>\n                    <td style=\"text-align: center;\">최댓값</td>\n                    <td style=\"text-align: left;\">데이터를 크기 순으로 정렬했을 때 가장 큰 값</td>\n                </tr>\n                <tr>\n                    <td style=\"text-align: left;\"><code>min()</code></td>\n                    <td style=\"text-align: center;\">최솟값</td>\n                    <td style=\"text-align: left;\">데이터를 크기 순으로 정렬했을 때 가장 작은 값</td>\n                </tr>\n                <tr>\n                    <td style=\"text-align: left;\"><code>range()</code></td>\n                    <td style=\"text-align: center;\">범위</td>\n                    <td style=\"text-align: left;\">최댓값에서 최솟값까지의 범위</td>\n                </tr>\n                <tr>\n                    <td style=\"text-align: left;\"><code>quantile()</code></td>\n                    <td style=\"text-align: center;\">분위수</td>\n                    <td style=\"text-align: left;\">데이터를 크기 순으로 정렬했을 때 하위 25%, 50%, 75%에 위치한 데이터의 값<br>probs 옵션에 따라 \"제1(Q1), 2(Q2), 3(Q3)사분위수\"로 구분한다.</td>\n                </tr>\n                <tr>\n                    <td style=\"text-align: left;\"><code>var()</code></td>\n                    <td style=\"text-align: center;\">분산</td>\n                    <td style=\"text-align: left;\">데이터가 평균으로부터 퍼져 있는 정도를 나타내는 통계량<br>분산값이 작을수록 데이터가 평균값에 모여 있다.</td>\n                </tr>\n                <tr>\n                    <td style=\"text-align: left;\"><code>sd()</code></td>\n                    <td style=\"text-align: center;\">표준편차</td>\n                    <td style=\"text-align: left;\">데이터 값이 퍼져 있는 정도를 나타내는 통계량<br>표준편차값이 클수록 데이터가 넓게 퍼져 있다.</td>\n                </tr>\n                <tr>\n                    <td style=\"text-align: left;\"><code>kurtosi()</code></td>\n                    <td style=\"text-align: center;\">첨도(Kurtosis)</td>\n                    <td style=\"text-align: left;\">데이터 분포가 뾰족한 정도를 나타내는 통계량<br>첨도가 0보다 크면 정규분포에 비해 뾰족하고, 0보다 작으면 정규분포에 비해 평평하다.</td>\n                </tr>\n                <tr>\n                    <td style=\"text-align: left;\"><code>skew()</code></td>\n                    <td style=\"text-align: center;\">왜도(Skewness)</td>\n                    <td style=\"text-align: left;\">데이터 분포의 비대칭성을 나타내는 통계량<br>왜도의 절댓값이 클수록 비대칭이 심하다.<br>왜도가 음수이면 왼쪽으로, 양수이면 오른쪽으로 꼬리가 길어진다.</td>\n                </tr>\n            </tbody>\n        </table>\n    </body>\n</html>"
    },
    {
      "metadata": {
        "trusted": true
      },
      "cell_type": "code",
      "source": "",
      "execution_count": null,
      "outputs": []
    }
  ],
  "metadata": {
    "kernelspec": {
      "name": "r",
      "display_name": "R",
      "language": "R"
    },
    "language_info": {
      "mimetype": "text/x-r-source",
      "name": "R",
      "pygments_lexer": "r",
      "version": "3.5.3",
      "file_extension": ".r",
      "codemirror_mode": "r"
    }
  },
  "nbformat": 4,
  "nbformat_minor": 2
}